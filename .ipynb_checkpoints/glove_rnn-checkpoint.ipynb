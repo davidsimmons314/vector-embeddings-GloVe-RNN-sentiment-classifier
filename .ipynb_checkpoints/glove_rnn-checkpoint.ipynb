{
 "cells": [
  {
   "cell_type": "code",
   "execution_count": 1,
   "id": "e8e06a93-0560-4c54-a33b-1e2159fc5c1f",
   "metadata": {},
   "outputs": [
    {
     "name": "stdout",
     "output_type": "stream",
     "text": [
      "cuda:0\n"
     ]
    }
   ],
   "source": [
    "import torch\n",
    "import torch.nn as nn\n",
    "import torch.nn.functional as F\n",
    "import torch.optim as optim\n",
    "\n",
    "import os\n",
    "from tqdm.notebook import tqdm\n",
    "import numpy as np\n",
    "import re\n",
    "import random\n",
    "from datetime import datetime\n",
    "import matplotlib.pyplot as plt\n",
    "\n",
    "torch.manual_seed(1)\n",
    "torch.cuda.empty_cache()\n",
    "\n",
    "device = torch.device(\"cuda:0\" if torch.cuda.is_available() else \"cpu\")\n",
    "print(device)"
   ]
  },
  {
   "cell_type": "code",
   "execution_count": 2,
   "id": "aa8e46b5-42c9-4417-9d82-142994752d14",
   "metadata": {},
   "outputs": [
    {
     "data": {
      "application/vnd.jupyter.widget-view+json": {
       "model_id": "8d0fd6e9480d4ea9a133d94048a7f710",
       "version_major": 2,
       "version_minor": 0
      },
      "text/plain": [
       "  0%|          | 0/400000 [00:00<?, ?it/s]"
      ]
     },
     "metadata": {},
     "output_type": "display_data"
    }
   ],
   "source": [
    "# read in vocab and embeddings from GloVe\n",
    "glove_path = 'glove.6B.50d.txt'\n",
    "\n",
    "embedding_dim = 50\n",
    "glove_vocab_size = 400000\n",
    "\n",
    "glove_vocab = []\n",
    "glove_vectors = torch.empty((glove_vocab_size, embedding_dim), dtype=torch.float)\n",
    "\n",
    "with open(glove_path, 'r', encoding='UTF-8') as f:\n",
    "    for i, line in enumerate(tqdm(f.readlines())):\n",
    "        parsed_line = line.split()\n",
    "        glove_vocab += [parsed_line[0]]\n",
    "        glove_vectors[i,:] = torch.reshape(torch.tensor(list(map(float, parsed_line[1:])), dtype=torch.float), (1,embedding_dim))"
   ]
  },
  {
   "cell_type": "code",
   "execution_count": 3,
   "id": "ba8ccef1-5e68-4cf0-89df-feb5d695ee27",
   "metadata": {},
   "outputs": [],
   "source": [
    "glove_idx = torch.LongTensor(torch.zeros(glove_vocab_size,dtype=int))\n",
    "for idx in range(glove_vocab_size):\n",
    "    glove_idx[idx] = idx + 1"
   ]
  },
  {
   "cell_type": "code",
   "execution_count": 4,
   "id": "e55c39f6-78a3-4f45-b357-36894e891548",
   "metadata": {},
   "outputs": [
    {
     "data": {
      "application/vnd.jupyter.widget-view+json": {
       "model_id": "e4f7aa1448424fd788807c917b9127dd",
       "version_major": 2,
       "version_minor": 0
      },
      "text/plain": [
       "  0%|          | 0/705 [00:00<?, ?it/s]"
      ]
     },
     "metadata": {},
     "output_type": "display_data"
    },
    {
     "data": {
      "application/vnd.jupyter.widget-view+json": {
       "model_id": "594c2e1f6ab54278935aef97c97f1f54",
       "version_major": 2,
       "version_minor": 0
      },
      "text/plain": [
       "  0%|          | 0/695 [00:00<?, ?it/s]"
      ]
     },
     "metadata": {},
     "output_type": "display_data"
    },
    {
     "data": {
      "application/vnd.jupyter.widget-view+json": {
       "model_id": "1dea0e11f7774318a66e928f0ecef360",
       "version_major": 2,
       "version_minor": 0
      },
      "text/plain": [
       "  0%|          | 0/1400 [00:00<?, ?it/s]"
      ]
     },
     "metadata": {},
     "output_type": "display_data"
    }
   ],
   "source": [
    "vocab = ['<pad>'] + glove_vocab\n",
    "padding_index = 0\n",
    "\n",
    "vocab_dict = {}\n",
    "for idx in range(len(vocab)):\n",
    "    vocab_dict[vocab[idx]] = idx\n",
    "    \n",
    "# read in train filepath\n",
    "train_dir = 'review_polarity/txt_sentoken/train'\n",
    "train_data_unshuffled = []\n",
    "\n",
    "pos_dir = train_dir + '/pos'\n",
    "for filename in tqdm(os.listdir(pos_dir)):\n",
    "    if filename.endswith(\".txt\"):\n",
    "        filepath = pos_dir + '/' + filename\n",
    "        train_data_unshuffled += [(filepath, 1)]\n",
    "\n",
    "neg_dir = train_dir + '/neg'\n",
    "for filename in tqdm(os.listdir(neg_dir)):\n",
    "    if filename.endswith(\".txt\"):\n",
    "        filepath = neg_dir + '/' + filename\n",
    "        train_data_unshuffled += [(filepath, 0)]\n",
    "        \n",
    "train_data = random.sample(train_data_unshuffled, len(train_data_unshuffled))\n",
    "train_size = len(train_data)\n",
    "\n",
    "train_vocab = []\n",
    "for filename, _ in tqdm(train_data):\n",
    "    with open(filename, 'r', encoding='UTF-8') as f:\n",
    "        for line in f.readlines():\n",
    "            parsed_line = line.split()\n",
    "            for token in parsed_line:\n",
    "                if vocab_dict.get(token) == None:\n",
    "                    token_split = re.split('([^a-zA-Z0-9])', token)\n",
    "                    for sub_token in token_split:\n",
    "                        if vocab_dict.get(sub_token) == None:\n",
    "                            if sub_token != '':\n",
    "                                vocab_dict[sub_token] = len(vocab_dict)\n",
    "                                vocab += [sub_token]\n",
    "                                train_vocab += [sub_token]\n",
    "\n",
    "vocab_size = len(vocab)"
   ]
  },
  {
   "cell_type": "code",
   "execution_count": 5,
   "id": "68c53726-b175-494e-abc6-5ffe8a1e6d2b",
   "metadata": {},
   "outputs": [
    {
     "data": {
      "application/vnd.jupyter.widget-view+json": {
       "model_id": "adcdf742778345928449ccd3b5705d27",
       "version_major": 2,
       "version_minor": 0
      },
      "text/plain": [
       "0it [00:00, ?it/s]"
      ]
     },
     "metadata": {},
     "output_type": "display_data"
    }
   ],
   "source": [
    "# read in train dataset\n",
    "train_dir = 'review_polarity/txt_sentoken/train'\n",
    "\n",
    "train_file_to_idx = {}\n",
    "train_idx_to_file = np.empty(train_size, dtype=np.dtype('U100'))\n",
    "train_idx_to_label = np.empty(train_size, dtype=int)\n",
    "\n",
    "train_idx_to_vector = {}\n",
    "train_idx_to_length = np.empty(train_size, dtype=int)\n",
    "\n",
    "for idx, (filename, label) in tqdm(enumerate(train_data)):\n",
    "    train_file_to_idx[filename] = idx\n",
    "    train_idx_to_file[idx] = filename\n",
    "    train_idx_to_label[idx] = label\n",
    "    \n",
    "    vector = []\n",
    "    with open(filename, 'r', encoding='UTF-8') as f:\n",
    "        for line in f.readlines():\n",
    "            parsed_line = line.split()\n",
    "            for token in parsed_line:\n",
    "                if vocab_dict.get(token) != None:\n",
    "                    vector += [vocab_dict[token]]\n",
    "                else:\n",
    "                    token_split = re.split('([^a-zA-Z0-9])', token)\n",
    "                    for sub_token in token_split:\n",
    "                        if vocab_dict.get(sub_token) != None and sub_token != '':\n",
    "                            vector += [vocab_dict[sub_token]]\n",
    "    train_idx_to_vector[idx] = vector\n",
    "    train_idx_to_length[idx] = len(vector)\n",
    "    \n",
    "train_idx = list(range(train_size))"
   ]
  },
  {
   "cell_type": "code",
   "execution_count": 6,
   "id": "a2aeb706-3a35-47c5-8c2f-43316298f256",
   "metadata": {},
   "outputs": [
    {
     "data": {
      "application/vnd.jupyter.widget-view+json": {
       "model_id": "f2e9edfb73f44a4b90355c56d11783c4",
       "version_major": 2,
       "version_minor": 0
      },
      "text/plain": [
       "  0%|          | 0/146 [00:00<?, ?it/s]"
      ]
     },
     "metadata": {},
     "output_type": "display_data"
    },
    {
     "data": {
      "application/vnd.jupyter.widget-view+json": {
       "model_id": "be9a21d4ef53455a92e8e25b373e8f59",
       "version_major": 2,
       "version_minor": 0
      },
      "text/plain": [
       "  0%|          | 0/154 [00:00<?, ?it/s]"
      ]
     },
     "metadata": {},
     "output_type": "display_data"
    }
   ],
   "source": [
    "# read in dev filepath\n",
    "dev_dir = 'review_polarity/txt_sentoken/dev'\n",
    "dev_data_unshuffled = []\n",
    "\n",
    "pos_dir = dev_dir + '/pos'\n",
    "for filename in tqdm(os.listdir(pos_dir)):\n",
    "    if filename.endswith(\".txt\"):\n",
    "        filepath = pos_dir + '/' + filename\n",
    "        dev_data_unshuffled += [(filepath, 1)]\n",
    "\n",
    "neg_dir = dev_dir + '/neg'\n",
    "for filename in tqdm(os.listdir(neg_dir)):\n",
    "    if filename.endswith(\".txt\"):\n",
    "        filepath = neg_dir + '/' + filename\n",
    "        dev_data_unshuffled += [(filepath, 0)]\n",
    "        \n",
    "dev_data = random.sample(train_data_unshuffled, len(dev_data_unshuffled))\n",
    "dev_size = len(dev_data)"
   ]
  },
  {
   "cell_type": "code",
   "execution_count": 7,
   "id": "8cf554f8-1c10-4738-a119-099dd8daacc5",
   "metadata": {},
   "outputs": [
    {
     "data": {
      "application/vnd.jupyter.widget-view+json": {
       "model_id": "e1065cdd3a3b4b1cb9e43e4f0bdc4384",
       "version_major": 2,
       "version_minor": 0
      },
      "text/plain": [
       "0it [00:00, ?it/s]"
      ]
     },
     "metadata": {},
     "output_type": "display_data"
    }
   ],
   "source": [
    "# read in dev dataset\n",
    "dev_dir = 'review_polarity/txt_sentoken/dev'\n",
    "\n",
    "dev_file_to_idx = {}\n",
    "dev_idx_to_file = np.empty(dev_size, dtype=np.dtype('U100'))\n",
    "dev_idx_to_label = np.empty(dev_size, dtype=int)\n",
    "\n",
    "dev_idx_to_vector = {}\n",
    "dev_idx_to_length = np.empty(train_size, dtype=int)\n",
    "\n",
    "for idx, (filename, label) in tqdm(enumerate(dev_data)):\n",
    "    dev_file_to_idx[filename] = idx\n",
    "    dev_idx_to_file[idx] = filename\n",
    "    dev_idx_to_label[idx] = label\n",
    "    \n",
    "    vector = []\n",
    "    with open(filename, 'r', encoding='UTF-8') as f:\n",
    "        for line in f.readlines():\n",
    "            parsed_line = line.split()\n",
    "            for token in parsed_line:\n",
    "                if vocab_dict.get(token) != None:\n",
    "                    vector += [vocab_dict[token]]\n",
    "                else:\n",
    "                    token_split = re.split('([^a-zA-Z0-9])', token)\n",
    "                    for sub_token in token_split:\n",
    "                        if vocab_dict.get(sub_token) != None and sub_token != '':\n",
    "                            vector += [vocab_dict[sub_token]]\n",
    "    dev_idx_to_vector[idx] = vector\n",
    "    dev_idx_to_length[idx] = len(vector)\n",
    "    \n",
    "dev_idx = list(range(dev_size))"
   ]
  },
  {
   "cell_type": "code",
   "execution_count": 8,
   "id": "370381bd-2450-4078-9256-6ba9bc0ccbf4",
   "metadata": {},
   "outputs": [
    {
     "data": {
      "application/vnd.jupyter.widget-view+json": {
       "model_id": "8ae881c7940b4dfeb95f58cc6b57f7fa",
       "version_major": 2,
       "version_minor": 0
      },
      "text/plain": [
       "  0%|          | 0/149 [00:00<?, ?it/s]"
      ]
     },
     "metadata": {},
     "output_type": "display_data"
    },
    {
     "data": {
      "application/vnd.jupyter.widget-view+json": {
       "model_id": "47478c2db32f447ab76ab965ced1d0a6",
       "version_major": 2,
       "version_minor": 0
      },
      "text/plain": [
       "  0%|          | 0/151 [00:00<?, ?it/s]"
      ]
     },
     "metadata": {},
     "output_type": "display_data"
    }
   ],
   "source": [
    "# read in test filepath\n",
    "test_dir = 'review_polarity/txt_sentoken/test'\n",
    "test_data_unshuffled = []\n",
    "\n",
    "pos_dir = test_dir + '/pos'\n",
    "for filename in tqdm(os.listdir(pos_dir)):\n",
    "    if filename.endswith(\".txt\"):\n",
    "        filepath = pos_dir + '/' + filename\n",
    "        test_data_unshuffled += [(filepath, 1)]\n",
    "\n",
    "neg_dir = test_dir + '/neg'\n",
    "for filename in tqdm(os.listdir(neg_dir)):\n",
    "    if filename.endswith(\".txt\"):\n",
    "        filepath = neg_dir + '/' + filename\n",
    "        test_data_unshuffled += [(filepath, 0)]\n",
    "        \n",
    "test_data = random.sample(train_data_unshuffled, len(test_data_unshuffled))\n",
    "test_size = len(test_data)"
   ]
  },
  {
   "cell_type": "code",
   "execution_count": 9,
   "id": "3089adb9-67fb-41f8-a5b8-be111090eb05",
   "metadata": {},
   "outputs": [
    {
     "data": {
      "application/vnd.jupyter.widget-view+json": {
       "model_id": "be731ad5211e4e0b85fa6f1846d05473",
       "version_major": 2,
       "version_minor": 0
      },
      "text/plain": [
       "0it [00:00, ?it/s]"
      ]
     },
     "metadata": {},
     "output_type": "display_data"
    }
   ],
   "source": [
    "# read in test dataset\n",
    "test_dir = 'review_polarity/txt_sentoken/test'\n",
    "\n",
    "test_file_to_idx = {}\n",
    "test_idx_to_file = np.empty(test_size, dtype=np.dtype('U100'))\n",
    "test_idx_to_label = np.empty(test_size, dtype=int)\n",
    "\n",
    "test_idx_to_vector = {}\n",
    "test_idx_to_length = np.empty(train_size, dtype=int)\n",
    "\n",
    "for idx, (filename, label) in tqdm(enumerate(test_data)):\n",
    "    test_file_to_idx[filename] = idx\n",
    "    test_idx_to_file[idx] = filename\n",
    "    test_idx_to_label[idx] = label\n",
    "    \n",
    "    vector = []\n",
    "    with open(filename, 'r', encoding='UTF-8') as f:\n",
    "        for line in f.readlines():\n",
    "            parsed_line = line.split()\n",
    "            for token in parsed_line:\n",
    "                if vocab_dict.get(token) != None:\n",
    "                    vector += [vocab_dict[token]]\n",
    "                else:\n",
    "                    token_split = re.split('([^a-zA-Z0-9])', token)\n",
    "                    for sub_token in token_split:\n",
    "                        if vocab_dict.get(sub_token) != None and sub_token != '':\n",
    "                            vector += [vocab_dict[sub_token]]\n",
    "    test_idx_to_vector[idx] = vector\n",
    "    test_idx_to_length[idx] = len(vector)\n",
    "    \n",
    "test_idx = list(range(test_size))"
   ]
  },
  {
   "cell_type": "code",
   "execution_count": 10,
   "id": "af58aaf2-3bc5-41b4-92e6-47c13b22396a",
   "metadata": {},
   "outputs": [],
   "source": [
    "# functions\n",
    "def batch_to_padded_tensors(batch, mode):\n",
    "    if mode == 'train':\n",
    "        idx_to_vector = train_idx_to_vector\n",
    "        idx_to_length = train_idx_to_length\n",
    "    elif mode == 'dev':\n",
    "        idx_to_vector = dev_idx_to_vector\n",
    "        idx_to_length = dev_idx_to_length\n",
    "    elif mode == 'test':\n",
    "        idx_to_vector = test_idx_to_vector\n",
    "        idx_to_length = test_idx_to_length\n",
    "    \n",
    "    size = len(batch)\n",
    "    lengths = idx_to_length[batch]\n",
    "    max_length = max(lengths)\n",
    "    \n",
    "    tensors = torch.zeros((size, max_length), dtype=int).long()\n",
    "    for i, idx in enumerate(batch):\n",
    "        tensors[i, 0:idx_to_length[idx]] = torch.LongTensor(idx_to_vector[idx.item()])\n",
    "               \n",
    "    return tensors.to(device)\n",
    "\n",
    "def batch_to_labels(batch, mode):\n",
    "    if mode == 'train':\n",
    "        idx_to_label = train_idx_to_label\n",
    "    elif mode == 'dev':\n",
    "        idx_to_label = dev_idx_to_label\n",
    "    elif mode == 'test':\n",
    "        idx_to_label = test_idx_to_label\n",
    "        \n",
    "    return torch.LongTensor(idx_to_label[batch]).to(device)"
   ]
  },
  {
   "cell_type": "code",
   "execution_count": 32,
   "id": "e0f3e510-f798-4377-9b01-1d0c7de4cbba",
   "metadata": {},
   "outputs": [],
   "source": [
    "#hyper-parameters\n",
    "hidden_size = 8\n",
    "num_labels = 2\n",
    "\n",
    "num_epochs = 150\n",
    "learning_rate = 0.1\n",
    "\n",
    "batch_size = 20\n",
    "\n",
    "train_loader = torch.utils.data.DataLoader(train_idx, batch_size=batch_size)\n",
    "dev_loader = torch.utils.data.DataLoader(dev_idx, batch_size=batch_size)\n",
    "test_loader = torch.utils.data.DataLoader(test_idx, batch_size=batch_size)"
   ]
  },
  {
   "cell_type": "code",
   "execution_count": 33,
   "id": "5c776b88-bf75-4a60-9b86-7fb2faab63af",
   "metadata": {
    "tags": []
   },
   "outputs": [],
   "source": [
    "class RNN_Classifier(nn.Module):\n",
    "    def __init__(self, hidden_size):\n",
    "        super().__init__()\n",
    "        \n",
    "        self.vocab_size = vocab_size\n",
    "        self.embedding_dim = embedding_dim\n",
    "        self.hidden_size = hidden_size\n",
    "    \n",
    "        self.embedding = nn.Embedding(vocab_size, embedding_dim, padding_idx=padding_index)\n",
    "        \n",
    "        # initialize embeddings with glove embeddings\n",
    "        with torch.no_grad():\n",
    "            self.embedding.weight[glove_idx] = glove_vectors\n",
    "        \n",
    "        self.rnn = nn.RNN(embedding_dim, hidden_size, batch_first=True)\n",
    "        self.pooling = nn.AdaptiveMaxPool1d(1)\n",
    "        self.hidden_to_label = nn.Linear(hidden_size, num_labels)\n",
    "                \n",
    "    def forward(self, document_tensors):\n",
    "        \"\"\"\n",
    "        document_tensors : batch_size x sequence_length\n",
    "        \"\"\"\n",
    "        batch_size, sequence_length = document_tensors.shape\n",
    "        hidden_0 = torch.zeros((1, batch_size, self.hidden_size),dtype=torch.float).to(device)\n",
    "        \n",
    "        document_embeddings = self.embedding(document_tensors)\n",
    "        rnn_out, _ = self.rnn(document_embeddings.view(batch_size, sequence_length, embedding_dim), hidden_0)\n",
    "        pooling_out = self.pooling(rnn_out.transpose(1,2)).transpose(1,2)\n",
    "        \n",
    "        score = self.hidden_to_label(pooling_out).view(batch_size, -1)\n",
    "        \n",
    "        return F.log_softmax(score, dim=1)"
   ]
  },
  {
   "cell_type": "code",
   "execution_count": 34,
   "id": "c47adf56-ba5b-4477-81fa-1da5a1c73753",
   "metadata": {},
   "outputs": [],
   "source": [
    "def evaluate(model, data_loader, mode):\n",
    "    true_pos_count = 0\n",
    "    false_pos_count = 0\n",
    "    true_neg_count = 0\n",
    "    false_neg_count = 0\n",
    "\n",
    "    with torch.no_grad():\n",
    "        for index, batch in enumerate(data_loader):\n",
    "            current_batch_size = len(batch)\n",
    "            \n",
    "            batch_tensors = batch_to_padded_tensors(batch, mode)\n",
    "            batch_labels = batch_to_labels(batch, mode)\n",
    "\n",
    "            log_probs = model(batch_tensors)\n",
    "\n",
    "            predicted_labels = torch.argmax(log_probs, 1)\n",
    "\n",
    "            for i in range(current_batch_size):\n",
    "                if batch_labels[i] == 1 and predicted_labels[i] == 1:\n",
    "                    true_pos_count += 1\n",
    "                elif batch_labels[i] == 0 and predicted_labels[i] == 1:\n",
    "                    false_pos_count += 1\n",
    "                elif batch_labels[i] == 0 and predicted_labels[i] == 0:\n",
    "                    true_neg_count += 1\n",
    "                elif batch_labels[i] == 1 and predicted_labels[i] == 0:\n",
    "                    false_neg_count += 1\n",
    "\n",
    "    accuracy = (true_pos_count + true_neg_count) / (true_pos_count + false_pos_count + true_neg_count + false_neg_count)\n",
    "    \n",
    "    # compute F1 score on the class of pos reviews\n",
    "    if true_pos_count + false_pos_count != 0:\n",
    "        precision_pos = true_pos_count / (true_pos_count + false_pos_count)\n",
    "    else: \n",
    "        precision_pos = 0\n",
    "    if true_pos_count + false_neg_count != 0:\n",
    "        recall_pos = true_pos_count / (true_pos_count + false_neg_count)\n",
    "    else: \n",
    "        recall_pos = 0\n",
    "    \n",
    "    if precision_pos + recall_pos != 0:\n",
    "        F1_pos = 2 * (precision_pos * recall_pos) / (precision_pos + recall_pos)\n",
    "    else:\n",
    "        F1_pos = 0\n",
    "    \n",
    "    # compute F1 score on the class of neg reviews\n",
    "    if true_neg_count + false_neg_count != 0:\n",
    "        precision_neg = true_neg_count / (true_neg_count + false_neg_count)\n",
    "    else: \n",
    "        precision_neg = 0\n",
    "    if true_neg_count + false_neg_count != 0:\n",
    "        recall_neg = true_neg_count / (true_neg_count + false_pos_count)\n",
    "    else: \n",
    "        recall_neg = 0\n",
    "    \n",
    "    if precision_neg + recall_neg != 0:\n",
    "        F1_neg = 2 * (precision_neg * recall_neg) / (precision_neg + recall_neg)\n",
    "    else:\n",
    "        F1_neg = 0\n",
    "        \n",
    "    F1 = (F1_pos + F1_neg) / 2\n",
    "\n",
    "    return accuracy, F1"
   ]
  },
  {
   "cell_type": "code",
   "execution_count": 35,
   "id": "122555a3-dd62-406c-9432-b6089051383c",
   "metadata": {},
   "outputs": [],
   "source": [
    "epoch_train_accuracy = [0] * num_epochs\n",
    "epoch_train_F1 = [0] * num_epochs\n",
    "    \n",
    "epoch_dev_accuracy = [0] * num_epochs\n",
    "epoch_dev_F1 = [0] * num_epochs\n",
    "\n",
    "def train(model, train_loader):\n",
    "    start_time = datetime.now()\n",
    "    optimizer = torch.optim.SGD(model.parameters(), lr=learning_rate)\n",
    "    \n",
    "    for epoch in range(num_epochs):\n",
    "        print('epoch', epoch)\n",
    "        for index, batch in enumerate(tqdm(train_loader)):\n",
    "            current_batch_size = len(batch)\n",
    "            batch_tensors = batch_to_padded_tensors(batch, 'train')\n",
    "            batch_labels = batch_to_labels(batch, 'train')\n",
    "            \n",
    "            log_probs = model(batch_tensors)\n",
    "            model.zero_grad()\n",
    "            \n",
    "            loss = F.nll_loss(log_probs, batch_labels)\n",
    "            loss.backward()\n",
    "               \n",
    "            model.embedding.weight.grad[glove_idx] = 0\n",
    "            \n",
    "            optimizer.step()\n",
    "        \n",
    "        epoch_train_accuracy[epoch], epoch_train_F1[epoch] = evaluate(model, train_loader, 'train')\n",
    "        print('train accuracy = {val1:0.5f}'.format(val1=epoch_train_accuracy[epoch]), 'train macro-F1 = {val2:0.5f}'.format(val2=epoch_train_F1[epoch]))\n",
    "        \n",
    "        epoch_dev_accuracy[epoch], epoch_dev_F1[epoch] = evaluate(model, dev_loader, 'dev')\n",
    "        print('dev accuracy = {val1:0.5f}'.format(val1=epoch_dev_accuracy[epoch]), 'dev macro-F1 = {val2:0.5f}'.format(val2=epoch_dev_F1[epoch]))\n",
    "        \n",
    "    end_time = datetime.now()\n",
    "    total_time = end_time-start_time\n",
    "    \n",
    "    print('total training time:', total_time)"
   ]
  },
  {
   "cell_type": "code",
   "execution_count": 36,
   "id": "83baf12e-8146-4e8f-a2a8-41eb2be17bf1",
   "metadata": {},
   "outputs": [],
   "source": [
    "model = RNN_Classifier(hidden_size).to(device)"
   ]
  },
  {
   "cell_type": "code",
   "execution_count": 37,
   "id": "eed3b302-1d24-4993-81ee-288ae26d5ead",
   "metadata": {},
   "outputs": [
    {
     "name": "stdout",
     "output_type": "stream",
     "text": [
      "epoch 0\n"
     ]
    },
    {
     "data": {
      "application/vnd.jupyter.widget-view+json": {
       "model_id": "0bbff2fea2cd4cd481a169af57f1280d",
       "version_major": 2,
       "version_minor": 0
      },
      "text/plain": [
       "  0%|          | 0/700 [00:00<?, ?it/s]"
      ]
     },
     "metadata": {},
     "output_type": "display_data"
    },
    {
     "name": "stdout",
     "output_type": "stream",
     "text": [
      "train accuracy = 0.50429 train macro-F1 = 0.33651\n",
      "dev accuracy = 0.50000 dev macro-F1 = 0.33333\n",
      "epoch 1\n"
     ]
    },
    {
     "data": {
      "application/vnd.jupyter.widget-view+json": {
       "model_id": "b4a77153ad79473cab762f1253ec3f85",
       "version_major": 2,
       "version_minor": 0
      },
      "text/plain": [
       "  0%|          | 0/700 [00:00<?, ?it/s]"
      ]
     },
     "metadata": {},
     "output_type": "display_data"
    },
    {
     "name": "stdout",
     "output_type": "stream",
     "text": [
      "train accuracy = 0.56571 train macro-F1 = 0.51212\n",
      "dev accuracy = 0.55667 dev macro-F1 = 0.49742\n",
      "epoch 2\n"
     ]
    },
    {
     "data": {
      "application/vnd.jupyter.widget-view+json": {
       "model_id": "59a59eeb31ee401ebecab10b4c205763",
       "version_major": 2,
       "version_minor": 0
      },
      "text/plain": [
       "  0%|          | 0/700 [00:00<?, ?it/s]"
      ]
     },
     "metadata": {},
     "output_type": "display_data"
    },
    {
     "name": "stdout",
     "output_type": "stream",
     "text": [
      "train accuracy = 0.59714 train macro-F1 = 0.56724\n",
      "dev accuracy = 0.59000 dev macro-F1 = 0.55945\n",
      "epoch 3\n"
     ]
    },
    {
     "data": {
      "application/vnd.jupyter.widget-view+json": {
       "model_id": "f781da5db8fd4caf860df6aa63bf2337",
       "version_major": 2,
       "version_minor": 0
      },
      "text/plain": [
       "  0%|          | 0/700 [00:00<?, ?it/s]"
      ]
     },
     "metadata": {},
     "output_type": "display_data"
    },
    {
     "name": "stdout",
     "output_type": "stream",
     "text": [
      "train accuracy = 0.65929 train macro-F1 = 0.65883\n",
      "dev accuracy = 0.61667 dev macro-F1 = 0.61615\n",
      "epoch 4\n"
     ]
    },
    {
     "data": {
      "application/vnd.jupyter.widget-view+json": {
       "model_id": "df74d34986d5402c9439c9c55a687f1b",
       "version_major": 2,
       "version_minor": 0
      },
      "text/plain": [
       "  0%|          | 0/700 [00:00<?, ?it/s]"
      ]
     },
     "metadata": {},
     "output_type": "display_data"
    },
    {
     "name": "stdout",
     "output_type": "stream",
     "text": [
      "train accuracy = 0.60857 train macro-F1 = 0.58151\n",
      "dev accuracy = 0.59667 dev macro-F1 = 0.57274\n",
      "epoch 5\n"
     ]
    },
    {
     "data": {
      "application/vnd.jupyter.widget-view+json": {
       "model_id": "8ef624074e90469aa8887ec3303a6eec",
       "version_major": 2,
       "version_minor": 0
      },
      "text/plain": [
       "  0%|          | 0/700 [00:00<?, ?it/s]"
      ]
     },
     "metadata": {},
     "output_type": "display_data"
    },
    {
     "name": "stdout",
     "output_type": "stream",
     "text": [
      "train accuracy = 0.65500 train macro-F1 = 0.64900\n",
      "dev accuracy = 0.63333 dev macro-F1 = 0.62600\n",
      "epoch 6\n"
     ]
    },
    {
     "data": {
      "application/vnd.jupyter.widget-view+json": {
       "model_id": "f4f3f8662553487f81a6da5f20bb50c6",
       "version_major": 2,
       "version_minor": 0
      },
      "text/plain": [
       "  0%|          | 0/700 [00:00<?, ?it/s]"
      ]
     },
     "metadata": {},
     "output_type": "display_data"
    },
    {
     "name": "stdout",
     "output_type": "stream",
     "text": [
      "train accuracy = 0.64286 train macro-F1 = 0.63398\n",
      "dev accuracy = 0.60667 dev macro-F1 = 0.59350\n",
      "epoch 7\n"
     ]
    },
    {
     "data": {
      "application/vnd.jupyter.widget-view+json": {
       "model_id": "e58aa4b606374c3daf810faf5ea6ef7c",
       "version_major": 2,
       "version_minor": 0
      },
      "text/plain": [
       "  0%|          | 0/700 [00:00<?, ?it/s]"
      ]
     },
     "metadata": {},
     "output_type": "display_data"
    },
    {
     "name": "stdout",
     "output_type": "stream",
     "text": [
      "train accuracy = 0.65714 train macro-F1 = 0.65692\n",
      "dev accuracy = 0.66333 dev macro-F1 = 0.66249\n",
      "epoch 8\n"
     ]
    },
    {
     "data": {
      "application/vnd.jupyter.widget-view+json": {
       "model_id": "6a0756948ac5448e85e79582a21acadf",
       "version_major": 2,
       "version_minor": 0
      },
      "text/plain": [
       "  0%|          | 0/700 [00:00<?, ?it/s]"
      ]
     },
     "metadata": {},
     "output_type": "display_data"
    },
    {
     "name": "stdout",
     "output_type": "stream",
     "text": [
      "train accuracy = 0.67357 train macro-F1 = 0.66993\n",
      "dev accuracy = 0.69667 dev macro-F1 = 0.69089\n",
      "epoch 9\n"
     ]
    },
    {
     "data": {
      "application/vnd.jupyter.widget-view+json": {
       "model_id": "e153d18575814a54b04d75a987b1e4a0",
       "version_major": 2,
       "version_minor": 0
      },
      "text/plain": [
       "  0%|          | 0/700 [00:00<?, ?it/s]"
      ]
     },
     "metadata": {},
     "output_type": "display_data"
    },
    {
     "name": "stdout",
     "output_type": "stream",
     "text": [
      "train accuracy = 0.68714 train macro-F1 = 0.68164\n",
      "dev accuracy = 0.64667 dev macro-F1 = 0.63738\n",
      "epoch 10\n"
     ]
    },
    {
     "data": {
      "application/vnd.jupyter.widget-view+json": {
       "model_id": "62603d0996d84e47b170df0aff78589c",
       "version_major": 2,
       "version_minor": 0
      },
      "text/plain": [
       "  0%|          | 0/700 [00:00<?, ?it/s]"
      ]
     },
     "metadata": {},
     "output_type": "display_data"
    },
    {
     "name": "stdout",
     "output_type": "stream",
     "text": [
      "train accuracy = 0.71429 train macro-F1 = 0.71349\n",
      "dev accuracy = 0.67000 dev macro-F1 = 0.66769\n",
      "epoch 11\n"
     ]
    },
    {
     "data": {
      "application/vnd.jupyter.widget-view+json": {
       "model_id": "f9281252560c488e98223e2d3169e49d",
       "version_major": 2,
       "version_minor": 0
      },
      "text/plain": [
       "  0%|          | 0/700 [00:00<?, ?it/s]"
      ]
     },
     "metadata": {},
     "output_type": "display_data"
    },
    {
     "name": "stdout",
     "output_type": "stream",
     "text": [
      "train accuracy = 0.72500 train macro-F1 = 0.72488\n",
      "dev accuracy = 0.69667 dev macro-F1 = 0.69591\n",
      "epoch 12\n"
     ]
    },
    {
     "data": {
      "application/vnd.jupyter.widget-view+json": {
       "model_id": "4f81f63145da48278adb2e49a5f938f7",
       "version_major": 2,
       "version_minor": 0
      },
      "text/plain": [
       "  0%|          | 0/700 [00:00<?, ?it/s]"
      ]
     },
     "metadata": {},
     "output_type": "display_data"
    },
    {
     "name": "stdout",
     "output_type": "stream",
     "text": [
      "train accuracy = 0.73786 train macro-F1 = 0.73779\n",
      "dev accuracy = 0.72667 dev macro-F1 = 0.72647\n",
      "epoch 13\n"
     ]
    },
    {
     "data": {
      "application/vnd.jupyter.widget-view+json": {
       "model_id": "15b0209cc0b64c6f89e224866d98abe4",
       "version_major": 2,
       "version_minor": 0
      },
      "text/plain": [
       "  0%|          | 0/700 [00:00<?, ?it/s]"
      ]
     },
     "metadata": {},
     "output_type": "display_data"
    },
    {
     "name": "stdout",
     "output_type": "stream",
     "text": [
      "train accuracy = 0.74571 train macro-F1 = 0.74558\n",
      "dev accuracy = 0.70667 dev macro-F1 = 0.70655\n",
      "epoch 14\n"
     ]
    },
    {
     "data": {
      "application/vnd.jupyter.widget-view+json": {
       "model_id": "a8b1ea53fa46492badb5ac9ab241c2cb",
       "version_major": 2,
       "version_minor": 0
      },
      "text/plain": [
       "  0%|          | 0/700 [00:00<?, ?it/s]"
      ]
     },
     "metadata": {},
     "output_type": "display_data"
    },
    {
     "name": "stdout",
     "output_type": "stream",
     "text": [
      "train accuracy = 0.76071 train macro-F1 = 0.76053\n",
      "dev accuracy = 0.77667 dev macro-F1 = 0.77655\n",
      "epoch 15\n"
     ]
    },
    {
     "data": {
      "application/vnd.jupyter.widget-view+json": {
       "model_id": "9a7f484b8c8d4d9fa11d063c29979dba",
       "version_major": 2,
       "version_minor": 0
      },
      "text/plain": [
       "  0%|          | 0/700 [00:00<?, ?it/s]"
      ]
     },
     "metadata": {},
     "output_type": "display_data"
    },
    {
     "name": "stdout",
     "output_type": "stream",
     "text": [
      "train accuracy = 0.76286 train macro-F1 = 0.76266\n",
      "dev accuracy = 0.74667 dev macro-F1 = 0.74611\n",
      "epoch 16\n"
     ]
    },
    {
     "data": {
      "application/vnd.jupyter.widget-view+json": {
       "model_id": "022700d94f964458af18f7853e61a0cd",
       "version_major": 2,
       "version_minor": 0
      },
      "text/plain": [
       "  0%|          | 0/700 [00:00<?, ?it/s]"
      ]
     },
     "metadata": {},
     "output_type": "display_data"
    },
    {
     "name": "stdout",
     "output_type": "stream",
     "text": [
      "train accuracy = 0.76500 train macro-F1 = 0.76497\n",
      "dev accuracy = 0.78333 dev macro-F1 = 0.78279\n",
      "epoch 17\n"
     ]
    },
    {
     "data": {
      "application/vnd.jupyter.widget-view+json": {
       "model_id": "ae815ddac3d04381ae5644cc56cef7b7",
       "version_major": 2,
       "version_minor": 0
      },
      "text/plain": [
       "  0%|          | 0/700 [00:00<?, ?it/s]"
      ]
     },
     "metadata": {},
     "output_type": "display_data"
    },
    {
     "name": "stdout",
     "output_type": "stream",
     "text": [
      "train accuracy = 0.76214 train macro-F1 = 0.76214\n",
      "dev accuracy = 0.76333 dev macro-F1 = 0.76312\n",
      "epoch 18\n"
     ]
    },
    {
     "data": {
      "application/vnd.jupyter.widget-view+json": {
       "model_id": "b55c70a8cdd0436389c3bf625dac097d",
       "version_major": 2,
       "version_minor": 0
      },
      "text/plain": [
       "  0%|          | 0/700 [00:00<?, ?it/s]"
      ]
     },
     "metadata": {},
     "output_type": "display_data"
    },
    {
     "name": "stdout",
     "output_type": "stream",
     "text": [
      "train accuracy = 0.77071 train macro-F1 = 0.77069\n",
      "dev accuracy = 0.75667 dev macro-F1 = 0.75660\n",
      "epoch 19\n"
     ]
    },
    {
     "data": {
      "application/vnd.jupyter.widget-view+json": {
       "model_id": "6c539f451eeb414fbc9f0e747345ac90",
       "version_major": 2,
       "version_minor": 0
      },
      "text/plain": [
       "  0%|          | 0/700 [00:00<?, ?it/s]"
      ]
     },
     "metadata": {},
     "output_type": "display_data"
    },
    {
     "name": "stdout",
     "output_type": "stream",
     "text": [
      "train accuracy = 0.75929 train macro-F1 = 0.75852\n",
      "dev accuracy = 0.73667 dev macro-F1 = 0.73652\n",
      "epoch 20\n"
     ]
    },
    {
     "data": {
      "application/vnd.jupyter.widget-view+json": {
       "model_id": "6491cdcc6b594611ae913efaad623ca2",
       "version_major": 2,
       "version_minor": 0
      },
      "text/plain": [
       "  0%|          | 0/700 [00:00<?, ?it/s]"
      ]
     },
     "metadata": {},
     "output_type": "display_data"
    },
    {
     "name": "stdout",
     "output_type": "stream",
     "text": [
      "train accuracy = 0.78571 train macro-F1 = 0.78571\n",
      "dev accuracy = 0.78000 dev macro-F1 = 0.77984\n",
      "epoch 21\n"
     ]
    },
    {
     "data": {
      "application/vnd.jupyter.widget-view+json": {
       "model_id": "e4a3fc28f9dc4910ad938de5fde86db0",
       "version_major": 2,
       "version_minor": 0
      },
      "text/plain": [
       "  0%|          | 0/700 [00:00<?, ?it/s]"
      ]
     },
     "metadata": {},
     "output_type": "display_data"
    },
    {
     "name": "stdout",
     "output_type": "stream",
     "text": [
      "train accuracy = 0.79214 train macro-F1 = 0.79191\n",
      "dev accuracy = 0.76333 dev macro-F1 = 0.76257\n",
      "epoch 22\n"
     ]
    },
    {
     "data": {
      "application/vnd.jupyter.widget-view+json": {
       "model_id": "e62e096acff6480890eaad690c30bfe3",
       "version_major": 2,
       "version_minor": 0
      },
      "text/plain": [
       "  0%|          | 0/700 [00:00<?, ?it/s]"
      ]
     },
     "metadata": {},
     "output_type": "display_data"
    },
    {
     "name": "stdout",
     "output_type": "stream",
     "text": [
      "train accuracy = 0.81500 train macro-F1 = 0.81495\n",
      "dev accuracy = 0.80333 dev macro-F1 = 0.80333\n",
      "epoch 23\n"
     ]
    },
    {
     "data": {
      "application/vnd.jupyter.widget-view+json": {
       "model_id": "2e21ec09627d471280833d6b606f2fd5",
       "version_major": 2,
       "version_minor": 0
      },
      "text/plain": [
       "  0%|          | 0/700 [00:00<?, ?it/s]"
      ]
     },
     "metadata": {},
     "output_type": "display_data"
    },
    {
     "name": "stdout",
     "output_type": "stream",
     "text": [
      "train accuracy = 0.79000 train macro-F1 = 0.78947\n",
      "dev accuracy = 0.77667 dev macro-F1 = 0.77484\n",
      "epoch 24\n"
     ]
    },
    {
     "data": {
      "application/vnd.jupyter.widget-view+json": {
       "model_id": "d6624727c97149e492776f8ffe5e058c",
       "version_major": 2,
       "version_minor": 0
      },
      "text/plain": [
       "  0%|          | 0/700 [00:00<?, ?it/s]"
      ]
     },
     "metadata": {},
     "output_type": "display_data"
    },
    {
     "name": "stdout",
     "output_type": "stream",
     "text": [
      "train accuracy = 0.77214 train macro-F1 = 0.77130\n",
      "dev accuracy = 0.76667 dev macro-F1 = 0.76616\n",
      "epoch 25\n"
     ]
    },
    {
     "data": {
      "application/vnd.jupyter.widget-view+json": {
       "model_id": "11dfd97f37f4473eb3a761d08116e605",
       "version_major": 2,
       "version_minor": 0
      },
      "text/plain": [
       "  0%|          | 0/700 [00:00<?, ?it/s]"
      ]
     },
     "metadata": {},
     "output_type": "display_data"
    },
    {
     "name": "stdout",
     "output_type": "stream",
     "text": [
      "train accuracy = 0.78643 train macro-F1 = 0.78508\n",
      "dev accuracy = 0.78333 dev macro-F1 = 0.78205\n",
      "epoch 26\n"
     ]
    },
    {
     "data": {
      "application/vnd.jupyter.widget-view+json": {
       "model_id": "0dfcb12a059844e08750e8499c433f13",
       "version_major": 2,
       "version_minor": 0
      },
      "text/plain": [
       "  0%|          | 0/700 [00:00<?, ?it/s]"
      ]
     },
     "metadata": {},
     "output_type": "display_data"
    },
    {
     "name": "stdout",
     "output_type": "stream",
     "text": [
      "train accuracy = 0.78714 train macro-F1 = 0.78714\n",
      "dev accuracy = 0.78333 dev macro-F1 = 0.78327\n",
      "epoch 27\n"
     ]
    },
    {
     "data": {
      "application/vnd.jupyter.widget-view+json": {
       "model_id": "05390d6129fd47ddb55eff0ec209b423",
       "version_major": 2,
       "version_minor": 0
      },
      "text/plain": [
       "  0%|          | 0/700 [00:00<?, ?it/s]"
      ]
     },
     "metadata": {},
     "output_type": "display_data"
    },
    {
     "name": "stdout",
     "output_type": "stream",
     "text": [
      "train accuracy = 0.77286 train macro-F1 = 0.77123\n",
      "dev accuracy = 0.79333 dev macro-F1 = 0.79259\n",
      "epoch 28\n"
     ]
    },
    {
     "data": {
      "application/vnd.jupyter.widget-view+json": {
       "model_id": "48e7553e2444423ab0f581b5d35055a4",
       "version_major": 2,
       "version_minor": 0
      },
      "text/plain": [
       "  0%|          | 0/700 [00:00<?, ?it/s]"
      ]
     },
     "metadata": {},
     "output_type": "display_data"
    },
    {
     "name": "stdout",
     "output_type": "stream",
     "text": [
      "train accuracy = 0.80500 train macro-F1 = 0.80453\n",
      "dev accuracy = 0.82667 dev macro-F1 = 0.82629\n",
      "epoch 29\n"
     ]
    },
    {
     "data": {
      "application/vnd.jupyter.widget-view+json": {
       "model_id": "3da2f7f64b5b4b48b75dd428f733010f",
       "version_major": 2,
       "version_minor": 0
      },
      "text/plain": [
       "  0%|          | 0/700 [00:00<?, ?it/s]"
      ]
     },
     "metadata": {},
     "output_type": "display_data"
    },
    {
     "name": "stdout",
     "output_type": "stream",
     "text": [
      "train accuracy = 0.82714 train macro-F1 = 0.82658\n",
      "dev accuracy = 0.81000 dev macro-F1 = 0.80939\n",
      "epoch 30\n"
     ]
    },
    {
     "data": {
      "application/vnd.jupyter.widget-view+json": {
       "model_id": "569774f947c04efdb84236adfcf46f6a",
       "version_major": 2,
       "version_minor": 0
      },
      "text/plain": [
       "  0%|          | 0/700 [00:00<?, ?it/s]"
      ]
     },
     "metadata": {},
     "output_type": "display_data"
    },
    {
     "name": "stdout",
     "output_type": "stream",
     "text": [
      "train accuracy = 0.81786 train macro-F1 = 0.81760\n",
      "dev accuracy = 0.82000 dev macro-F1 = 0.81971\n",
      "epoch 31\n"
     ]
    },
    {
     "data": {
      "application/vnd.jupyter.widget-view+json": {
       "model_id": "5963711630824e2386fb4ca5e6f27edb",
       "version_major": 2,
       "version_minor": 0
      },
      "text/plain": [
       "  0%|          | 0/700 [00:00<?, ?it/s]"
      ]
     },
     "metadata": {},
     "output_type": "display_data"
    },
    {
     "name": "stdout",
     "output_type": "stream",
     "text": [
      "train accuracy = 0.81786 train macro-F1 = 0.81763\n",
      "dev accuracy = 0.84667 dev macro-F1 = 0.84633\n",
      "epoch 32\n"
     ]
    },
    {
     "data": {
      "application/vnd.jupyter.widget-view+json": {
       "model_id": "fc28c840a57741d8aa4041f8e9729efa",
       "version_major": 2,
       "version_minor": 0
      },
      "text/plain": [
       "  0%|          | 0/700 [00:00<?, ?it/s]"
      ]
     },
     "metadata": {},
     "output_type": "display_data"
    },
    {
     "name": "stdout",
     "output_type": "stream",
     "text": [
      "train accuracy = 0.82786 train macro-F1 = 0.82772\n",
      "dev accuracy = 0.82000 dev macro-F1 = 0.81980\n",
      "epoch 33\n"
     ]
    },
    {
     "data": {
      "application/vnd.jupyter.widget-view+json": {
       "model_id": "8dc45880c27b42c2addf49c6814e2a6c",
       "version_major": 2,
       "version_minor": 0
      },
      "text/plain": [
       "  0%|          | 0/700 [00:00<?, ?it/s]"
      ]
     },
     "metadata": {},
     "output_type": "display_data"
    },
    {
     "name": "stdout",
     "output_type": "stream",
     "text": [
      "train accuracy = 0.82143 train macro-F1 = 0.82108\n",
      "dev accuracy = 0.83667 dev macro-F1 = 0.83645\n",
      "epoch 34\n"
     ]
    },
    {
     "data": {
      "application/vnd.jupyter.widget-view+json": {
       "model_id": "226b413fb00c407aaec36db5aea450e4",
       "version_major": 2,
       "version_minor": 0
      },
      "text/plain": [
       "  0%|          | 0/700 [00:00<?, ?it/s]"
      ]
     },
     "metadata": {},
     "output_type": "display_data"
    },
    {
     "name": "stdout",
     "output_type": "stream",
     "text": [
      "train accuracy = 0.83357 train macro-F1 = 0.83353\n",
      "dev accuracy = 0.84333 dev macro-F1 = 0.84329\n",
      "epoch 35\n"
     ]
    },
    {
     "data": {
      "application/vnd.jupyter.widget-view+json": {
       "model_id": "692772b14ccb4a30b2955dde5d3e5c3f",
       "version_major": 2,
       "version_minor": 0
      },
      "text/plain": [
       "  0%|          | 0/700 [00:00<?, ?it/s]"
      ]
     },
     "metadata": {},
     "output_type": "display_data"
    },
    {
     "name": "stdout",
     "output_type": "stream",
     "text": [
      "train accuracy = 0.84643 train macro-F1 = 0.84641\n",
      "dev accuracy = 0.87000 dev macro-F1 = 0.87000\n",
      "epoch 36\n"
     ]
    },
    {
     "data": {
      "application/vnd.jupyter.widget-view+json": {
       "model_id": "ea3dade2e1f24ec3832e32b7cfdc94c1",
       "version_major": 2,
       "version_minor": 0
      },
      "text/plain": [
       "  0%|          | 0/700 [00:00<?, ?it/s]"
      ]
     },
     "metadata": {},
     "output_type": "display_data"
    },
    {
     "name": "stdout",
     "output_type": "stream",
     "text": [
      "train accuracy = 0.84786 train macro-F1 = 0.84786\n",
      "dev accuracy = 0.86667 dev macro-F1 = 0.86666\n",
      "epoch 37\n"
     ]
    },
    {
     "data": {
      "application/vnd.jupyter.widget-view+json": {
       "model_id": "b37e8f7d09ee4977bea19a6d8650a7a4",
       "version_major": 2,
       "version_minor": 0
      },
      "text/plain": [
       "  0%|          | 0/700 [00:00<?, ?it/s]"
      ]
     },
     "metadata": {},
     "output_type": "display_data"
    },
    {
     "name": "stdout",
     "output_type": "stream",
     "text": [
      "train accuracy = 0.83500 train macro-F1 = 0.83496\n",
      "dev accuracy = 0.83667 dev macro-F1 = 0.83658\n",
      "epoch 38\n"
     ]
    },
    {
     "data": {
      "application/vnd.jupyter.widget-view+json": {
       "model_id": "b34bacca94564aefa5011ad27354c0f4",
       "version_major": 2,
       "version_minor": 0
      },
      "text/plain": [
       "  0%|          | 0/700 [00:00<?, ?it/s]"
      ]
     },
     "metadata": {},
     "output_type": "display_data"
    },
    {
     "name": "stdout",
     "output_type": "stream",
     "text": [
      "train accuracy = 0.84214 train macro-F1 = 0.84196\n",
      "dev accuracy = 0.84333 dev macro-F1 = 0.84319\n",
      "epoch 39\n"
     ]
    },
    {
     "data": {
      "application/vnd.jupyter.widget-view+json": {
       "model_id": "ba7f7cb92b3e4a5d937d437d3df231d9",
       "version_major": 2,
       "version_minor": 0
      },
      "text/plain": [
       "  0%|          | 0/700 [00:00<?, ?it/s]"
      ]
     },
     "metadata": {},
     "output_type": "display_data"
    },
    {
     "name": "stdout",
     "output_type": "stream",
     "text": [
      "train accuracy = 0.84643 train macro-F1 = 0.84630\n",
      "dev accuracy = 0.85667 dev macro-F1 = 0.85663\n",
      "epoch 40\n"
     ]
    },
    {
     "data": {
      "application/vnd.jupyter.widget-view+json": {
       "model_id": "e38c7dd9d2f547f8b7cfc21ca6fba2c6",
       "version_major": 2,
       "version_minor": 0
      },
      "text/plain": [
       "  0%|          | 0/700 [00:00<?, ?it/s]"
      ]
     },
     "metadata": {},
     "output_type": "display_data"
    },
    {
     "name": "stdout",
     "output_type": "stream",
     "text": [
      "train accuracy = 0.84000 train macro-F1 = 0.83960\n",
      "dev accuracy = 0.85000 dev macro-F1 = 0.84952\n",
      "epoch 41\n"
     ]
    },
    {
     "data": {
      "application/vnd.jupyter.widget-view+json": {
       "model_id": "f884fcb4a52d4ec5a4ec09127df597c0",
       "version_major": 2,
       "version_minor": 0
      },
      "text/plain": [
       "  0%|          | 0/700 [00:00<?, ?it/s]"
      ]
     },
     "metadata": {},
     "output_type": "display_data"
    },
    {
     "name": "stdout",
     "output_type": "stream",
     "text": [
      "train accuracy = 0.83000 train macro-F1 = 0.82985\n",
      "dev accuracy = 0.83333 dev macro-F1 = 0.83333\n",
      "epoch 42\n"
     ]
    },
    {
     "data": {
      "application/vnd.jupyter.widget-view+json": {
       "model_id": "85ba6a3260304a738c43fe3be2e6f7e9",
       "version_major": 2,
       "version_minor": 0
      },
      "text/plain": [
       "  0%|          | 0/700 [00:00<?, ?it/s]"
      ]
     },
     "metadata": {},
     "output_type": "display_data"
    },
    {
     "name": "stdout",
     "output_type": "stream",
     "text": [
      "train accuracy = 0.85286 train macro-F1 = 0.85286\n",
      "dev accuracy = 0.86000 dev macro-F1 = 0.85999\n",
      "epoch 43\n"
     ]
    },
    {
     "data": {
      "application/vnd.jupyter.widget-view+json": {
       "model_id": "356f7d3a065d4f88b874eeb3009af324",
       "version_major": 2,
       "version_minor": 0
      },
      "text/plain": [
       "  0%|          | 0/700 [00:00<?, ?it/s]"
      ]
     },
     "metadata": {},
     "output_type": "display_data"
    },
    {
     "name": "stdout",
     "output_type": "stream",
     "text": [
      "train accuracy = 0.85143 train macro-F1 = 0.85112\n",
      "dev accuracy = 0.85667 dev macro-F1 = 0.85640\n",
      "epoch 44\n"
     ]
    },
    {
     "data": {
      "application/vnd.jupyter.widget-view+json": {
       "model_id": "9a35a895afdb48e284671acafbe1ddf0",
       "version_major": 2,
       "version_minor": 0
      },
      "text/plain": [
       "  0%|          | 0/700 [00:00<?, ?it/s]"
      ]
     },
     "metadata": {},
     "output_type": "display_data"
    },
    {
     "name": "stdout",
     "output_type": "stream",
     "text": [
      "train accuracy = 0.85214 train macro-F1 = 0.85196\n",
      "dev accuracy = 0.88000 dev macro-F1 = 0.87966\n",
      "epoch 45\n"
     ]
    },
    {
     "data": {
      "application/vnd.jupyter.widget-view+json": {
       "model_id": "d54c2e0d9b464c29bd16a78b7545cbab",
       "version_major": 2,
       "version_minor": 0
      },
      "text/plain": [
       "  0%|          | 0/700 [00:00<?, ?it/s]"
      ]
     },
     "metadata": {},
     "output_type": "display_data"
    },
    {
     "name": "stdout",
     "output_type": "stream",
     "text": [
      "train accuracy = 0.86071 train macro-F1 = 0.86045\n",
      "dev accuracy = 0.88000 dev macro-F1 = 0.87957\n",
      "epoch 46\n"
     ]
    },
    {
     "data": {
      "application/vnd.jupyter.widget-view+json": {
       "model_id": "0104a942c5884b36bb03f4ff54737c56",
       "version_major": 2,
       "version_minor": 0
      },
      "text/plain": [
       "  0%|          | 0/700 [00:00<?, ?it/s]"
      ]
     },
     "metadata": {},
     "output_type": "display_data"
    },
    {
     "name": "stdout",
     "output_type": "stream",
     "text": [
      "train accuracy = 0.86286 train macro-F1 = 0.86265\n",
      "dev accuracy = 0.86333 dev macro-F1 = 0.86299\n",
      "epoch 47\n"
     ]
    },
    {
     "data": {
      "application/vnd.jupyter.widget-view+json": {
       "model_id": "3e5208a4e61c41239436688f917d5370",
       "version_major": 2,
       "version_minor": 0
      },
      "text/plain": [
       "  0%|          | 0/700 [00:00<?, ?it/s]"
      ]
     },
     "metadata": {},
     "output_type": "display_data"
    },
    {
     "name": "stdout",
     "output_type": "stream",
     "text": [
      "train accuracy = 0.85571 train macro-F1 = 0.85556\n",
      "dev accuracy = 0.86000 dev macro-F1 = 0.85960\n",
      "epoch 48\n"
     ]
    },
    {
     "data": {
      "application/vnd.jupyter.widget-view+json": {
       "model_id": "3f898d8aa4864c0f86385a9a4b703dd5",
       "version_major": 2,
       "version_minor": 0
      },
      "text/plain": [
       "  0%|          | 0/700 [00:00<?, ?it/s]"
      ]
     },
     "metadata": {},
     "output_type": "display_data"
    },
    {
     "name": "stdout",
     "output_type": "stream",
     "text": [
      "train accuracy = 0.87286 train macro-F1 = 0.87261\n",
      "dev accuracy = 0.90000 dev macro-F1 = 0.89971\n",
      "epoch 49\n"
     ]
    },
    {
     "data": {
      "application/vnd.jupyter.widget-view+json": {
       "model_id": "95bb0e89a4cf431d978fc10411bf7c94",
       "version_major": 2,
       "version_minor": 0
      },
      "text/plain": [
       "  0%|          | 0/700 [00:00<?, ?it/s]"
      ]
     },
     "metadata": {},
     "output_type": "display_data"
    },
    {
     "name": "stdout",
     "output_type": "stream",
     "text": [
      "train accuracy = 0.85857 train macro-F1 = 0.85828\n",
      "dev accuracy = 0.88000 dev macro-F1 = 0.87946\n",
      "epoch 50\n"
     ]
    },
    {
     "data": {
      "application/vnd.jupyter.widget-view+json": {
       "model_id": "99d8d32ebe454d9c96d6cb45138e3119",
       "version_major": 2,
       "version_minor": 0
      },
      "text/plain": [
       "  0%|          | 0/700 [00:00<?, ?it/s]"
      ]
     },
     "metadata": {},
     "output_type": "display_data"
    },
    {
     "name": "stdout",
     "output_type": "stream",
     "text": [
      "train accuracy = 0.85286 train macro-F1 = 0.85219\n",
      "dev accuracy = 0.89333 dev macro-F1 = 0.89286\n",
      "epoch 51\n"
     ]
    },
    {
     "data": {
      "application/vnd.jupyter.widget-view+json": {
       "model_id": "e099f57bb10a48fab4defd2c18defda3",
       "version_major": 2,
       "version_minor": 0
      },
      "text/plain": [
       "  0%|          | 0/700 [00:00<?, ?it/s]"
      ]
     },
     "metadata": {},
     "output_type": "display_data"
    },
    {
     "name": "stdout",
     "output_type": "stream",
     "text": [
      "train accuracy = 0.82286 train macro-F1 = 0.82045\n",
      "dev accuracy = 0.84000 dev macro-F1 = 0.83739\n",
      "epoch 52\n"
     ]
    },
    {
     "data": {
      "application/vnd.jupyter.widget-view+json": {
       "model_id": "cad362360f824551b5debed889ead345",
       "version_major": 2,
       "version_minor": 0
      },
      "text/plain": [
       "  0%|          | 0/700 [00:00<?, ?it/s]"
      ]
     },
     "metadata": {},
     "output_type": "display_data"
    },
    {
     "name": "stdout",
     "output_type": "stream",
     "text": [
      "train accuracy = 0.85429 train macro-F1 = 0.85365\n",
      "dev accuracy = 0.87333 dev macro-F1 = 0.87252\n",
      "epoch 53\n"
     ]
    },
    {
     "data": {
      "application/vnd.jupyter.widget-view+json": {
       "model_id": "27c7a23315f94704a619f72cdda3218e",
       "version_major": 2,
       "version_minor": 0
      },
      "text/plain": [
       "  0%|          | 0/700 [00:00<?, ?it/s]"
      ]
     },
     "metadata": {},
     "output_type": "display_data"
    },
    {
     "name": "stdout",
     "output_type": "stream",
     "text": [
      "train accuracy = 0.85429 train macro-F1 = 0.85421\n",
      "dev accuracy = 0.85667 dev macro-F1 = 0.85659\n",
      "epoch 54\n"
     ]
    },
    {
     "data": {
      "application/vnd.jupyter.widget-view+json": {
       "model_id": "d05cce8da805466f9a26fd92e2edae52",
       "version_major": 2,
       "version_minor": 0
      },
      "text/plain": [
       "  0%|          | 0/700 [00:00<?, ?it/s]"
      ]
     },
     "metadata": {},
     "output_type": "display_data"
    },
    {
     "name": "stdout",
     "output_type": "stream",
     "text": [
      "train accuracy = 0.83500 train macro-F1 = 0.83496\n",
      "dev accuracy = 0.83000 dev macro-F1 = 0.82998\n",
      "epoch 55\n"
     ]
    },
    {
     "data": {
      "application/vnd.jupyter.widget-view+json": {
       "model_id": "77dc38c3b9434a30a2165d2a72b1b109",
       "version_major": 2,
       "version_minor": 0
      },
      "text/plain": [
       "  0%|          | 0/700 [00:00<?, ?it/s]"
      ]
     },
     "metadata": {},
     "output_type": "display_data"
    },
    {
     "ename": "KeyboardInterrupt",
     "evalue": "",
     "output_type": "error",
     "traceback": [
      "\u001b[1;31m---------------------------------------------------------------------------\u001b[0m",
      "\u001b[1;31mKeyboardInterrupt\u001b[0m                         Traceback (most recent call last)",
      "\u001b[1;32m<ipython-input-37-e21aaaf305b6>\u001b[0m in \u001b[0;36m<module>\u001b[1;34m\u001b[0m\n\u001b[1;32m----> 1\u001b[1;33m \u001b[0mtrain\u001b[0m\u001b[1;33m(\u001b[0m\u001b[0mmodel\u001b[0m\u001b[1;33m,\u001b[0m \u001b[0mtrain_loader\u001b[0m\u001b[1;33m)\u001b[0m\u001b[1;33m\u001b[0m\u001b[1;33m\u001b[0m\u001b[0m\n\u001b[0m",
      "\u001b[1;32m<ipython-input-35-0a69795e0955>\u001b[0m in \u001b[0;36mtrain\u001b[1;34m(model, train_loader)\u001b[0m\n\u001b[0;32m     13\u001b[0m         \u001b[1;32mfor\u001b[0m \u001b[0mindex\u001b[0m\u001b[1;33m,\u001b[0m \u001b[0mbatch\u001b[0m \u001b[1;32min\u001b[0m \u001b[0menumerate\u001b[0m\u001b[1;33m(\u001b[0m\u001b[0mtqdm\u001b[0m\u001b[1;33m(\u001b[0m\u001b[0mtrain_loader\u001b[0m\u001b[1;33m)\u001b[0m\u001b[1;33m)\u001b[0m\u001b[1;33m:\u001b[0m\u001b[1;33m\u001b[0m\u001b[1;33m\u001b[0m\u001b[0m\n\u001b[0;32m     14\u001b[0m             \u001b[0mcurrent_batch_size\u001b[0m \u001b[1;33m=\u001b[0m \u001b[0mlen\u001b[0m\u001b[1;33m(\u001b[0m\u001b[0mbatch\u001b[0m\u001b[1;33m)\u001b[0m\u001b[1;33m\u001b[0m\u001b[1;33m\u001b[0m\u001b[0m\n\u001b[1;32m---> 15\u001b[1;33m             \u001b[0mbatch_tensors\u001b[0m \u001b[1;33m=\u001b[0m \u001b[0mbatch_to_padded_tensors\u001b[0m\u001b[1;33m(\u001b[0m\u001b[0mbatch\u001b[0m\u001b[1;33m,\u001b[0m \u001b[1;34m'train'\u001b[0m\u001b[1;33m)\u001b[0m\u001b[1;33m\u001b[0m\u001b[1;33m\u001b[0m\u001b[0m\n\u001b[0m\u001b[0;32m     16\u001b[0m             \u001b[0mbatch_labels\u001b[0m \u001b[1;33m=\u001b[0m \u001b[0mbatch_to_labels\u001b[0m\u001b[1;33m(\u001b[0m\u001b[0mbatch\u001b[0m\u001b[1;33m,\u001b[0m \u001b[1;34m'train'\u001b[0m\u001b[1;33m)\u001b[0m\u001b[1;33m\u001b[0m\u001b[1;33m\u001b[0m\u001b[0m\n\u001b[0;32m     17\u001b[0m \u001b[1;33m\u001b[0m\u001b[0m\n",
      "\u001b[1;32m<ipython-input-10-16d043c9d6cb>\u001b[0m in \u001b[0;36mbatch_to_padded_tensors\u001b[1;34m(batch, mode)\u001b[0m\n\u001b[0;32m     19\u001b[0m         \u001b[0mtensors\u001b[0m\u001b[1;33m[\u001b[0m\u001b[0mi\u001b[0m\u001b[1;33m,\u001b[0m \u001b[1;36m0\u001b[0m\u001b[1;33m:\u001b[0m\u001b[0midx_to_length\u001b[0m\u001b[1;33m[\u001b[0m\u001b[0midx\u001b[0m\u001b[1;33m]\u001b[0m\u001b[1;33m]\u001b[0m \u001b[1;33m=\u001b[0m \u001b[0mtorch\u001b[0m\u001b[1;33m.\u001b[0m\u001b[0mLongTensor\u001b[0m\u001b[1;33m(\u001b[0m\u001b[0midx_to_vector\u001b[0m\u001b[1;33m[\u001b[0m\u001b[0midx\u001b[0m\u001b[1;33m.\u001b[0m\u001b[0mitem\u001b[0m\u001b[1;33m(\u001b[0m\u001b[1;33m)\u001b[0m\u001b[1;33m]\u001b[0m\u001b[1;33m)\u001b[0m\u001b[1;33m\u001b[0m\u001b[1;33m\u001b[0m\u001b[0m\n\u001b[0;32m     20\u001b[0m \u001b[1;33m\u001b[0m\u001b[0m\n\u001b[1;32m---> 21\u001b[1;33m     \u001b[1;32mreturn\u001b[0m \u001b[0mtensors\u001b[0m\u001b[1;33m.\u001b[0m\u001b[0mto\u001b[0m\u001b[1;33m(\u001b[0m\u001b[0mdevice\u001b[0m\u001b[1;33m)\u001b[0m\u001b[1;33m\u001b[0m\u001b[1;33m\u001b[0m\u001b[0m\n\u001b[0m\u001b[0;32m     22\u001b[0m \u001b[1;33m\u001b[0m\u001b[0m\n\u001b[0;32m     23\u001b[0m \u001b[1;32mdef\u001b[0m \u001b[0mbatch_to_labels\u001b[0m\u001b[1;33m(\u001b[0m\u001b[0mbatch\u001b[0m\u001b[1;33m,\u001b[0m \u001b[0mmode\u001b[0m\u001b[1;33m)\u001b[0m\u001b[1;33m:\u001b[0m\u001b[1;33m\u001b[0m\u001b[1;33m\u001b[0m\u001b[0m\n",
      "\u001b[1;31mKeyboardInterrupt\u001b[0m: "
     ]
    }
   ],
   "source": [
    "train(model, train_loader)"
   ]
  },
  {
   "cell_type": "code",
   "execution_count": null,
   "id": "368adb6e-42ec-48ba-a502-41783ee28d19",
   "metadata": {},
   "outputs": [],
   "source": [
    "plt.plot(range(num_epochs), epoch_train_accuracy, label='train accuracy vs epoch', color='red' )\n",
    "plt.plot(range(num_epochs), epoch_train_F1, label='train F1 vs epoch', color='blue' )\n",
    "plt.plot(range(num_epochs), epoch_dev_accuracy, label='validation accuracy vs epoch', color='green' )\n",
    "plt.plot(range(num_epochs), epoch_dev_F1, label='validation F1 vs epoch', color='orange' )\n",
    "plt.xlabel('epoch')\n",
    "plt.ylabel('value')\n",
    "plt.legend()"
   ]
  },
  {
   "cell_type": "code",
   "execution_count": null,
   "id": "c5bc7b3b-b79b-4fa3-bf48-ad5cba8db147",
   "metadata": {},
   "outputs": [],
   "source": []
  },
  {
   "cell_type": "markdown",
   "id": "606f3489-4154-43be-83b6-201c187ff23c",
   "metadata": {},
   "source": []
  }
 ],
 "metadata": {
  "kernelspec": {
   "display_name": "Python 3",
   "language": "python",
   "name": "python3"
  },
  "language_info": {
   "codemirror_mode": {
    "name": "ipython",
    "version": 3
   },
   "file_extension": ".py",
   "mimetype": "text/x-python",
   "name": "python",
   "nbconvert_exporter": "python",
   "pygments_lexer": "ipython3",
   "version": "3.8.8"
  }
 },
 "nbformat": 4,
 "nbformat_minor": 5
}
