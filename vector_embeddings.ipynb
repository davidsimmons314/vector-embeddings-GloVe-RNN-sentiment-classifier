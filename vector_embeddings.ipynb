{
 "cells": [
  {
   "cell_type": "markdown",
   "id": "1c52387c-3aa1-4624-9555-36ae9f52ba2d",
   "metadata": {},
   "source": [
    "Author: David Simmons\n",
    "\n",
    "Description: Computing word similarities and analogies from GloVe: https://nlp.stanford.edu/projects/glove/"
   ]
  },
  {
   "cell_type": "code",
   "execution_count": 1,
   "id": "47f60bb3-797c-46c8-baf5-7ac0d2d8b6ab",
   "metadata": {},
   "outputs": [],
   "source": [
    "import os\n",
    "import numpy as np\n",
    "from tqdm.notebook import tqdm"
   ]
  },
  {
   "cell_type": "code",
   "execution_count": 2,
   "id": "efded24a-df78-4eb1-9ab4-e11b6dcaa9ab",
   "metadata": {},
   "outputs": [
    {
     "data": {
      "application/vnd.jupyter.widget-view+json": {
       "model_id": "47430d5751ef4806bac0fa51453ccc59",
       "version_major": 2,
       "version_minor": 0
      },
      "text/plain": [
       "  0%|          | 0/400000 [00:00<?, ?it/s]"
      ]
     },
     "metadata": {},
     "output_type": "display_data"
    }
   ],
   "source": [
    "cwd = os.getcwd()\n",
    "\n",
    "glove_path = cwd + '/glove.6B.300d.txt'\n",
    "embedding_dim = 300\n",
    "vocab_size = 400000\n",
    "\n",
    "words = []\n",
    "vectors = np.empty((vocab_size, embedding_dim), dtype=float)\n",
    "\n",
    "with open(glove_path, 'r', encoding='UTF-8') as f:\n",
    "    for i, line in enumerate(tqdm(f.readlines())):\n",
    "        parsed_line = line.split()\n",
    "        words += [parsed_line[0]]\n",
    "        vectors[i,:] = np.reshape(np.array(parsed_line[1:], dtype=float), (1,embedding_dim))"
   ]
  },
  {
   "cell_type": "code",
   "execution_count": 3,
   "id": "9d9833bf-ebbf-4af3-ad99-92dd2f2e67e1",
   "metadata": {},
   "outputs": [
    {
     "data": {
      "application/vnd.jupyter.widget-view+json": {
       "model_id": "73565277e30346558f5d10623fa61b75",
       "version_major": 2,
       "version_minor": 0
      },
      "text/plain": [
       "  0%|          | 0/400000 [00:00<?, ?it/s]"
      ]
     },
     "metadata": {},
     "output_type": "display_data"
    }
   ],
   "source": [
    "norms = np.empty(vocab_size, dtype=float)\n",
    "\n",
    "for i in tqdm(range(vocab_size)):\n",
    "    norms[i] = np.linalg.norm(vectors[i])"
   ]
  },
  {
   "cell_type": "code",
   "execution_count": 4,
   "id": "ee62da48-0e37-4b48-b83e-41d25c15bcbb",
   "metadata": {},
   "outputs": [],
   "source": [
    "def most_similar(word):\n",
    "    index = words.index(word)\n",
    "    word_vector = vectors[index, :]\n",
    "    word_norm = norms[index]\n",
    "    \n",
    "    cosine_similarities = np.empty(vocab_size, dtype=float)\n",
    "\n",
    "    for i in range(vocab_size):\n",
    "        cosine_similarities[i] = word_vector.dot(vectors[i]) / (word_norm * norms[i])\n",
    "    \n",
    "    indices = np.argpartition(cosine_similarities, -2)[-2:]\n",
    "    \n",
    "    for i in indices:\n",
    "        if words[i] != word:\n",
    "            print(words[i], '{value:.3f}'.format(value=cosine_similarities[i]))"
   ]
  },
  {
   "cell_type": "code",
   "execution_count": 5,
   "id": "1d7619c3-30dc-471a-9609-b9a0795abb1e",
   "metadata": {},
   "outputs": [
    {
     "name": "stdout",
     "output_type": "stream",
     "text": [
      "dogs 0.789\n"
     ]
    }
   ],
   "source": [
    "most_similar('dog')"
   ]
  },
  {
   "cell_type": "code",
   "execution_count": 6,
   "id": "e78b5043-2cb1-4658-ac20-48945b31661d",
   "metadata": {},
   "outputs": [
    {
     "name": "stdout",
     "output_type": "stream",
     "text": [
      "whales 0.781\n"
     ]
    }
   ],
   "source": [
    "most_similar('whale')"
   ]
  },
  {
   "cell_type": "code",
   "execution_count": 7,
   "id": "905bfa92-f488-450f-923f-57a3d35e0f6d",
   "metadata": {},
   "outputs": [
    {
     "name": "stdout",
     "output_type": "stream",
     "text": [
      "after 0.826\n"
     ]
    }
   ],
   "source": [
    "most_similar('before')"
   ]
  },
  {
   "cell_type": "code",
   "execution_count": 8,
   "id": "6bea8ec8-58f0-4c04-9645-563082482c0b",
   "metadata": {},
   "outputs": [
    {
     "name": "stdout",
     "output_type": "stream",
     "text": [
      "although 0.907\n"
     ]
    }
   ],
   "source": [
    "most_similar('however')"
   ]
  },
  {
   "cell_type": "code",
   "execution_count": 9,
   "id": "54248bf7-4c0a-4ce9-b349-afa06601cc68",
   "metadata": {},
   "outputs": [
    {
     "name": "stdout",
     "output_type": "stream",
     "text": [
      "fabricating 0.565\n"
     ]
    }
   ],
   "source": [
    "most_similar('fabricate')"
   ]
  },
  {
   "cell_type": "code",
   "execution_count": 10,
   "id": "2668d0b4-0884-463b-8166-2a9275c5395d",
   "metadata": {},
   "outputs": [],
   "source": [
    "def analogies(word_A, word_a, word_B):\n",
    "    index_A = words.index(word_A)\n",
    "    index_a = words.index(word_a)\n",
    "    index_B = words.index(word_B)\n",
    "    vector = -vectors[index_A, :] + vectors[index_a, :] + vectors[index_B, :]\n",
    "    norm = np.linalg.norm(vector)\n",
    "    \n",
    "    cosine_similarities = np.empty(vocab_size, dtype=float)\n",
    "\n",
    "    for i in range(vocab_size):\n",
    "        cosine_similarities[i] = vector.dot(vectors[i]) / (norm * norms[i])\n",
    "    \n",
    "    indices = np.argpartition(cosine_similarities, -6)[-6:]\n",
    "    \n",
    "    top_analogies = []\n",
    "    for i in indices:\n",
    "        if words[i] not in [word_A, word_a, word_B]:\n",
    "            top_analogies += [(words[i],cosine_similarities[i])]\n",
    "    \n",
    "    top_analogies = sorted(top_analogies, key = lambda x: x[1], reverse=True)\n",
    "    \n",
    "    print(word_A + ' : ' + word_a + ' :: ' + word_B + ' : ')\n",
    "    print('---------------------------')\n",
    "    print('Answer | Cosine Similarity')\n",
    "    print('---------------------------')\n",
    "    for i in range(3):\n",
    "        print(top_analogies[i][0],'| {value:.3f}'.format( value=top_analogies[i][1]))\n"
   ]
  },
  {
   "cell_type": "code",
   "execution_count": 11,
   "id": "2cc42a85-9387-4fc3-a601-744b8013f161",
   "metadata": {},
   "outputs": [
    {
     "name": "stdout",
     "output_type": "stream",
     "text": [
      "dog : puppy :: cat : \n",
      "---------------------------\n",
      "Answer | Cosine Similarity\n",
      "---------------------------\n",
      "puppies | 0.566\n",
      "kitten | 0.529\n",
      "kittens | 0.517\n"
     ]
    }
   ],
   "source": [
    "analogies('dog', 'puppy', 'cat')"
   ]
  },
  {
   "cell_type": "code",
   "execution_count": 12,
   "id": "431185c7-fe4d-4c1c-ba11-9b095554c951",
   "metadata": {},
   "outputs": [
    {
     "name": "stdout",
     "output_type": "stream",
     "text": [
      "speak : speaker :: sing : \n",
      "---------------------------\n",
      "Answer | Cosine Similarity\n",
      "---------------------------\n",
      "sang | 0.477\n",
      "chorus | 0.446\n",
      "singing | 0.440\n"
     ]
    }
   ],
   "source": [
    "analogies('speak', 'speaker', 'sing')"
   ]
  },
  {
   "cell_type": "code",
   "execution_count": 13,
   "id": "cfeeca61-c5a5-4f16-a288-b1f570b95e01",
   "metadata": {},
   "outputs": [
    {
     "name": "stdout",
     "output_type": "stream",
     "text": [
      "france : french :: england : \n",
      "---------------------------\n",
      "Answer | Cosine Similarity\n",
      "---------------------------\n",
      "english | 0.676\n",
      "british | 0.519\n",
      "cricket | 0.478\n"
     ]
    }
   ],
   "source": [
    "analogies('france', 'french', 'england')"
   ]
  },
  {
   "cell_type": "code",
   "execution_count": 14,
   "id": "5e5fb3ee-8149-4109-97b7-6b5fefaa1f88",
   "metadata": {},
   "outputs": [
    {
     "name": "stdout",
     "output_type": "stream",
     "text": [
      "france : wine :: england : \n",
      "---------------------------\n",
      "Answer | Cosine Similarity\n",
      "---------------------------\n",
      "wines | 0.513\n",
      "tea | 0.477\n",
      "beer | 0.429\n"
     ]
    }
   ],
   "source": [
    "analogies('france', 'wine', 'england')"
   ]
  },
  {
   "cell_type": "code",
   "execution_count": null,
   "id": "fe820a59-b0fb-4833-b370-63f8c5f5d266",
   "metadata": {},
   "outputs": [],
   "source": []
  }
 ],
 "metadata": {
  "kernelspec": {
   "display_name": "Python 3",
   "language": "python",
   "name": "python3"
  },
  "language_info": {
   "codemirror_mode": {
    "name": "ipython",
    "version": 3
   },
   "file_extension": ".py",
   "mimetype": "text/x-python",
   "name": "python",
   "nbconvert_exporter": "python",
   "pygments_lexer": "ipython3",
   "version": "3.8.8"
  }
 },
 "nbformat": 4,
 "nbformat_minor": 5
}
