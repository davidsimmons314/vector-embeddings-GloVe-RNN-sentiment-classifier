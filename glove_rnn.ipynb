{
 "cells": [
  {
   "cell_type": "markdown",
   "id": "08b6713d-297b-49fc-8545-20ea89ea0989",
   "metadata": {},
   "source": [
    "Author: David Simmons\n",
    "\n",
    "Description: Classifying movie reviews using GloVe and an RNN"
   ]
  },
  {
   "cell_type": "code",
   "execution_count": 1,
   "id": "e8e06a93-0560-4c54-a33b-1e2159fc5c1f",
   "metadata": {},
   "outputs": [
    {
     "name": "stdout",
     "output_type": "stream",
     "text": [
      "cuda:0\n"
     ]
    }
   ],
   "source": [
    "import torch\n",
    "import torch.nn as nn\n",
    "import torch.nn.functional as F\n",
    "import torch.optim as optim\n",
    "\n",
    "import os\n",
    "from tqdm.notebook import tqdm\n",
    "import numpy as np\n",
    "import re\n",
    "import random\n",
    "from datetime import datetime\n",
    "import matplotlib.pyplot as plt\n",
    "\n",
    "torch.manual_seed(1)\n",
    "torch.cuda.empty_cache()\n",
    "\n",
    "device = torch.device(\"cuda:0\" if torch.cuda.is_available() else \"cpu\")\n",
    "print(device)"
   ]
  },
  {
   "cell_type": "code",
   "execution_count": 2,
   "id": "aa8e46b5-42c9-4417-9d82-142994752d14",
   "metadata": {},
   "outputs": [
    {
     "data": {
      "application/vnd.jupyter.widget-view+json": {
       "model_id": "23eb16cf45b14c09a6ece584ab6dc2af",
       "version_major": 2,
       "version_minor": 0
      },
      "text/plain": [
       "  0%|          | 0/400000 [00:00<?, ?it/s]"
      ]
     },
     "metadata": {},
     "output_type": "display_data"
    }
   ],
   "source": [
    "# read in vocab and embeddings from GloVe\n",
    "glove_path = 'glove.6B.300d.txt'\n",
    "\n",
    "embedding_dim = 300\n",
    "glove_vocab_size = 400000\n",
    "\n",
    "glove_vocab = []\n",
    "glove_vectors = torch.empty((glove_vocab_size, embedding_dim), dtype=torch.float)\n",
    "\n",
    "with open(glove_path, 'r', encoding='UTF-8') as f:\n",
    "    for i, line in enumerate(tqdm(f.readlines())):\n",
    "        parsed_line = line.split()\n",
    "        glove_vocab += [parsed_line[0]]\n",
    "        glove_vectors[i,:] = torch.reshape(torch.tensor(list(map(float, parsed_line[1:])), dtype=torch.float), (1,embedding_dim))"
   ]
  },
  {
   "cell_type": "code",
   "execution_count": 3,
   "id": "ba8ccef1-5e68-4cf0-89df-feb5d695ee27",
   "metadata": {},
   "outputs": [],
   "source": [
    "glove_idx = torch.LongTensor(torch.zeros(glove_vocab_size,dtype=int))\n",
    "for idx in range(glove_vocab_size):\n",
    "    glove_idx[idx] = idx + 1"
   ]
  },
  {
   "cell_type": "code",
   "execution_count": 4,
   "id": "e55c39f6-78a3-4f45-b357-36894e891548",
   "metadata": {},
   "outputs": [
    {
     "data": {
      "application/vnd.jupyter.widget-view+json": {
       "model_id": "0c5057b74cf74b47b0b6e155f2c5b77d",
       "version_major": 2,
       "version_minor": 0
      },
      "text/plain": [
       "  0%|          | 0/705 [00:00<?, ?it/s]"
      ]
     },
     "metadata": {},
     "output_type": "display_data"
    },
    {
     "data": {
      "application/vnd.jupyter.widget-view+json": {
       "model_id": "e9910f5ba71b4a1da8c93ff189c56f70",
       "version_major": 2,
       "version_minor": 0
      },
      "text/plain": [
       "  0%|          | 0/695 [00:00<?, ?it/s]"
      ]
     },
     "metadata": {},
     "output_type": "display_data"
    },
    {
     "data": {
      "application/vnd.jupyter.widget-view+json": {
       "model_id": "fb446a30e4fb440fbaaf42273438fb30",
       "version_major": 2,
       "version_minor": 0
      },
      "text/plain": [
       "  0%|          | 0/1400 [00:00<?, ?it/s]"
      ]
     },
     "metadata": {},
     "output_type": "display_data"
    }
   ],
   "source": [
    "vocab = ['<pad>'] + glove_vocab\n",
    "padding_index = 0\n",
    "\n",
    "vocab_dict = {}\n",
    "for idx in range(len(vocab)):\n",
    "    vocab_dict[vocab[idx]] = idx\n",
    "    \n",
    "# read in train filepath\n",
    "train_dir = 'review_polarity/txt_sentoken/train'\n",
    "train_data_unshuffled = []\n",
    "\n",
    "pos_dir = train_dir + '/pos'\n",
    "for filename in tqdm(os.listdir(pos_dir)):\n",
    "    if filename.endswith(\".txt\"):\n",
    "        filepath = pos_dir + '/' + filename\n",
    "        train_data_unshuffled += [(filepath, 1)]\n",
    "\n",
    "neg_dir = train_dir + '/neg'\n",
    "for filename in tqdm(os.listdir(neg_dir)):\n",
    "    if filename.endswith(\".txt\"):\n",
    "        filepath = neg_dir + '/' + filename\n",
    "        train_data_unshuffled += [(filepath, 0)]\n",
    "        \n",
    "train_data = random.sample(train_data_unshuffled, len(train_data_unshuffled))\n",
    "train_size = len(train_data)\n",
    "\n",
    "train_vocab = []\n",
    "for filename, _ in tqdm(train_data):\n",
    "    with open(filename, 'r', encoding='UTF-8') as f:\n",
    "        for line in f.readlines():\n",
    "            parsed_line = line.split()\n",
    "            for token in parsed_line:\n",
    "                if vocab_dict.get(token) == None:\n",
    "                    token_split = re.split('([^a-zA-Z0-9])', token)\n",
    "                    for sub_token in token_split:\n",
    "                        if vocab_dict.get(sub_token) == None:\n",
    "                            if sub_token != '':\n",
    "                                vocab_dict[sub_token] = len(vocab_dict)\n",
    "                                vocab += [sub_token]\n",
    "                                train_vocab += [sub_token]\n",
    "\n",
    "vocab_size = len(vocab)"
   ]
  },
  {
   "cell_type": "code",
   "execution_count": 5,
   "id": "68c53726-b175-494e-abc6-5ffe8a1e6d2b",
   "metadata": {},
   "outputs": [
    {
     "data": {
      "application/vnd.jupyter.widget-view+json": {
       "model_id": "1a246d3cc18046c4ae4be5d167070f2b",
       "version_major": 2,
       "version_minor": 0
      },
      "text/plain": [
       "0it [00:00, ?it/s]"
      ]
     },
     "metadata": {},
     "output_type": "display_data"
    }
   ],
   "source": [
    "# read in train dataset\n",
    "train_dir = 'review_polarity/txt_sentoken/train'\n",
    "\n",
    "train_file_to_idx = {}\n",
    "train_idx_to_file = np.empty(train_size, dtype=np.dtype('U100'))\n",
    "train_idx_to_label = np.empty(train_size, dtype=int)\n",
    "\n",
    "train_idx_to_vector = {}\n",
    "train_idx_to_length = np.empty(train_size, dtype=int)\n",
    "\n",
    "for idx, (filename, label) in tqdm(enumerate(train_data)):\n",
    "    train_file_to_idx[filename] = idx\n",
    "    train_idx_to_file[idx] = filename\n",
    "    train_idx_to_label[idx] = label\n",
    "    \n",
    "    vector = []\n",
    "    with open(filename, 'r', encoding='UTF-8') as f:\n",
    "        for line in f.readlines():\n",
    "            parsed_line = line.split()\n",
    "            for token in parsed_line:\n",
    "                if vocab_dict.get(token) != None:\n",
    "                    vector += [vocab_dict[token]]\n",
    "                else:\n",
    "                    token_split = re.split('([^a-zA-Z0-9])', token)\n",
    "                    for sub_token in token_split:\n",
    "                        if vocab_dict.get(sub_token) != None and sub_token != '':\n",
    "                            vector += [vocab_dict[sub_token]]\n",
    "    train_idx_to_vector[idx] = vector\n",
    "    train_idx_to_length[idx] = len(vector)\n",
    "    \n",
    "train_idx = list(range(train_size))"
   ]
  },
  {
   "cell_type": "code",
   "execution_count": 6,
   "id": "a2aeb706-3a35-47c5-8c2f-43316298f256",
   "metadata": {},
   "outputs": [
    {
     "data": {
      "application/vnd.jupyter.widget-view+json": {
       "model_id": "ce92e461c9414ee4b5dd1f30db15073f",
       "version_major": 2,
       "version_minor": 0
      },
      "text/plain": [
       "  0%|          | 0/146 [00:00<?, ?it/s]"
      ]
     },
     "metadata": {},
     "output_type": "display_data"
    },
    {
     "data": {
      "application/vnd.jupyter.widget-view+json": {
       "model_id": "7b5e39bf99a445c8a95014c8e34fed01",
       "version_major": 2,
       "version_minor": 0
      },
      "text/plain": [
       "  0%|          | 0/154 [00:00<?, ?it/s]"
      ]
     },
     "metadata": {},
     "output_type": "display_data"
    }
   ],
   "source": [
    "# read in dev filepath\n",
    "dev_dir = 'review_polarity/txt_sentoken/dev'\n",
    "dev_data_unshuffled = []\n",
    "\n",
    "pos_dir = dev_dir + '/pos'\n",
    "for filename in tqdm(os.listdir(pos_dir)):\n",
    "    if filename.endswith(\".txt\"):\n",
    "        filepath = pos_dir + '/' + filename\n",
    "        dev_data_unshuffled += [(filepath, 1)]\n",
    "\n",
    "neg_dir = dev_dir + '/neg'\n",
    "for filename in tqdm(os.listdir(neg_dir)):\n",
    "    if filename.endswith(\".txt\"):\n",
    "        filepath = neg_dir + '/' + filename\n",
    "        dev_data_unshuffled += [(filepath, 0)]\n",
    "        \n",
    "dev_data = random.sample(dev_data_unshuffled, len(dev_data_unshuffled))\n",
    "dev_size = len(dev_data)"
   ]
  },
  {
   "cell_type": "code",
   "execution_count": 7,
   "id": "8cf554f8-1c10-4738-a119-099dd8daacc5",
   "metadata": {},
   "outputs": [
    {
     "data": {
      "application/vnd.jupyter.widget-view+json": {
       "model_id": "42d21a33e42447afa129d12bb2cc0e55",
       "version_major": 2,
       "version_minor": 0
      },
      "text/plain": [
       "0it [00:00, ?it/s]"
      ]
     },
     "metadata": {},
     "output_type": "display_data"
    }
   ],
   "source": [
    "# read in dev dataset\n",
    "dev_dir = 'review_polarity/txt_sentoken/dev'\n",
    "\n",
    "dev_file_to_idx = {}\n",
    "dev_idx_to_file = np.empty(dev_size, dtype=np.dtype('U100'))\n",
    "dev_idx_to_label = np.empty(dev_size, dtype=int)\n",
    "\n",
    "dev_idx_to_vector = {}\n",
    "dev_idx_to_length = np.empty(train_size, dtype=int)\n",
    "\n",
    "for idx, (filename, label) in tqdm(enumerate(dev_data)):\n",
    "    dev_file_to_idx[filename] = idx\n",
    "    dev_idx_to_file[idx] = filename\n",
    "    dev_idx_to_label[idx] = label\n",
    "    \n",
    "    vector = []\n",
    "    with open(filename, 'r', encoding='UTF-8') as f:\n",
    "        for line in f.readlines():\n",
    "            parsed_line = line.split()\n",
    "            for token in parsed_line:\n",
    "                if vocab_dict.get(token) != None:\n",
    "                    vector += [vocab_dict[token]]\n",
    "                else:\n",
    "                    token_split = re.split('([^a-zA-Z0-9])', token)\n",
    "                    for sub_token in token_split:\n",
    "                        if vocab_dict.get(sub_token) != None and sub_token != '':\n",
    "                            vector += [vocab_dict[sub_token]]\n",
    "    dev_idx_to_vector[idx] = vector\n",
    "    dev_idx_to_length[idx] = len(vector)\n",
    "    \n",
    "dev_idx = list(range(dev_size))"
   ]
  },
  {
   "cell_type": "code",
   "execution_count": 8,
   "id": "370381bd-2450-4078-9256-6ba9bc0ccbf4",
   "metadata": {},
   "outputs": [
    {
     "data": {
      "application/vnd.jupyter.widget-view+json": {
       "model_id": "9b705b0ff3684c909ce82fb52847294b",
       "version_major": 2,
       "version_minor": 0
      },
      "text/plain": [
       "  0%|          | 0/149 [00:00<?, ?it/s]"
      ]
     },
     "metadata": {},
     "output_type": "display_data"
    },
    {
     "data": {
      "application/vnd.jupyter.widget-view+json": {
       "model_id": "148aaef107f8457ab9c7fad63403641d",
       "version_major": 2,
       "version_minor": 0
      },
      "text/plain": [
       "  0%|          | 0/151 [00:00<?, ?it/s]"
      ]
     },
     "metadata": {},
     "output_type": "display_data"
    }
   ],
   "source": [
    "# read in test filepath\n",
    "test_dir = 'review_polarity/txt_sentoken/test'\n",
    "test_data_unshuffled = []\n",
    "\n",
    "pos_dir = test_dir + '/pos'\n",
    "for filename in tqdm(os.listdir(pos_dir)):\n",
    "    if filename.endswith(\".txt\"):\n",
    "        filepath = pos_dir + '/' + filename\n",
    "        test_data_unshuffled += [(filepath, 1)]\n",
    "\n",
    "neg_dir = test_dir + '/neg'\n",
    "for filename in tqdm(os.listdir(neg_dir)):\n",
    "    if filename.endswith(\".txt\"):\n",
    "        filepath = neg_dir + '/' + filename\n",
    "        test_data_unshuffled += [(filepath, 0)]\n",
    "        \n",
    "test_data = random.sample(test_data_unshuffled, len(test_data_unshuffled))\n",
    "test_size = len(test_data)"
   ]
  },
  {
   "cell_type": "code",
   "execution_count": 9,
   "id": "3089adb9-67fb-41f8-a5b8-be111090eb05",
   "metadata": {},
   "outputs": [
    {
     "data": {
      "application/vnd.jupyter.widget-view+json": {
       "model_id": "bb5f6fd98361459a894878ae79bec705",
       "version_major": 2,
       "version_minor": 0
      },
      "text/plain": [
       "0it [00:00, ?it/s]"
      ]
     },
     "metadata": {},
     "output_type": "display_data"
    }
   ],
   "source": [
    "# read in test dataset\n",
    "test_dir = 'review_polarity/txt_sentoken/test'\n",
    "\n",
    "test_file_to_idx = {}\n",
    "test_idx_to_file = np.empty(test_size, dtype=np.dtype('U100'))\n",
    "test_idx_to_label = np.empty(test_size, dtype=int)\n",
    "\n",
    "test_idx_to_vector = {}\n",
    "test_idx_to_length = np.empty(train_size, dtype=int)\n",
    "\n",
    "for idx, (filename, label) in tqdm(enumerate(test_data)):\n",
    "    test_file_to_idx[filename] = idx\n",
    "    test_idx_to_file[idx] = filename\n",
    "    test_idx_to_label[idx] = label\n",
    "    \n",
    "    vector = []\n",
    "    with open(filename, 'r', encoding='UTF-8') as f:\n",
    "        for line in f.readlines():\n",
    "            parsed_line = line.split()\n",
    "            for token in parsed_line:\n",
    "                if vocab_dict.get(token) != None:\n",
    "                    vector += [vocab_dict[token]]\n",
    "                else:\n",
    "                    token_split = re.split('([^a-zA-Z0-9])', token)\n",
    "                    for sub_token in token_split:\n",
    "                        if vocab_dict.get(sub_token) != None and sub_token != '':\n",
    "                            vector += [vocab_dict[sub_token]]\n",
    "    test_idx_to_vector[idx] = vector\n",
    "    test_idx_to_length[idx] = len(vector)\n",
    "    \n",
    "test_idx = list(range(test_size))"
   ]
  },
  {
   "cell_type": "code",
   "execution_count": 10,
   "id": "af58aaf2-3bc5-41b4-92e6-47c13b22396a",
   "metadata": {},
   "outputs": [],
   "source": [
    "# functions\n",
    "def batch_to_padded_tensors(batch, mode):\n",
    "    if mode == 'train':\n",
    "        idx_to_vector = train_idx_to_vector\n",
    "        idx_to_length = train_idx_to_length\n",
    "    elif mode == 'dev':\n",
    "        idx_to_vector = dev_idx_to_vector\n",
    "        idx_to_length = dev_idx_to_length\n",
    "    elif mode == 'test':\n",
    "        idx_to_vector = test_idx_to_vector\n",
    "        idx_to_length = test_idx_to_length\n",
    "    \n",
    "    size = len(batch)\n",
    "    lengths = idx_to_length[batch].reshape(size)\n",
    "    max_length = max(lengths)\n",
    "    \n",
    "    tensors = torch.zeros((size, max_length), dtype=int).long()\n",
    "    for i, idx in enumerate(batch):\n",
    "        tensors[i, 0:idx_to_length[idx]] = torch.LongTensor(idx_to_vector[idx.item()])\n",
    "               \n",
    "    return tensors.to(device)\n",
    "\n",
    "def batch_to_labels(batch, mode):\n",
    "    if mode == 'train':\n",
    "        idx_to_label = train_idx_to_label\n",
    "    elif mode == 'dev':\n",
    "        idx_to_label = dev_idx_to_label\n",
    "    elif mode == 'test':\n",
    "        idx_to_label = test_idx_to_label\n",
    "    \n",
    "    size = len(batch)\n",
    "    labels = idx_to_label[batch].reshape(size)\n",
    "        \n",
    "    return torch.LongTensor(labels).to(device)"
   ]
  },
  {
   "cell_type": "code",
   "execution_count": 11,
   "id": "e0f3e510-f798-4377-9b01-1d0c7de4cbba",
   "metadata": {},
   "outputs": [],
   "source": [
    "#hyper-parameters\n",
    "hidden_size = 512\n",
    "num_labels = 2\n",
    "\n",
    "num_epochs = 150\n",
    "learning_rate = 0.001\n",
    "\n",
    "batch_size = 10\n",
    "\n",
    "train_loader = torch.utils.data.DataLoader(train_idx, batch_size=batch_size)\n",
    "dev_loader = torch.utils.data.DataLoader(dev_idx, batch_size=batch_size)\n",
    "test_loader = torch.utils.data.DataLoader(test_idx, batch_size=batch_size)"
   ]
  },
  {
   "cell_type": "code",
   "execution_count": 12,
   "id": "5c776b88-bf75-4a60-9b86-7fb2faab63af",
   "metadata": {
    "tags": []
   },
   "outputs": [],
   "source": [
    "class RNN_Classifier(nn.Module):\n",
    "    def __init__(self, hidden_size):\n",
    "        super().__init__()\n",
    "        \n",
    "        self.vocab_size = vocab_size\n",
    "        self.embedding_dim = embedding_dim\n",
    "        self.hidden_size = hidden_size\n",
    "    \n",
    "        self.embedding = nn.Embedding(vocab_size, embedding_dim, padding_idx=padding_index)\n",
    "        \n",
    "        # initialize embeddings with glove embeddings\n",
    "        with torch.no_grad():\n",
    "            self.embedding.weight[glove_idx] = glove_vectors\n",
    "        \n",
    "        self.rnn = nn.RNN(embedding_dim, hidden_size, batch_first=True)\n",
    "        self.pooling = nn.AdaptiveMaxPool1d(1)\n",
    "        self.hidden_to_label = nn.Linear(hidden_size, num_labels)\n",
    "                \n",
    "    def forward(self, document_tensors):\n",
    "        \"\"\"\n",
    "        document_tensors : batch_size x sequence_length\n",
    "        \"\"\"\n",
    "        batch_size, sequence_length = document_tensors.shape\n",
    "        hidden_0 = torch.zeros((1, batch_size, self.hidden_size),dtype=torch.float).to(device)\n",
    "        \n",
    "        document_embeddings = self.embedding(document_tensors)\n",
    "        rnn_out, _ = self.rnn(document_embeddings.view(batch_size, sequence_length, embedding_dim), hidden_0)\n",
    "        pooling_out = self.pooling(rnn_out.transpose(1,2)).transpose(1,2)\n",
    "        \n",
    "        score = self.hidden_to_label(pooling_out).view(batch_size, -1)\n",
    "        \n",
    "        return F.log_softmax(score, dim=1)"
   ]
  },
  {
   "cell_type": "code",
   "execution_count": 13,
   "id": "c47adf56-ba5b-4477-81fa-1da5a1c73753",
   "metadata": {},
   "outputs": [],
   "source": [
    "def evaluate(model, data_loader, mode):\n",
    "    true_pos_count = 0\n",
    "    false_pos_count = 0\n",
    "    true_neg_count = 0\n",
    "    false_neg_count = 0\n",
    "\n",
    "    with torch.no_grad():\n",
    "        for index, batch in enumerate(data_loader):\n",
    "            current_batch_size = len(batch)\n",
    "            \n",
    "            batch_tensors = batch_to_padded_tensors(batch, mode)\n",
    "            batch_labels = batch_to_labels(batch, mode)\n",
    "\n",
    "            log_probs = model(batch_tensors)\n",
    "\n",
    "            predicted_labels = torch.argmax(log_probs, 1)\n",
    "\n",
    "            for i in range(current_batch_size):\n",
    "                if batch_labels[i] == 1 and predicted_labels[i] == 1:\n",
    "                    true_pos_count += 1\n",
    "                elif batch_labels[i] == 0 and predicted_labels[i] == 1:\n",
    "                    false_pos_count += 1\n",
    "                elif batch_labels[i] == 0 and predicted_labels[i] == 0:\n",
    "                    true_neg_count += 1\n",
    "                elif batch_labels[i] == 1 and predicted_labels[i] == 0:\n",
    "                    false_neg_count += 1\n",
    "\n",
    "    accuracy = (true_pos_count + true_neg_count) / (true_pos_count + false_pos_count + true_neg_count + false_neg_count)\n",
    "    \n",
    "    # compute F1 score on the class of pos reviews\n",
    "    if true_pos_count + false_pos_count != 0:\n",
    "        precision_pos = true_pos_count / (true_pos_count + false_pos_count)\n",
    "    else: \n",
    "        precision_pos = 0\n",
    "    if true_pos_count + false_neg_count != 0:\n",
    "        recall_pos = true_pos_count / (true_pos_count + false_neg_count)\n",
    "    else: \n",
    "        recall_pos = 0\n",
    "    \n",
    "    if precision_pos + recall_pos != 0:\n",
    "        F1_pos = 2 * (precision_pos * recall_pos) / (precision_pos + recall_pos)\n",
    "    else:\n",
    "        F1_pos = 0\n",
    "    \n",
    "    # compute F1 score on the class of neg reviews\n",
    "    if true_neg_count + false_neg_count != 0:\n",
    "        precision_neg = true_neg_count / (true_neg_count + false_neg_count)\n",
    "    else: \n",
    "        precision_neg = 0\n",
    "    if true_neg_count + false_neg_count != 0:\n",
    "        recall_neg = true_neg_count / (true_neg_count + false_pos_count)\n",
    "    else: \n",
    "        recall_neg = 0\n",
    "    \n",
    "    if precision_neg + recall_neg != 0:\n",
    "        F1_neg = 2 * (precision_neg * recall_neg) / (precision_neg + recall_neg)\n",
    "    else:\n",
    "        F1_neg = 0\n",
    "        \n",
    "    F1 = (F1_pos + F1_neg) / 2\n",
    "\n",
    "    return accuracy, F1"
   ]
  },
  {
   "cell_type": "code",
   "execution_count": 14,
   "id": "122555a3-dd62-406c-9432-b6089051383c",
   "metadata": {},
   "outputs": [],
   "source": [
    "epoch_train_accuracy = [0] * num_epochs\n",
    "epoch_train_F1 = [0] * num_epochs\n",
    "    \n",
    "epoch_dev_accuracy = [0] * num_epochs\n",
    "epoch_dev_F1 = [0] * num_epochs\n",
    "\n",
    "def train(model, train_loader):\n",
    "    start_time = datetime.now()\n",
    "    optimizer = torch.optim.SGD(model.parameters(), lr=learning_rate)\n",
    "    \n",
    "    for epoch in range(num_epochs):\n",
    "        print('epoch', epoch)\n",
    "        for index, batch in enumerate(tqdm(train_loader)):\n",
    "            current_batch_size = len(batch)\n",
    "            batch_tensors = batch_to_padded_tensors(batch, 'train')\n",
    "            batch_labels = batch_to_labels(batch, 'train')\n",
    "            \n",
    "            log_probs = model(batch_tensors)\n",
    "            model.zero_grad()\n",
    "            \n",
    "            loss = F.nll_loss(log_probs, batch_labels)\n",
    "            loss.backward()\n",
    "               \n",
    "            model.embedding.weight.grad[glove_idx] = 0\n",
    "            \n",
    "            optimizer.step()\n",
    "        \n",
    "        epoch_train_accuracy[epoch], epoch_train_F1[epoch] = evaluate(model, train_loader, 'train')\n",
    "        print('train accuracy = {val1:0.5f}'.format(val1=epoch_train_accuracy[epoch]), 'train macro-F1 = {val2:0.5f}'.format(val2=epoch_train_F1[epoch]))\n",
    "        \n",
    "        epoch_dev_accuracy[epoch], epoch_dev_F1[epoch] = evaluate(model, dev_loader, 'dev')\n",
    "        print('dev accuracy = {val1:0.5f}'.format(val1=epoch_dev_accuracy[epoch]), 'dev macro-F1 = {val2:0.5f}'.format(val2=epoch_dev_F1[epoch]))\n",
    "        \n",
    "    end_time = datetime.now()\n",
    "    total_time = end_time-start_time\n",
    "    \n",
    "    print('total training time:', total_time)"
   ]
  },
  {
   "cell_type": "code",
   "execution_count": 15,
   "id": "83baf12e-8146-4e8f-a2a8-41eb2be17bf1",
   "metadata": {},
   "outputs": [],
   "source": [
    "model = RNN_Classifier(hidden_size).to(device)"
   ]
  },
  {
   "cell_type": "code",
   "execution_count": 16,
   "id": "eed3b302-1d24-4993-81ee-288ae26d5ead",
   "metadata": {},
   "outputs": [
    {
     "name": "stdout",
     "output_type": "stream",
     "text": [
      "epoch 0\n"
     ]
    },
    {
     "data": {
      "application/vnd.jupyter.widget-view+json": {
       "model_id": "1f756b9833df49dc96037b79cd080ffe",
       "version_major": 2,
       "version_minor": 0
      },
      "text/plain": [
       "  0%|          | 0/140 [00:00<?, ?it/s]"
      ]
     },
     "metadata": {},
     "output_type": "display_data"
    },
    {
     "name": "stdout",
     "output_type": "stream",
     "text": [
      "train accuracy = 0.51357 train macro-F1 = 0.47640\n",
      "dev accuracy = 0.49000 dev macro-F1 = 0.43316\n",
      "epoch 1\n"
     ]
    },
    {
     "data": {
      "application/vnd.jupyter.widget-view+json": {
       "model_id": "da11cf86d3094330956b4da8ec31fe66",
       "version_major": 2,
       "version_minor": 0
      },
      "text/plain": [
       "  0%|          | 0/140 [00:00<?, ?it/s]"
      ]
     },
     "metadata": {},
     "output_type": "display_data"
    },
    {
     "name": "stdout",
     "output_type": "stream",
     "text": [
      "train accuracy = 0.53071 train macro-F1 = 0.49486\n",
      "dev accuracy = 0.49000 dev macro-F1 = 0.43316\n",
      "epoch 2\n"
     ]
    },
    {
     "data": {
      "application/vnd.jupyter.widget-view+json": {
       "model_id": "91bebc4f922c4ad78dc1854399b280d4",
       "version_major": 2,
       "version_minor": 0
      },
      "text/plain": [
       "  0%|          | 0/140 [00:00<?, ?it/s]"
      ]
     },
     "metadata": {},
     "output_type": "display_data"
    },
    {
     "name": "stdout",
     "output_type": "stream",
     "text": [
      "train accuracy = 0.54357 train macro-F1 = 0.50829\n",
      "dev accuracy = 0.48667 dev macro-F1 = 0.42810\n",
      "epoch 3\n"
     ]
    },
    {
     "data": {
      "application/vnd.jupyter.widget-view+json": {
       "model_id": "d2032df1b4d74e6a9d4d0b37a1b5dc81",
       "version_major": 2,
       "version_minor": 0
      },
      "text/plain": [
       "  0%|          | 0/140 [00:00<?, ?it/s]"
      ]
     },
     "metadata": {},
     "output_type": "display_data"
    },
    {
     "name": "stdout",
     "output_type": "stream",
     "text": [
      "train accuracy = 0.55643 train macro-F1 = 0.52095\n",
      "dev accuracy = 0.50667 dev macro-F1 = 0.45039\n",
      "epoch 4\n"
     ]
    },
    {
     "data": {
      "application/vnd.jupyter.widget-view+json": {
       "model_id": "d9fd501d5f4645879825c78158048686",
       "version_major": 2,
       "version_minor": 0
      },
      "text/plain": [
       "  0%|          | 0/140 [00:00<?, ?it/s]"
      ]
     },
     "metadata": {},
     "output_type": "display_data"
    },
    {
     "name": "stdout",
     "output_type": "stream",
     "text": [
      "train accuracy = 0.56500 train macro-F1 = 0.52941\n",
      "dev accuracy = 0.51000 dev macro-F1 = 0.45279\n",
      "epoch 5\n"
     ]
    },
    {
     "data": {
      "application/vnd.jupyter.widget-view+json": {
       "model_id": "3d89ec230d544e5a8b2fae0b7338456c",
       "version_major": 2,
       "version_minor": 0
      },
      "text/plain": [
       "  0%|          | 0/140 [00:00<?, ?it/s]"
      ]
     },
     "metadata": {},
     "output_type": "display_data"
    },
    {
     "name": "stdout",
     "output_type": "stream",
     "text": [
      "train accuracy = 0.57714 train macro-F1 = 0.54077\n",
      "dev accuracy = 0.52000 dev macro-F1 = 0.46266\n",
      "epoch 6\n"
     ]
    },
    {
     "data": {
      "application/vnd.jupyter.widget-view+json": {
       "model_id": "7f50f6f3dfcd42c798c045c2c3049d55",
       "version_major": 2,
       "version_minor": 0
      },
      "text/plain": [
       "  0%|          | 0/140 [00:00<?, ?it/s]"
      ]
     },
     "metadata": {},
     "output_type": "display_data"
    },
    {
     "name": "stdout",
     "output_type": "stream",
     "text": [
      "train accuracy = 0.58429 train macro-F1 = 0.54892\n",
      "dev accuracy = 0.52667 dev macro-F1 = 0.46750\n",
      "epoch 7\n"
     ]
    },
    {
     "data": {
      "application/vnd.jupyter.widget-view+json": {
       "model_id": "016bb054991f43a681f5fbd908f03ea7",
       "version_major": 2,
       "version_minor": 0
      },
      "text/plain": [
       "  0%|          | 0/140 [00:00<?, ?it/s]"
      ]
     },
     "metadata": {},
     "output_type": "display_data"
    },
    {
     "name": "stdout",
     "output_type": "stream",
     "text": [
      "train accuracy = 0.59429 train macro-F1 = 0.56091\n",
      "dev accuracy = 0.53333 dev macro-F1 = 0.47759\n",
      "epoch 8\n"
     ]
    },
    {
     "data": {
      "application/vnd.jupyter.widget-view+json": {
       "model_id": "c61914c0db3647d6ba8547f087fd6698",
       "version_major": 2,
       "version_minor": 0
      },
      "text/plain": [
       "  0%|          | 0/140 [00:00<?, ?it/s]"
      ]
     },
     "metadata": {},
     "output_type": "display_data"
    },
    {
     "name": "stdout",
     "output_type": "stream",
     "text": [
      "train accuracy = 0.60786 train macro-F1 = 0.57789\n",
      "dev accuracy = 0.54000 dev macro-F1 = 0.47987\n",
      "epoch 9\n"
     ]
    },
    {
     "data": {
      "application/vnd.jupyter.widget-view+json": {
       "model_id": "a21f3934c75d4760a94a712197f0c767",
       "version_major": 2,
       "version_minor": 0
      },
      "text/plain": [
       "  0%|          | 0/140 [00:00<?, ?it/s]"
      ]
     },
     "metadata": {},
     "output_type": "display_data"
    },
    {
     "name": "stdout",
     "output_type": "stream",
     "text": [
      "train accuracy = 0.62143 train macro-F1 = 0.59300\n",
      "dev accuracy = 0.54333 dev macro-F1 = 0.48231\n",
      "epoch 10\n"
     ]
    },
    {
     "data": {
      "application/vnd.jupyter.widget-view+json": {
       "model_id": "29c6171c9e3d419099b0cfe594fba268",
       "version_major": 2,
       "version_minor": 0
      },
      "text/plain": [
       "  0%|          | 0/140 [00:00<?, ?it/s]"
      ]
     },
     "metadata": {},
     "output_type": "display_data"
    },
    {
     "name": "stdout",
     "output_type": "stream",
     "text": [
      "train accuracy = 0.63214 train macro-F1 = 0.60500\n",
      "dev accuracy = 0.55333 dev macro-F1 = 0.49232\n",
      "epoch 11\n"
     ]
    },
    {
     "data": {
      "application/vnd.jupyter.widget-view+json": {
       "model_id": "8f2e1620604f41a993b526e238e03184",
       "version_major": 2,
       "version_minor": 0
      },
      "text/plain": [
       "  0%|          | 0/140 [00:00<?, ?it/s]"
      ]
     },
     "metadata": {},
     "output_type": "display_data"
    },
    {
     "name": "stdout",
     "output_type": "stream",
     "text": [
      "train accuracy = 0.64143 train macro-F1 = 0.61634\n",
      "dev accuracy = 0.56000 dev macro-F1 = 0.49723\n",
      "epoch 12\n"
     ]
    },
    {
     "data": {
      "application/vnd.jupyter.widget-view+json": {
       "model_id": "b77512a09e7e432fac8dd0b04ba17c53",
       "version_major": 2,
       "version_minor": 0
      },
      "text/plain": [
       "  0%|          | 0/140 [00:00<?, ?it/s]"
      ]
     },
     "metadata": {},
     "output_type": "display_data"
    },
    {
     "name": "stdout",
     "output_type": "stream",
     "text": [
      "train accuracy = 0.65143 train macro-F1 = 0.62847\n",
      "dev accuracy = 0.56000 dev macro-F1 = 0.49723\n",
      "epoch 13\n"
     ]
    },
    {
     "data": {
      "application/vnd.jupyter.widget-view+json": {
       "model_id": "cf547a1a5ea646178b11898504b53a84",
       "version_major": 2,
       "version_minor": 0
      },
      "text/plain": [
       "  0%|          | 0/140 [00:00<?, ?it/s]"
      ]
     },
     "metadata": {},
     "output_type": "display_data"
    },
    {
     "name": "stdout",
     "output_type": "stream",
     "text": [
      "train accuracy = 0.66143 train macro-F1 = 0.63994\n",
      "dev accuracy = 0.55667 dev macro-F1 = 0.49478\n",
      "epoch 14\n"
     ]
    },
    {
     "data": {
      "application/vnd.jupyter.widget-view+json": {
       "model_id": "7a7e28e70d504de49ba94fe2f6a1861f",
       "version_major": 2,
       "version_minor": 0
      },
      "text/plain": [
       "  0%|          | 0/140 [00:00<?, ?it/s]"
      ]
     },
     "metadata": {},
     "output_type": "display_data"
    },
    {
     "name": "stdout",
     "output_type": "stream",
     "text": [
      "train accuracy = 0.67143 train macro-F1 = 0.65185\n",
      "dev accuracy = 0.56333 dev macro-F1 = 0.49969\n",
      "epoch 15\n"
     ]
    },
    {
     "data": {
      "application/vnd.jupyter.widget-view+json": {
       "model_id": "0cca019598164116905114573c84437d",
       "version_major": 2,
       "version_minor": 0
      },
      "text/plain": [
       "  0%|          | 0/140 [00:00<?, ?it/s]"
      ]
     },
     "metadata": {},
     "output_type": "display_data"
    },
    {
     "name": "stdout",
     "output_type": "stream",
     "text": [
      "train accuracy = 0.69071 train macro-F1 = 0.67488\n",
      "dev accuracy = 0.56333 dev macro-F1 = 0.49969\n",
      "epoch 16\n"
     ]
    },
    {
     "data": {
      "application/vnd.jupyter.widget-view+json": {
       "model_id": "976aba64d81842a2b56e909359556736",
       "version_major": 2,
       "version_minor": 0
      },
      "text/plain": [
       "  0%|          | 0/140 [00:00<?, ?it/s]"
      ]
     },
     "metadata": {},
     "output_type": "display_data"
    },
    {
     "name": "stdout",
     "output_type": "stream",
     "text": [
      "train accuracy = 0.70643 train macro-F1 = 0.69298\n",
      "dev accuracy = 0.56333 dev macro-F1 = 0.49969\n",
      "epoch 17\n"
     ]
    },
    {
     "data": {
      "application/vnd.jupyter.widget-view+json": {
       "model_id": "033e28f3247040d19f507e3017d0c78c",
       "version_major": 2,
       "version_minor": 0
      },
      "text/plain": [
       "  0%|          | 0/140 [00:00<?, ?it/s]"
      ]
     },
     "metadata": {},
     "output_type": "display_data"
    },
    {
     "name": "stdout",
     "output_type": "stream",
     "text": [
      "train accuracy = 0.71857 train macro-F1 = 0.70667\n",
      "dev accuracy = 0.56333 dev macro-F1 = 0.49692\n",
      "epoch 18\n"
     ]
    },
    {
     "data": {
      "application/vnd.jupyter.widget-view+json": {
       "model_id": "4e4aa64701f0493e860e75a767bf854b",
       "version_major": 2,
       "version_minor": 0
      },
      "text/plain": [
       "  0%|          | 0/140 [00:00<?, ?it/s]"
      ]
     },
     "metadata": {},
     "output_type": "display_data"
    },
    {
     "name": "stdout",
     "output_type": "stream",
     "text": [
      "train accuracy = 0.72500 train macro-F1 = 0.71380\n",
      "dev accuracy = 0.56667 dev macro-F1 = 0.49936\n",
      "epoch 19\n"
     ]
    },
    {
     "data": {
      "application/vnd.jupyter.widget-view+json": {
       "model_id": "f2ef15b4377f4068be9523f3f15859c6",
       "version_major": 2,
       "version_minor": 0
      },
      "text/plain": [
       "  0%|          | 0/140 [00:00<?, ?it/s]"
      ]
     },
     "metadata": {},
     "output_type": "display_data"
    },
    {
     "name": "stdout",
     "output_type": "stream",
     "text": [
      "train accuracy = 0.73429 train macro-F1 = 0.72386\n",
      "dev accuracy = 0.57333 dev macro-F1 = 0.50980\n",
      "epoch 20\n"
     ]
    },
    {
     "data": {
      "application/vnd.jupyter.widget-view+json": {
       "model_id": "f187f54c578849578c9217ed6ce7784a",
       "version_major": 2,
       "version_minor": 0
      },
      "text/plain": [
       "  0%|          | 0/140 [00:00<?, ?it/s]"
      ]
     },
     "metadata": {},
     "output_type": "display_data"
    },
    {
     "name": "stdout",
     "output_type": "stream",
     "text": [
      "train accuracy = 0.74500 train macro-F1 = 0.73567\n",
      "dev accuracy = 0.57333 dev macro-F1 = 0.50980\n",
      "epoch 21\n"
     ]
    },
    {
     "data": {
      "application/vnd.jupyter.widget-view+json": {
       "model_id": "70f6ac06232f453ca00e6edafd06d1e9",
       "version_major": 2,
       "version_minor": 0
      },
      "text/plain": [
       "  0%|          | 0/140 [00:00<?, ?it/s]"
      ]
     },
     "metadata": {},
     "output_type": "display_data"
    },
    {
     "name": "stdout",
     "output_type": "stream",
     "text": [
      "train accuracy = 0.75500 train macro-F1 = 0.74659\n",
      "dev accuracy = 0.57333 dev macro-F1 = 0.50980\n",
      "epoch 22\n"
     ]
    },
    {
     "data": {
      "application/vnd.jupyter.widget-view+json": {
       "model_id": "9a3fd0206bbd4006a9426116abbde240",
       "version_major": 2,
       "version_minor": 0
      },
      "text/plain": [
       "  0%|          | 0/140 [00:00<?, ?it/s]"
      ]
     },
     "metadata": {},
     "output_type": "display_data"
    },
    {
     "name": "stdout",
     "output_type": "stream",
     "text": [
      "train accuracy = 0.76214 train macro-F1 = 0.75424\n",
      "dev accuracy = 0.58000 dev macro-F1 = 0.52009\n",
      "epoch 23\n"
     ]
    },
    {
     "data": {
      "application/vnd.jupyter.widget-view+json": {
       "model_id": "3b608a0d985e4d67921328b7f858f11a",
       "version_major": 2,
       "version_minor": 0
      },
      "text/plain": [
       "  0%|          | 0/140 [00:00<?, ?it/s]"
      ]
     },
     "metadata": {},
     "output_type": "display_data"
    },
    {
     "name": "stdout",
     "output_type": "stream",
     "text": [
      "train accuracy = 0.77071 train macro-F1 = 0.76383\n",
      "dev accuracy = 0.58667 dev macro-F1 = 0.53021\n",
      "epoch 24\n"
     ]
    },
    {
     "data": {
      "application/vnd.jupyter.widget-view+json": {
       "model_id": "aba88f3eab59425b8d3cf3bab5191f9d",
       "version_major": 2,
       "version_minor": 0
      },
      "text/plain": [
       "  0%|          | 0/140 [00:00<?, ?it/s]"
      ]
     },
     "metadata": {},
     "output_type": "display_data"
    },
    {
     "name": "stdout",
     "output_type": "stream",
     "text": [
      "train accuracy = 0.78143 train macro-F1 = 0.77558\n",
      "dev accuracy = 0.59333 dev macro-F1 = 0.54018\n",
      "epoch 25\n"
     ]
    },
    {
     "data": {
      "application/vnd.jupyter.widget-view+json": {
       "model_id": "da4dd0813c95422da53896d7c9a1b723",
       "version_major": 2,
       "version_minor": 0
      },
      "text/plain": [
       "  0%|          | 0/140 [00:00<?, ?it/s]"
      ]
     },
     "metadata": {},
     "output_type": "display_data"
    },
    {
     "name": "stdout",
     "output_type": "stream",
     "text": [
      "train accuracy = 0.79071 train macro-F1 = 0.78556\n",
      "dev accuracy = 0.60000 dev macro-F1 = 0.54772\n",
      "epoch 26\n"
     ]
    },
    {
     "data": {
      "application/vnd.jupyter.widget-view+json": {
       "model_id": "6ddeb9caf40641b28d0b93670faa4e2e",
       "version_major": 2,
       "version_minor": 0
      },
      "text/plain": [
       "  0%|          | 0/140 [00:00<?, ?it/s]"
      ]
     },
     "metadata": {},
     "output_type": "display_data"
    },
    {
     "name": "stdout",
     "output_type": "stream",
     "text": [
      "train accuracy = 0.79857 train macro-F1 = 0.79402\n",
      "dev accuracy = 0.60333 dev macro-F1 = 0.55263\n",
      "epoch 27\n"
     ]
    },
    {
     "data": {
      "application/vnd.jupyter.widget-view+json": {
       "model_id": "c6dd020839f14d0ea8bcce278897dc7f",
       "version_major": 2,
       "version_minor": 0
      },
      "text/plain": [
       "  0%|          | 0/140 [00:00<?, ?it/s]"
      ]
     },
     "metadata": {},
     "output_type": "display_data"
    },
    {
     "name": "stdout",
     "output_type": "stream",
     "text": [
      "train accuracy = 0.80929 train macro-F1 = 0.80527\n",
      "dev accuracy = 0.61000 dev macro-F1 = 0.56234\n",
      "epoch 28\n"
     ]
    },
    {
     "data": {
      "application/vnd.jupyter.widget-view+json": {
       "model_id": "a2d7c4238ad04b20af730a278d6b273a",
       "version_major": 2,
       "version_minor": 0
      },
      "text/plain": [
       "  0%|          | 0/140 [00:00<?, ?it/s]"
      ]
     },
     "metadata": {},
     "output_type": "display_data"
    },
    {
     "name": "stdout",
     "output_type": "stream",
     "text": [
      "train accuracy = 0.81643 train macro-F1 = 0.81280\n",
      "dev accuracy = 0.60667 dev macro-F1 = 0.55968\n",
      "epoch 29\n"
     ]
    },
    {
     "data": {
      "application/vnd.jupyter.widget-view+json": {
       "model_id": "06e5bc16166e43339119e0a40d92b567",
       "version_major": 2,
       "version_minor": 0
      },
      "text/plain": [
       "  0%|          | 0/140 [00:00<?, ?it/s]"
      ]
     },
     "metadata": {},
     "output_type": "display_data"
    },
    {
     "name": "stdout",
     "output_type": "stream",
     "text": [
      "train accuracy = 0.82286 train macro-F1 = 0.81960\n",
      "dev accuracy = 0.61333 dev macro-F1 = 0.56922\n",
      "epoch 30\n"
     ]
    },
    {
     "data": {
      "application/vnd.jupyter.widget-view+json": {
       "model_id": "1f6d4019ea4449f99d39fa735ead511e",
       "version_major": 2,
       "version_minor": 0
      },
      "text/plain": [
       "  0%|          | 0/140 [00:00<?, ?it/s]"
      ]
     },
     "metadata": {},
     "output_type": "display_data"
    },
    {
     "name": "stdout",
     "output_type": "stream",
     "text": [
      "train accuracy = 0.82857 train macro-F1 = 0.82569\n",
      "dev accuracy = 0.61333 dev macro-F1 = 0.56922\n",
      "epoch 31\n"
     ]
    },
    {
     "data": {
      "application/vnd.jupyter.widget-view+json": {
       "model_id": "352974b00e394d8f999b6aece5894c80",
       "version_major": 2,
       "version_minor": 0
      },
      "text/plain": [
       "  0%|          | 0/140 [00:00<?, ?it/s]"
      ]
     },
     "metadata": {},
     "output_type": "display_data"
    },
    {
     "name": "stdout",
     "output_type": "stream",
     "text": [
      "train accuracy = 0.83500 train macro-F1 = 0.83244\n",
      "dev accuracy = 0.61000 dev macro-F1 = 0.56854\n",
      "epoch 32\n"
     ]
    },
    {
     "data": {
      "application/vnd.jupyter.widget-view+json": {
       "model_id": "3bc4de563c10479fa03c95c841cbaf3c",
       "version_major": 2,
       "version_minor": 0
      },
      "text/plain": [
       "  0%|          | 0/140 [00:00<?, ?it/s]"
      ]
     },
     "metadata": {},
     "output_type": "display_data"
    },
    {
     "name": "stdout",
     "output_type": "stream",
     "text": [
      "train accuracy = 0.84214 train macro-F1 = 0.83997\n",
      "dev accuracy = 0.61000 dev macro-F1 = 0.56854\n",
      "epoch 33\n"
     ]
    },
    {
     "data": {
      "application/vnd.jupyter.widget-view+json": {
       "model_id": "0fdd480a93324b4a9a6171b3011ec605",
       "version_major": 2,
       "version_minor": 0
      },
      "text/plain": [
       "  0%|          | 0/140 [00:00<?, ?it/s]"
      ]
     },
     "metadata": {},
     "output_type": "display_data"
    },
    {
     "name": "stdout",
     "output_type": "stream",
     "text": [
      "train accuracy = 0.84857 train macro-F1 = 0.84667\n",
      "dev accuracy = 0.60667 dev macro-F1 = 0.56584\n",
      "epoch 34\n"
     ]
    },
    {
     "data": {
      "application/vnd.jupyter.widget-view+json": {
       "model_id": "70ab29131e9e4c189cef45acf3316005",
       "version_major": 2,
       "version_minor": 0
      },
      "text/plain": [
       "  0%|          | 0/140 [00:00<?, ?it/s]"
      ]
     },
     "metadata": {},
     "output_type": "display_data"
    },
    {
     "name": "stdout",
     "output_type": "stream",
     "text": [
      "train accuracy = 0.85786 train macro-F1 = 0.85632\n",
      "dev accuracy = 0.61333 dev macro-F1 = 0.57509\n",
      "epoch 35\n"
     ]
    },
    {
     "data": {
      "application/vnd.jupyter.widget-view+json": {
       "model_id": "ea28666d017b4cc6bdfcce1673ff8d26",
       "version_major": 2,
       "version_minor": 0
      },
      "text/plain": [
       "  0%|          | 0/140 [00:00<?, ?it/s]"
      ]
     },
     "metadata": {},
     "output_type": "display_data"
    },
    {
     "name": "stdout",
     "output_type": "stream",
     "text": [
      "train accuracy = 0.86286 train macro-F1 = 0.86147\n",
      "dev accuracy = 0.62000 dev macro-F1 = 0.58422\n",
      "epoch 36\n"
     ]
    },
    {
     "data": {
      "application/vnd.jupyter.widget-view+json": {
       "model_id": "09a22cf1eb8b4aea9b1af78dbb808457",
       "version_major": 2,
       "version_minor": 0
      },
      "text/plain": [
       "  0%|          | 0/140 [00:00<?, ?it/s]"
      ]
     },
     "metadata": {},
     "output_type": "display_data"
    },
    {
     "name": "stdout",
     "output_type": "stream",
     "text": [
      "train accuracy = 0.86857 train macro-F1 = 0.86736\n",
      "dev accuracy = 0.62333 dev macro-F1 = 0.58698\n",
      "epoch 37\n"
     ]
    },
    {
     "data": {
      "application/vnd.jupyter.widget-view+json": {
       "model_id": "1c6822c27428429886855941c28eb953",
       "version_major": 2,
       "version_minor": 0
      },
      "text/plain": [
       "  0%|          | 0/140 [00:00<?, ?it/s]"
      ]
     },
     "metadata": {},
     "output_type": "display_data"
    },
    {
     "name": "stdout",
     "output_type": "stream",
     "text": [
      "train accuracy = 0.87214 train macro-F1 = 0.87101\n",
      "dev accuracy = 0.62667 dev macro-F1 = 0.59152\n",
      "epoch 38\n"
     ]
    },
    {
     "data": {
      "application/vnd.jupyter.widget-view+json": {
       "model_id": "a7236e95ee73442eaf79ef4195b3a53a",
       "version_major": 2,
       "version_minor": 0
      },
      "text/plain": [
       "  0%|          | 0/140 [00:00<?, ?it/s]"
      ]
     },
     "metadata": {},
     "output_type": "display_data"
    },
    {
     "name": "stdout",
     "output_type": "stream",
     "text": [
      "train accuracy = 0.87786 train macro-F1 = 0.87691\n",
      "dev accuracy = 0.62667 dev macro-F1 = 0.59152\n",
      "epoch 39\n"
     ]
    },
    {
     "data": {
      "application/vnd.jupyter.widget-view+json": {
       "model_id": "8299a564be33406581f2225b2ffed2d0",
       "version_major": 2,
       "version_minor": 0
      },
      "text/plain": [
       "  0%|          | 0/140 [00:00<?, ?it/s]"
      ]
     },
     "metadata": {},
     "output_type": "display_data"
    },
    {
     "name": "stdout",
     "output_type": "stream",
     "text": [
      "train accuracy = 0.88000 train macro-F1 = 0.87911\n",
      "dev accuracy = 0.63333 dev macro-F1 = 0.60050\n",
      "epoch 40\n"
     ]
    },
    {
     "data": {
      "application/vnd.jupyter.widget-view+json": {
       "model_id": "b71bf609ae6a4774bdc22a57cdf075ac",
       "version_major": 2,
       "version_minor": 0
      },
      "text/plain": [
       "  0%|          | 0/140 [00:00<?, ?it/s]"
      ]
     },
     "metadata": {},
     "output_type": "display_data"
    },
    {
     "name": "stdout",
     "output_type": "stream",
     "text": [
      "train accuracy = 0.88286 train macro-F1 = 0.88202\n",
      "dev accuracy = 0.63000 dev macro-F1 = 0.59770\n",
      "epoch 41\n"
     ]
    },
    {
     "data": {
      "application/vnd.jupyter.widget-view+json": {
       "model_id": "89a3736afa5e446bae69ca0cfcefe744",
       "version_major": 2,
       "version_minor": 0
      },
      "text/plain": [
       "  0%|          | 0/140 [00:00<?, ?it/s]"
      ]
     },
     "metadata": {},
     "output_type": "display_data"
    },
    {
     "name": "stdout",
     "output_type": "stream",
     "text": [
      "train accuracy = 0.88643 train macro-F1 = 0.88568\n",
      "dev accuracy = 0.63667 dev macro-F1 = 0.60655\n",
      "epoch 42\n"
     ]
    },
    {
     "data": {
      "application/vnd.jupyter.widget-view+json": {
       "model_id": "1092094a85d84bc6a406cace0990c14d",
       "version_major": 2,
       "version_minor": 0
      },
      "text/plain": [
       "  0%|          | 0/140 [00:00<?, ?it/s]"
      ]
     },
     "metadata": {},
     "output_type": "display_data"
    },
    {
     "name": "stdout",
     "output_type": "stream",
     "text": [
      "train accuracy = 0.88857 train macro-F1 = 0.88790\n",
      "dev accuracy = 0.63333 dev macro-F1 = 0.60373\n",
      "epoch 43\n"
     ]
    },
    {
     "data": {
      "application/vnd.jupyter.widget-view+json": {
       "model_id": "64a62d1d3b004432b12a2a486c66199f",
       "version_major": 2,
       "version_minor": 0
      },
      "text/plain": [
       "  0%|          | 0/140 [00:00<?, ?it/s]"
      ]
     },
     "metadata": {},
     "output_type": "display_data"
    },
    {
     "name": "stdout",
     "output_type": "stream",
     "text": [
      "train accuracy = 0.89357 train macro-F1 = 0.89301\n",
      "dev accuracy = 0.63667 dev macro-F1 = 0.60959\n",
      "epoch 44\n"
     ]
    },
    {
     "data": {
      "application/vnd.jupyter.widget-view+json": {
       "model_id": "e6bccd9258144139ac2959921eba24f5",
       "version_major": 2,
       "version_minor": 0
      },
      "text/plain": [
       "  0%|          | 0/140 [00:00<?, ?it/s]"
      ]
     },
     "metadata": {},
     "output_type": "display_data"
    },
    {
     "name": "stdout",
     "output_type": "stream",
     "text": [
      "train accuracy = 0.89857 train macro-F1 = 0.89811\n",
      "dev accuracy = 0.63667 dev macro-F1 = 0.60959\n",
      "epoch 45\n"
     ]
    },
    {
     "data": {
      "application/vnd.jupyter.widget-view+json": {
       "model_id": "190f2671376a430b8bec4f6f950fa882",
       "version_major": 2,
       "version_minor": 0
      },
      "text/plain": [
       "  0%|          | 0/140 [00:00<?, ?it/s]"
      ]
     },
     "metadata": {},
     "output_type": "display_data"
    },
    {
     "name": "stdout",
     "output_type": "stream",
     "text": [
      "train accuracy = 0.90214 train macro-F1 = 0.90175\n",
      "dev accuracy = 0.64333 dev macro-F1 = 0.61818\n",
      "epoch 46\n"
     ]
    },
    {
     "data": {
      "application/vnd.jupyter.widget-view+json": {
       "model_id": "8df5a0ad85804a67831b1d84ca5dc1b3",
       "version_major": 2,
       "version_minor": 0
      },
      "text/plain": [
       "  0%|          | 0/140 [00:00<?, ?it/s]"
      ]
     },
     "metadata": {},
     "output_type": "display_data"
    },
    {
     "name": "stdout",
     "output_type": "stream",
     "text": [
      "train accuracy = 0.90500 train macro-F1 = 0.90465\n",
      "dev accuracy = 0.64667 dev macro-F1 = 0.62244\n",
      "epoch 47\n"
     ]
    },
    {
     "data": {
      "application/vnd.jupyter.widget-view+json": {
       "model_id": "6f261634bf6f4003b5d790a4ab55996c",
       "version_major": 2,
       "version_minor": 0
      },
      "text/plain": [
       "  0%|          | 0/140 [00:00<?, ?it/s]"
      ]
     },
     "metadata": {},
     "output_type": "display_data"
    },
    {
     "name": "stdout",
     "output_type": "stream",
     "text": [
      "train accuracy = 0.90786 train macro-F1 = 0.90755\n",
      "dev accuracy = 0.65000 dev macro-F1 = 0.62667\n",
      "epoch 48\n"
     ]
    },
    {
     "data": {
      "application/vnd.jupyter.widget-view+json": {
       "model_id": "590a11a18d284d3296e8dd3e7af7c9d2",
       "version_major": 2,
       "version_minor": 0
      },
      "text/plain": [
       "  0%|          | 0/140 [00:00<?, ?it/s]"
      ]
     },
     "metadata": {},
     "output_type": "display_data"
    },
    {
     "name": "stdout",
     "output_type": "stream",
     "text": [
      "train accuracy = 0.91143 train macro-F1 = 0.91115\n",
      "dev accuracy = 0.65333 dev macro-F1 = 0.63087\n",
      "epoch 49\n"
     ]
    },
    {
     "data": {
      "application/vnd.jupyter.widget-view+json": {
       "model_id": "9bc8ed8edb754993a1fd75922421decf",
       "version_major": 2,
       "version_minor": 0
      },
      "text/plain": [
       "  0%|          | 0/140 [00:00<?, ?it/s]"
      ]
     },
     "metadata": {},
     "output_type": "display_data"
    },
    {
     "name": "stdout",
     "output_type": "stream",
     "text": [
      "train accuracy = 0.91643 train macro-F1 = 0.91618\n",
      "dev accuracy = 0.65667 dev macro-F1 = 0.63506\n",
      "epoch 50\n"
     ]
    },
    {
     "data": {
      "application/vnd.jupyter.widget-view+json": {
       "model_id": "bf0af2319b0c48e1af9377a719ef0636",
       "version_major": 2,
       "version_minor": 0
      },
      "text/plain": [
       "  0%|          | 0/140 [00:00<?, ?it/s]"
      ]
     },
     "metadata": {},
     "output_type": "display_data"
    },
    {
     "name": "stdout",
     "output_type": "stream",
     "text": [
      "train accuracy = 0.92000 train macro-F1 = 0.91979\n",
      "dev accuracy = 0.65667 dev macro-F1 = 0.63506\n",
      "epoch 51\n"
     ]
    },
    {
     "data": {
      "application/vnd.jupyter.widget-view+json": {
       "model_id": "353f3a27647d448e95fc3158934ffb82",
       "version_major": 2,
       "version_minor": 0
      },
      "text/plain": [
       "  0%|          | 0/140 [00:00<?, ?it/s]"
      ]
     },
     "metadata": {},
     "output_type": "display_data"
    },
    {
     "name": "stdout",
     "output_type": "stream",
     "text": [
      "train accuracy = 0.92429 train macro-F1 = 0.92412\n",
      "dev accuracy = 0.65667 dev macro-F1 = 0.63506\n",
      "epoch 52\n"
     ]
    },
    {
     "data": {
      "application/vnd.jupyter.widget-view+json": {
       "model_id": "69c54773bade4771817704a1605ebeb1",
       "version_major": 2,
       "version_minor": 0
      },
      "text/plain": [
       "  0%|          | 0/140 [00:00<?, ?it/s]"
      ]
     },
     "metadata": {},
     "output_type": "display_data"
    },
    {
     "name": "stdout",
     "output_type": "stream",
     "text": [
      "train accuracy = 0.92786 train macro-F1 = 0.92772\n",
      "dev accuracy = 0.66333 dev macro-F1 = 0.64214\n",
      "epoch 53\n"
     ]
    },
    {
     "data": {
      "application/vnd.jupyter.widget-view+json": {
       "model_id": "cc57b257b5c44aa6bc1e944c0c1b22ae",
       "version_major": 2,
       "version_minor": 0
      },
      "text/plain": [
       "  0%|          | 0/140 [00:00<?, ?it/s]"
      ]
     },
     "metadata": {},
     "output_type": "display_data"
    },
    {
     "name": "stdout",
     "output_type": "stream",
     "text": [
      "train accuracy = 0.92929 train macro-F1 = 0.92916\n",
      "dev accuracy = 0.66667 dev macro-F1 = 0.64629\n",
      "epoch 54\n"
     ]
    },
    {
     "data": {
      "application/vnd.jupyter.widget-view+json": {
       "model_id": "d37065c80b4344c5a31d45071af3517f",
       "version_major": 2,
       "version_minor": 0
      },
      "text/plain": [
       "  0%|          | 0/140 [00:00<?, ?it/s]"
      ]
     },
     "metadata": {},
     "output_type": "display_data"
    },
    {
     "name": "stdout",
     "output_type": "stream",
     "text": [
      "train accuracy = 0.93071 train macro-F1 = 0.93059\n",
      "dev accuracy = 0.67000 dev macro-F1 = 0.65042\n",
      "epoch 55\n"
     ]
    },
    {
     "data": {
      "application/vnd.jupyter.widget-view+json": {
       "model_id": "b0c13b67c200465080d22fde96347ff2",
       "version_major": 2,
       "version_minor": 0
      },
      "text/plain": [
       "  0%|          | 0/140 [00:00<?, ?it/s]"
      ]
     },
     "metadata": {},
     "output_type": "display_data"
    },
    {
     "name": "stdout",
     "output_type": "stream",
     "text": [
      "train accuracy = 0.93357 train macro-F1 = 0.93347\n",
      "dev accuracy = 0.67000 dev macro-F1 = 0.65042\n",
      "epoch 56\n"
     ]
    },
    {
     "data": {
      "application/vnd.jupyter.widget-view+json": {
       "model_id": "6a3d95cfcc794146a3dcb9dbb44d2131",
       "version_major": 2,
       "version_minor": 0
      },
      "text/plain": [
       "  0%|          | 0/140 [00:00<?, ?it/s]"
      ]
     },
     "metadata": {},
     "output_type": "display_data"
    },
    {
     "name": "stdout",
     "output_type": "stream",
     "text": [
      "train accuracy = 0.93571 train macro-F1 = 0.93563\n",
      "dev accuracy = 0.67000 dev macro-F1 = 0.65157\n",
      "epoch 57\n"
     ]
    },
    {
     "data": {
      "application/vnd.jupyter.widget-view+json": {
       "model_id": "616dbe4cd16446c28c319f9c740c09dc",
       "version_major": 2,
       "version_minor": 0
      },
      "text/plain": [
       "  0%|          | 0/140 [00:00<?, ?it/s]"
      ]
     },
     "metadata": {},
     "output_type": "display_data"
    },
    {
     "name": "stdout",
     "output_type": "stream",
     "text": [
      "train accuracy = 0.93786 train macro-F1 = 0.93777\n",
      "dev accuracy = 0.67000 dev macro-F1 = 0.65268\n",
      "epoch 58\n"
     ]
    },
    {
     "data": {
      "application/vnd.jupyter.widget-view+json": {
       "model_id": "a7755e31d1024fff9038c4d4e1e1df57",
       "version_major": 2,
       "version_minor": 0
      },
      "text/plain": [
       "  0%|          | 0/140 [00:00<?, ?it/s]"
      ]
     },
     "metadata": {},
     "output_type": "display_data"
    },
    {
     "name": "stdout",
     "output_type": "stream",
     "text": [
      "train accuracy = 0.94143 train macro-F1 = 0.94136\n",
      "dev accuracy = 0.67000 dev macro-F1 = 0.65268\n",
      "epoch 59\n"
     ]
    },
    {
     "data": {
      "application/vnd.jupyter.widget-view+json": {
       "model_id": "481c2ff6d2b04a038fee211e725c1b7b",
       "version_major": 2,
       "version_minor": 0
      },
      "text/plain": [
       "  0%|          | 0/140 [00:00<?, ?it/s]"
      ]
     },
     "metadata": {},
     "output_type": "display_data"
    },
    {
     "name": "stdout",
     "output_type": "stream",
     "text": [
      "train accuracy = 0.94643 train macro-F1 = 0.94637\n",
      "dev accuracy = 0.66667 dev macro-F1 = 0.64971\n",
      "epoch 60\n"
     ]
    },
    {
     "data": {
      "application/vnd.jupyter.widget-view+json": {
       "model_id": "acae0fd154964439931fed4f38fd6acf",
       "version_major": 2,
       "version_minor": 0
      },
      "text/plain": [
       "  0%|          | 0/140 [00:00<?, ?it/s]"
      ]
     },
     "metadata": {},
     "output_type": "display_data"
    },
    {
     "name": "stdout",
     "output_type": "stream",
     "text": [
      "train accuracy = 0.94929 train macro-F1 = 0.94924\n",
      "dev accuracy = 0.66667 dev macro-F1 = 0.64971\n",
      "epoch 61\n"
     ]
    },
    {
     "data": {
      "application/vnd.jupyter.widget-view+json": {
       "model_id": "cd5ff807a4c34ec08f12dd772c4f360a",
       "version_major": 2,
       "version_minor": 0
      },
      "text/plain": [
       "  0%|          | 0/140 [00:00<?, ?it/s]"
      ]
     },
     "metadata": {},
     "output_type": "display_data"
    },
    {
     "name": "stdout",
     "output_type": "stream",
     "text": [
      "train accuracy = 0.95071 train macro-F1 = 0.95068\n",
      "dev accuracy = 0.66667 dev macro-F1 = 0.64971\n",
      "epoch 62\n"
     ]
    },
    {
     "data": {
      "application/vnd.jupyter.widget-view+json": {
       "model_id": "baaedc0c1bc5479a8e99a39298ac2c54",
       "version_major": 2,
       "version_minor": 0
      },
      "text/plain": [
       "  0%|          | 0/140 [00:00<?, ?it/s]"
      ]
     },
     "metadata": {},
     "output_type": "display_data"
    },
    {
     "name": "stdout",
     "output_type": "stream",
     "text": [
      "train accuracy = 0.95500 train macro-F1 = 0.95497\n",
      "dev accuracy = 0.66000 dev macro-F1 = 0.64379\n",
      "epoch 63\n"
     ]
    },
    {
     "data": {
      "application/vnd.jupyter.widget-view+json": {
       "model_id": "b6ad4dba04884f98b921c8769feae8ea",
       "version_major": 2,
       "version_minor": 0
      },
      "text/plain": [
       "  0%|          | 0/140 [00:00<?, ?it/s]"
      ]
     },
     "metadata": {},
     "output_type": "display_data"
    },
    {
     "name": "stdout",
     "output_type": "stream",
     "text": [
      "train accuracy = 0.95643 train macro-F1 = 0.95640\n",
      "dev accuracy = 0.66333 dev macro-F1 = 0.64780\n",
      "epoch 64\n"
     ]
    },
    {
     "data": {
      "application/vnd.jupyter.widget-view+json": {
       "model_id": "e54526d8a9da43d28e505a5e8345621e",
       "version_major": 2,
       "version_minor": 0
      },
      "text/plain": [
       "  0%|          | 0/140 [00:00<?, ?it/s]"
      ]
     },
     "metadata": {},
     "output_type": "display_data"
    },
    {
     "name": "stdout",
     "output_type": "stream",
     "text": [
      "train accuracy = 0.95786 train macro-F1 = 0.95783\n",
      "dev accuracy = 0.66667 dev macro-F1 = 0.65278\n",
      "epoch 65\n"
     ]
    },
    {
     "data": {
      "application/vnd.jupyter.widget-view+json": {
       "model_id": "bd9329b630dc457d8735e1e01967b58f",
       "version_major": 2,
       "version_minor": 0
      },
      "text/plain": [
       "  0%|          | 0/140 [00:00<?, ?it/s]"
      ]
     },
     "metadata": {},
     "output_type": "display_data"
    },
    {
     "name": "stdout",
     "output_type": "stream",
     "text": [
      "train accuracy = 0.95857 train macro-F1 = 0.95855\n",
      "dev accuracy = 0.66667 dev macro-F1 = 0.65278\n",
      "epoch 66\n"
     ]
    },
    {
     "data": {
      "application/vnd.jupyter.widget-view+json": {
       "model_id": "d4613b51132042f9a20d107af4fc22af",
       "version_major": 2,
       "version_minor": 0
      },
      "text/plain": [
       "  0%|          | 0/140 [00:00<?, ?it/s]"
      ]
     },
     "metadata": {},
     "output_type": "display_data"
    },
    {
     "name": "stdout",
     "output_type": "stream",
     "text": [
      "train accuracy = 0.96071 train macro-F1 = 0.96070\n",
      "dev accuracy = 0.67000 dev macro-F1 = 0.65672\n",
      "epoch 67\n"
     ]
    },
    {
     "data": {
      "application/vnd.jupyter.widget-view+json": {
       "model_id": "f77f7628d2784c1a9962e3c2626c5491",
       "version_major": 2,
       "version_minor": 0
      },
      "text/plain": [
       "  0%|          | 0/140 [00:00<?, ?it/s]"
      ]
     },
     "metadata": {},
     "output_type": "display_data"
    },
    {
     "name": "stdout",
     "output_type": "stream",
     "text": [
      "train accuracy = 0.96071 train macro-F1 = 0.96070\n",
      "dev accuracy = 0.67333 dev macro-F1 = 0.66065\n",
      "epoch 68\n"
     ]
    },
    {
     "data": {
      "application/vnd.jupyter.widget-view+json": {
       "model_id": "d1b1096b5bb14dcabdaa93866e68bb69",
       "version_major": 2,
       "version_minor": 0
      },
      "text/plain": [
       "  0%|          | 0/140 [00:00<?, ?it/s]"
      ]
     },
     "metadata": {},
     "output_type": "display_data"
    },
    {
     "name": "stdout",
     "output_type": "stream",
     "text": [
      "train accuracy = 0.96214 train macro-F1 = 0.96213\n",
      "dev accuracy = 0.68000 dev macro-F1 = 0.66845\n",
      "epoch 69\n"
     ]
    },
    {
     "data": {
      "application/vnd.jupyter.widget-view+json": {
       "model_id": "67683d7624714a7eaa4627c8487e1e21",
       "version_major": 2,
       "version_minor": 0
      },
      "text/plain": [
       "  0%|          | 0/140 [00:00<?, ?it/s]"
      ]
     },
     "metadata": {},
     "output_type": "display_data"
    },
    {
     "name": "stdout",
     "output_type": "stream",
     "text": [
      "train accuracy = 0.96286 train macro-F1 = 0.96284\n",
      "dev accuracy = 0.68000 dev macro-F1 = 0.66845\n",
      "epoch 70\n"
     ]
    },
    {
     "data": {
      "application/vnd.jupyter.widget-view+json": {
       "model_id": "88ffb825d0cb4e9f8eeab5a73abc4e2b",
       "version_major": 2,
       "version_minor": 0
      },
      "text/plain": [
       "  0%|          | 0/140 [00:00<?, ?it/s]"
      ]
     },
     "metadata": {},
     "output_type": "display_data"
    },
    {
     "name": "stdout",
     "output_type": "stream",
     "text": [
      "train accuracy = 0.96357 train macro-F1 = 0.96356\n",
      "dev accuracy = 0.67667 dev macro-F1 = 0.66542\n",
      "epoch 71\n"
     ]
    },
    {
     "data": {
      "application/vnd.jupyter.widget-view+json": {
       "model_id": "6950e0bc398e48c59563b715eaece3f9",
       "version_major": 2,
       "version_minor": 0
      },
      "text/plain": [
       "  0%|          | 0/140 [00:00<?, ?it/s]"
      ]
     },
     "metadata": {},
     "output_type": "display_data"
    },
    {
     "name": "stdout",
     "output_type": "stream",
     "text": [
      "train accuracy = 0.96429 train macro-F1 = 0.96427\n",
      "dev accuracy = 0.68333 dev macro-F1 = 0.67313\n",
      "epoch 72\n"
     ]
    },
    {
     "data": {
      "application/vnd.jupyter.widget-view+json": {
       "model_id": "c6d9c5c82f424889835bae54d1aad81c",
       "version_major": 2,
       "version_minor": 0
      },
      "text/plain": [
       "  0%|          | 0/140 [00:00<?, ?it/s]"
      ]
     },
     "metadata": {},
     "output_type": "display_data"
    },
    {
     "name": "stdout",
     "output_type": "stream",
     "text": [
      "train accuracy = 0.96500 train macro-F1 = 0.96499\n",
      "dev accuracy = 0.68667 dev macro-F1 = 0.67696\n",
      "epoch 73\n"
     ]
    },
    {
     "data": {
      "application/vnd.jupyter.widget-view+json": {
       "model_id": "99dda241ca4946e6a30b2fa17c98e6c1",
       "version_major": 2,
       "version_minor": 0
      },
      "text/plain": [
       "  0%|          | 0/140 [00:00<?, ?it/s]"
      ]
     },
     "metadata": {},
     "output_type": "display_data"
    },
    {
     "name": "stdout",
     "output_type": "stream",
     "text": [
      "train accuracy = 0.96714 train macro-F1 = 0.96713\n",
      "dev accuracy = 0.68667 dev macro-F1 = 0.67696\n",
      "epoch 74\n"
     ]
    },
    {
     "data": {
      "application/vnd.jupyter.widget-view+json": {
       "model_id": "854d9fa8aeeb45098a6da624ab99e4bc",
       "version_major": 2,
       "version_minor": 0
      },
      "text/plain": [
       "  0%|          | 0/140 [00:00<?, ?it/s]"
      ]
     },
     "metadata": {},
     "output_type": "display_data"
    },
    {
     "name": "stdout",
     "output_type": "stream",
     "text": [
      "train accuracy = 0.96714 train macro-F1 = 0.96713\n",
      "dev accuracy = 0.69000 dev macro-F1 = 0.68077\n",
      "epoch 75\n"
     ]
    },
    {
     "data": {
      "application/vnd.jupyter.widget-view+json": {
       "model_id": "a5cec59422594e4ca28d41af6aebd7e2",
       "version_major": 2,
       "version_minor": 0
      },
      "text/plain": [
       "  0%|          | 0/140 [00:00<?, ?it/s]"
      ]
     },
     "metadata": {},
     "output_type": "display_data"
    },
    {
     "name": "stdout",
     "output_type": "stream",
     "text": [
      "train accuracy = 0.96857 train macro-F1 = 0.96856\n",
      "dev accuracy = 0.69000 dev macro-F1 = 0.68077\n",
      "epoch 76\n"
     ]
    },
    {
     "data": {
      "application/vnd.jupyter.widget-view+json": {
       "model_id": "53991b174bd246a189ae8f8012494c63",
       "version_major": 2,
       "version_minor": 0
      },
      "text/plain": [
       "  0%|          | 0/140 [00:00<?, ?it/s]"
      ]
     },
     "metadata": {},
     "output_type": "display_data"
    },
    {
     "name": "stdout",
     "output_type": "stream",
     "text": [
      "train accuracy = 0.96929 train macro-F1 = 0.96928\n",
      "dev accuracy = 0.69333 dev macro-F1 = 0.68528\n",
      "epoch 77\n"
     ]
    },
    {
     "data": {
      "application/vnd.jupyter.widget-view+json": {
       "model_id": "170f1f3cb1e4405a88a55a459115ea3d",
       "version_major": 2,
       "version_minor": 0
      },
      "text/plain": [
       "  0%|          | 0/140 [00:00<?, ?it/s]"
      ]
     },
     "metadata": {},
     "output_type": "display_data"
    },
    {
     "name": "stdout",
     "output_type": "stream",
     "text": [
      "train accuracy = 0.97000 train macro-F1 = 0.96999\n",
      "dev accuracy = 0.69000 dev macro-F1 = 0.68220\n",
      "epoch 78\n"
     ]
    },
    {
     "data": {
      "application/vnd.jupyter.widget-view+json": {
       "model_id": "b61cc3ee6da34950adc379d118ba4944",
       "version_major": 2,
       "version_minor": 0
      },
      "text/plain": [
       "  0%|          | 0/140 [00:00<?, ?it/s]"
      ]
     },
     "metadata": {},
     "output_type": "display_data"
    },
    {
     "name": "stdout",
     "output_type": "stream",
     "text": [
      "train accuracy = 0.97000 train macro-F1 = 0.96999\n",
      "dev accuracy = 0.69000 dev macro-F1 = 0.68220\n",
      "epoch 79\n"
     ]
    },
    {
     "data": {
      "application/vnd.jupyter.widget-view+json": {
       "model_id": "4a09bb639a8343efaa365a59afa6d425",
       "version_major": 2,
       "version_minor": 0
      },
      "text/plain": [
       "  0%|          | 0/140 [00:00<?, ?it/s]"
      ]
     },
     "metadata": {},
     "output_type": "display_data"
    },
    {
     "name": "stdout",
     "output_type": "stream",
     "text": [
      "train accuracy = 0.97143 train macro-F1 = 0.97142\n",
      "dev accuracy = 0.69667 dev macro-F1 = 0.68968\n",
      "epoch 80\n"
     ]
    },
    {
     "data": {
      "application/vnd.jupyter.widget-view+json": {
       "model_id": "aa82e8469e424ff08a32bb2fbaf48e1d",
       "version_major": 2,
       "version_minor": 0
      },
      "text/plain": [
       "  0%|          | 0/140 [00:00<?, ?it/s]"
      ]
     },
     "metadata": {},
     "output_type": "display_data"
    },
    {
     "name": "stdout",
     "output_type": "stream",
     "text": [
      "train accuracy = 0.97143 train macro-F1 = 0.97142\n",
      "dev accuracy = 0.69667 dev macro-F1 = 0.68968\n",
      "epoch 81\n"
     ]
    },
    {
     "data": {
      "application/vnd.jupyter.widget-view+json": {
       "model_id": "0c065aa642ca4464b72d9eb2833bb13c",
       "version_major": 2,
       "version_minor": 0
      },
      "text/plain": [
       "  0%|          | 0/140 [00:00<?, ?it/s]"
      ]
     },
     "metadata": {},
     "output_type": "display_data"
    },
    {
     "name": "stdout",
     "output_type": "stream",
     "text": [
      "train accuracy = 0.97286 train macro-F1 = 0.97285\n",
      "dev accuracy = 0.69333 dev macro-F1 = 0.68659\n",
      "epoch 82\n"
     ]
    },
    {
     "data": {
      "application/vnd.jupyter.widget-view+json": {
       "model_id": "7ebe0e97b0d248028a9a444e0be4fca4",
       "version_major": 2,
       "version_minor": 0
      },
      "text/plain": [
       "  0%|          | 0/140 [00:00<?, ?it/s]"
      ]
     },
     "metadata": {},
     "output_type": "display_data"
    },
    {
     "name": "stdout",
     "output_type": "stream",
     "text": [
      "train accuracy = 0.97429 train macro-F1 = 0.97428\n",
      "dev accuracy = 0.69333 dev macro-F1 = 0.68659\n",
      "epoch 83\n"
     ]
    },
    {
     "data": {
      "application/vnd.jupyter.widget-view+json": {
       "model_id": "7363e0f9be304253a840ae131885582b",
       "version_major": 2,
       "version_minor": 0
      },
      "text/plain": [
       "  0%|          | 0/140 [00:00<?, ?it/s]"
      ]
     },
     "metadata": {},
     "output_type": "display_data"
    },
    {
     "name": "stdout",
     "output_type": "stream",
     "text": [
      "train accuracy = 0.97429 train macro-F1 = 0.97428\n",
      "dev accuracy = 0.69667 dev macro-F1 = 0.69030\n",
      "epoch 84\n"
     ]
    },
    {
     "data": {
      "application/vnd.jupyter.widget-view+json": {
       "model_id": "59f9909963ee4eb7a02e39ff6ca425e7",
       "version_major": 2,
       "version_minor": 0
      },
      "text/plain": [
       "  0%|          | 0/140 [00:00<?, ?it/s]"
      ]
     },
     "metadata": {},
     "output_type": "display_data"
    },
    {
     "name": "stdout",
     "output_type": "stream",
     "text": [
      "train accuracy = 0.97429 train macro-F1 = 0.97428\n",
      "dev accuracy = 0.69333 dev macro-F1 = 0.68720\n",
      "epoch 85\n"
     ]
    },
    {
     "data": {
      "application/vnd.jupyter.widget-view+json": {
       "model_id": "329e7ea54b174b22982d92c5e85a0bfa",
       "version_major": 2,
       "version_minor": 0
      },
      "text/plain": [
       "  0%|          | 0/140 [00:00<?, ?it/s]"
      ]
     },
     "metadata": {},
     "output_type": "display_data"
    },
    {
     "name": "stdout",
     "output_type": "stream",
     "text": [
      "train accuracy = 0.97429 train macro-F1 = 0.97428\n",
      "dev accuracy = 0.70000 dev macro-F1 = 0.69457\n",
      "epoch 86\n"
     ]
    },
    {
     "data": {
      "application/vnd.jupyter.widget-view+json": {
       "model_id": "c0e2166b20c346dc9799d00c077ba1dd",
       "version_major": 2,
       "version_minor": 0
      },
      "text/plain": [
       "  0%|          | 0/140 [00:00<?, ?it/s]"
      ]
     },
     "metadata": {},
     "output_type": "display_data"
    },
    {
     "name": "stdout",
     "output_type": "stream",
     "text": [
      "train accuracy = 0.97429 train macro-F1 = 0.97428\n",
      "dev accuracy = 0.70000 dev macro-F1 = 0.69457\n",
      "epoch 87\n"
     ]
    },
    {
     "data": {
      "application/vnd.jupyter.widget-view+json": {
       "model_id": "433db06967b74113a055a97b081a2c22",
       "version_major": 2,
       "version_minor": 0
      },
      "text/plain": [
       "  0%|          | 0/140 [00:00<?, ?it/s]"
      ]
     },
     "metadata": {},
     "output_type": "display_data"
    },
    {
     "name": "stdout",
     "output_type": "stream",
     "text": [
      "train accuracy = 0.97429 train macro-F1 = 0.97428\n",
      "dev accuracy = 0.70000 dev macro-F1 = 0.69457\n",
      "epoch 88\n"
     ]
    },
    {
     "data": {
      "application/vnd.jupyter.widget-view+json": {
       "model_id": "bf5f4db210334e44ba2139cfcd7cecba",
       "version_major": 2,
       "version_minor": 0
      },
      "text/plain": [
       "  0%|          | 0/140 [00:00<?, ?it/s]"
      ]
     },
     "metadata": {},
     "output_type": "display_data"
    },
    {
     "name": "stdout",
     "output_type": "stream",
     "text": [
      "train accuracy = 0.97571 train macro-F1 = 0.97571\n",
      "dev accuracy = 0.70000 dev macro-F1 = 0.69457\n",
      "epoch 89\n"
     ]
    },
    {
     "data": {
      "application/vnd.jupyter.widget-view+json": {
       "model_id": "dc38338c97da4aaeaa886b8d7d385cbd",
       "version_major": 2,
       "version_minor": 0
      },
      "text/plain": [
       "  0%|          | 0/140 [00:00<?, ?it/s]"
      ]
     },
     "metadata": {},
     "output_type": "display_data"
    },
    {
     "name": "stdout",
     "output_type": "stream",
     "text": [
      "train accuracy = 0.97643 train macro-F1 = 0.97643\n",
      "dev accuracy = 0.69667 dev macro-F1 = 0.69089\n",
      "epoch 90\n"
     ]
    },
    {
     "data": {
      "application/vnd.jupyter.widget-view+json": {
       "model_id": "7d6e256c45874dfbb72f4e77fec04b70",
       "version_major": 2,
       "version_minor": 0
      },
      "text/plain": [
       "  0%|          | 0/140 [00:00<?, ?it/s]"
      ]
     },
     "metadata": {},
     "output_type": "display_data"
    },
    {
     "name": "stdout",
     "output_type": "stream",
     "text": [
      "train accuracy = 0.97929 train macro-F1 = 0.97928\n",
      "dev accuracy = 0.70000 dev macro-F1 = 0.69457\n",
      "epoch 91\n"
     ]
    },
    {
     "data": {
      "application/vnd.jupyter.widget-view+json": {
       "model_id": "3e7147a15bde446a9e444b93768e1837",
       "version_major": 2,
       "version_minor": 0
      },
      "text/plain": [
       "  0%|          | 0/140 [00:00<?, ?it/s]"
      ]
     },
     "metadata": {},
     "output_type": "display_data"
    },
    {
     "name": "stdout",
     "output_type": "stream",
     "text": [
      "train accuracy = 0.98000 train macro-F1 = 0.98000\n",
      "dev accuracy = 0.69667 dev macro-F1 = 0.69145\n",
      "epoch 92\n"
     ]
    },
    {
     "data": {
      "application/vnd.jupyter.widget-view+json": {
       "model_id": "f70836604f6b4e79ae9dd3da890e7f43",
       "version_major": 2,
       "version_minor": 0
      },
      "text/plain": [
       "  0%|          | 0/140 [00:00<?, ?it/s]"
      ]
     },
     "metadata": {},
     "output_type": "display_data"
    },
    {
     "name": "stdout",
     "output_type": "stream",
     "text": [
      "train accuracy = 0.98143 train macro-F1 = 0.98143\n",
      "dev accuracy = 0.69000 dev macro-F1 = 0.68521\n",
      "epoch 93\n"
     ]
    },
    {
     "data": {
      "application/vnd.jupyter.widget-view+json": {
       "model_id": "8142de6225af4f6e9c7e5e8b371cf6bb",
       "version_major": 2,
       "version_minor": 0
      },
      "text/plain": [
       "  0%|          | 0/140 [00:00<?, ?it/s]"
      ]
     },
     "metadata": {},
     "output_type": "display_data"
    },
    {
     "name": "stdout",
     "output_type": "stream",
     "text": [
      "train accuracy = 0.98143 train macro-F1 = 0.98143\n",
      "dev accuracy = 0.69000 dev macro-F1 = 0.68521\n",
      "epoch 94\n"
     ]
    },
    {
     "data": {
      "application/vnd.jupyter.widget-view+json": {
       "model_id": "fba8b4398dc746f38857fc39e9b23ec1",
       "version_major": 2,
       "version_minor": 0
      },
      "text/plain": [
       "  0%|          | 0/140 [00:00<?, ?it/s]"
      ]
     },
     "metadata": {},
     "output_type": "display_data"
    },
    {
     "name": "stdout",
     "output_type": "stream",
     "text": [
      "train accuracy = 0.98143 train macro-F1 = 0.98143\n",
      "dev accuracy = 0.69333 dev macro-F1 = 0.68885\n",
      "epoch 95\n"
     ]
    },
    {
     "data": {
      "application/vnd.jupyter.widget-view+json": {
       "model_id": "9363b08f40b747e0b9f5b30458e2dbc1",
       "version_major": 2,
       "version_minor": 0
      },
      "text/plain": [
       "  0%|          | 0/140 [00:00<?, ?it/s]"
      ]
     },
     "metadata": {},
     "output_type": "display_data"
    },
    {
     "name": "stdout",
     "output_type": "stream",
     "text": [
      "train accuracy = 0.98214 train macro-F1 = 0.98214\n",
      "dev accuracy = 0.69333 dev macro-F1 = 0.68885\n",
      "epoch 96\n"
     ]
    },
    {
     "data": {
      "application/vnd.jupyter.widget-view+json": {
       "model_id": "1af8466b25dc43e382f47d2128a6984a",
       "version_major": 2,
       "version_minor": 0
      },
      "text/plain": [
       "  0%|          | 0/140 [00:00<?, ?it/s]"
      ]
     },
     "metadata": {},
     "output_type": "display_data"
    },
    {
     "name": "stdout",
     "output_type": "stream",
     "text": [
      "train accuracy = 0.98214 train macro-F1 = 0.98214\n",
      "dev accuracy = 0.70333 dev macro-F1 = 0.69970\n",
      "epoch 97\n"
     ]
    },
    {
     "data": {
      "application/vnd.jupyter.widget-view+json": {
       "model_id": "b2d8889fa53447049f886d1dd2b7b300",
       "version_major": 2,
       "version_minor": 0
      },
      "text/plain": [
       "  0%|          | 0/140 [00:00<?, ?it/s]"
      ]
     },
     "metadata": {},
     "output_type": "display_data"
    },
    {
     "name": "stdout",
     "output_type": "stream",
     "text": [
      "train accuracy = 0.98286 train macro-F1 = 0.98286\n",
      "dev accuracy = 0.70333 dev macro-F1 = 0.69970\n",
      "epoch 98\n"
     ]
    },
    {
     "data": {
      "application/vnd.jupyter.widget-view+json": {
       "model_id": "462eaec3992049f9a47c9b289f8ba7f3",
       "version_major": 2,
       "version_minor": 0
      },
      "text/plain": [
       "  0%|          | 0/140 [00:00<?, ?it/s]"
      ]
     },
     "metadata": {},
     "output_type": "display_data"
    },
    {
     "name": "stdout",
     "output_type": "stream",
     "text": [
      "train accuracy = 0.98357 train macro-F1 = 0.98357\n",
      "dev accuracy = 0.70667 dev macro-F1 = 0.70329\n",
      "epoch 99\n"
     ]
    },
    {
     "data": {
      "application/vnd.jupyter.widget-view+json": {
       "model_id": "9dcfb08de988462e83fe8fe7d9b7a914",
       "version_major": 2,
       "version_minor": 0
      },
      "text/plain": [
       "  0%|          | 0/140 [00:00<?, ?it/s]"
      ]
     },
     "metadata": {},
     "output_type": "display_data"
    },
    {
     "name": "stdout",
     "output_type": "stream",
     "text": [
      "train accuracy = 0.98500 train macro-F1 = 0.98500\n",
      "dev accuracy = 0.70667 dev macro-F1 = 0.70329\n",
      "epoch 100\n"
     ]
    },
    {
     "data": {
      "application/vnd.jupyter.widget-view+json": {
       "model_id": "52b40c0c15a44c17a105139574e37fa6",
       "version_major": 2,
       "version_minor": 0
      },
      "text/plain": [
       "  0%|          | 0/140 [00:00<?, ?it/s]"
      ]
     },
     "metadata": {},
     "output_type": "display_data"
    },
    {
     "name": "stdout",
     "output_type": "stream",
     "text": [
      "train accuracy = 0.98500 train macro-F1 = 0.98500\n",
      "dev accuracy = 0.70667 dev macro-F1 = 0.70329\n",
      "epoch 101\n"
     ]
    },
    {
     "data": {
      "application/vnd.jupyter.widget-view+json": {
       "model_id": "21db3ff9c7004160aac2df3251e75282",
       "version_major": 2,
       "version_minor": 0
      },
      "text/plain": [
       "  0%|          | 0/140 [00:00<?, ?it/s]"
      ]
     },
     "metadata": {},
     "output_type": "display_data"
    },
    {
     "name": "stdout",
     "output_type": "stream",
     "text": [
      "train accuracy = 0.98571 train macro-F1 = 0.98571\n",
      "dev accuracy = 0.70667 dev macro-F1 = 0.70329\n",
      "epoch 102\n"
     ]
    },
    {
     "data": {
      "application/vnd.jupyter.widget-view+json": {
       "model_id": "c3cf6c42fc9440ca8563790f0539183f",
       "version_major": 2,
       "version_minor": 0
      },
      "text/plain": [
       "  0%|          | 0/140 [00:00<?, ?it/s]"
      ]
     },
     "metadata": {},
     "output_type": "display_data"
    },
    {
     "name": "stdout",
     "output_type": "stream",
     "text": [
      "train accuracy = 0.98571 train macro-F1 = 0.98571\n",
      "dev accuracy = 0.70667 dev macro-F1 = 0.70329\n",
      "epoch 103\n"
     ]
    },
    {
     "data": {
      "application/vnd.jupyter.widget-view+json": {
       "model_id": "3da5ba27a21040aca0254af6fb70843f",
       "version_major": 2,
       "version_minor": 0
      },
      "text/plain": [
       "  0%|          | 0/140 [00:00<?, ?it/s]"
      ]
     },
     "metadata": {},
     "output_type": "display_data"
    },
    {
     "name": "stdout",
     "output_type": "stream",
     "text": [
      "train accuracy = 0.98643 train macro-F1 = 0.98643\n",
      "dev accuracy = 0.70667 dev macro-F1 = 0.70329\n",
      "epoch 104\n"
     ]
    },
    {
     "data": {
      "application/vnd.jupyter.widget-view+json": {
       "model_id": "eef821f54075466d911554b3186a27cb",
       "version_major": 2,
       "version_minor": 0
      },
      "text/plain": [
       "  0%|          | 0/140 [00:00<?, ?it/s]"
      ]
     },
     "metadata": {},
     "output_type": "display_data"
    },
    {
     "name": "stdout",
     "output_type": "stream",
     "text": [
      "train accuracy = 0.98714 train macro-F1 = 0.98714\n",
      "dev accuracy = 0.70667 dev macro-F1 = 0.70329\n",
      "epoch 105\n"
     ]
    },
    {
     "data": {
      "application/vnd.jupyter.widget-view+json": {
       "model_id": "7ff77da7bdfe432ca27581e3900caf82",
       "version_major": 2,
       "version_minor": 0
      },
      "text/plain": [
       "  0%|          | 0/140 [00:00<?, ?it/s]"
      ]
     },
     "metadata": {},
     "output_type": "display_data"
    },
    {
     "name": "stdout",
     "output_type": "stream",
     "text": [
      "train accuracy = 0.98714 train macro-F1 = 0.98714\n",
      "dev accuracy = 0.70667 dev macro-F1 = 0.70370\n",
      "epoch 106\n"
     ]
    },
    {
     "data": {
      "application/vnd.jupyter.widget-view+json": {
       "model_id": "1ecb83b9fff4494cb1ee59e2a8bc4ff2",
       "version_major": 2,
       "version_minor": 0
      },
      "text/plain": [
       "  0%|          | 0/140 [00:00<?, ?it/s]"
      ]
     },
     "metadata": {},
     "output_type": "display_data"
    },
    {
     "name": "stdout",
     "output_type": "stream",
     "text": [
      "train accuracy = 0.98714 train macro-F1 = 0.98714\n",
      "dev accuracy = 0.71333 dev macro-F1 = 0.71081\n",
      "epoch 107\n"
     ]
    },
    {
     "data": {
      "application/vnd.jupyter.widget-view+json": {
       "model_id": "625f3a8cb3174e8592f3ce35e85bef08",
       "version_major": 2,
       "version_minor": 0
      },
      "text/plain": [
       "  0%|          | 0/140 [00:00<?, ?it/s]"
      ]
     },
     "metadata": {},
     "output_type": "display_data"
    },
    {
     "name": "stdout",
     "output_type": "stream",
     "text": [
      "train accuracy = 0.98786 train macro-F1 = 0.98786\n",
      "dev accuracy = 0.71333 dev macro-F1 = 0.71081\n",
      "epoch 108\n"
     ]
    },
    {
     "data": {
      "application/vnd.jupyter.widget-view+json": {
       "model_id": "df14fbed93ce4768b208454db167a8c4",
       "version_major": 2,
       "version_minor": 0
      },
      "text/plain": [
       "  0%|          | 0/140 [00:00<?, ?it/s]"
      ]
     },
     "metadata": {},
     "output_type": "display_data"
    },
    {
     "name": "stdout",
     "output_type": "stream",
     "text": [
      "train accuracy = 0.98857 train macro-F1 = 0.98857\n",
      "dev accuracy = 0.71667 dev macro-F1 = 0.71435\n",
      "epoch 109\n"
     ]
    },
    {
     "data": {
      "application/vnd.jupyter.widget-view+json": {
       "model_id": "d762423d5d93405ab006db88b4681806",
       "version_major": 2,
       "version_minor": 0
      },
      "text/plain": [
       "  0%|          | 0/140 [00:00<?, ?it/s]"
      ]
     },
     "metadata": {},
     "output_type": "display_data"
    },
    {
     "name": "stdout",
     "output_type": "stream",
     "text": [
      "train accuracy = 0.99000 train macro-F1 = 0.99000\n",
      "dev accuracy = 0.71667 dev macro-F1 = 0.71435\n",
      "epoch 110\n"
     ]
    },
    {
     "data": {
      "application/vnd.jupyter.widget-view+json": {
       "model_id": "0027276f83884f47ab59dbc7b1c7e4a3",
       "version_major": 2,
       "version_minor": 0
      },
      "text/plain": [
       "  0%|          | 0/140 [00:00<?, ?it/s]"
      ]
     },
     "metadata": {},
     "output_type": "display_data"
    },
    {
     "name": "stdout",
     "output_type": "stream",
     "text": [
      "train accuracy = 0.99071 train macro-F1 = 0.99071\n",
      "dev accuracy = 0.72000 dev macro-F1 = 0.71788\n",
      "epoch 111\n"
     ]
    },
    {
     "data": {
      "application/vnd.jupyter.widget-view+json": {
       "model_id": "8da2bd9bec0644c0a8ecfe7521f0adc8",
       "version_major": 2,
       "version_minor": 0
      },
      "text/plain": [
       "  0%|          | 0/140 [00:00<?, ?it/s]"
      ]
     },
     "metadata": {},
     "output_type": "display_data"
    },
    {
     "name": "stdout",
     "output_type": "stream",
     "text": [
      "train accuracy = 0.99143 train macro-F1 = 0.99143\n",
      "dev accuracy = 0.72333 dev macro-F1 = 0.72140\n",
      "epoch 112\n"
     ]
    },
    {
     "data": {
      "application/vnd.jupyter.widget-view+json": {
       "model_id": "cc1274f39a1f4c97b04d0b6635ad3cdc",
       "version_major": 2,
       "version_minor": 0
      },
      "text/plain": [
       "  0%|          | 0/140 [00:00<?, ?it/s]"
      ]
     },
     "metadata": {},
     "output_type": "display_data"
    },
    {
     "name": "stdout",
     "output_type": "stream",
     "text": [
      "train accuracy = 0.99214 train macro-F1 = 0.99214\n",
      "dev accuracy = 0.72333 dev macro-F1 = 0.72140\n",
      "epoch 113\n"
     ]
    },
    {
     "data": {
      "application/vnd.jupyter.widget-view+json": {
       "model_id": "8ffa2438dd164f2483593625797246d4",
       "version_major": 2,
       "version_minor": 0
      },
      "text/plain": [
       "  0%|          | 0/140 [00:00<?, ?it/s]"
      ]
     },
     "metadata": {},
     "output_type": "display_data"
    },
    {
     "name": "stdout",
     "output_type": "stream",
     "text": [
      "train accuracy = 0.99214 train macro-F1 = 0.99214\n",
      "dev accuracy = 0.71667 dev macro-F1 = 0.71499\n",
      "epoch 114\n"
     ]
    },
    {
     "data": {
      "application/vnd.jupyter.widget-view+json": {
       "model_id": "7325b176de524c7d9cb91175b2e1aec9",
       "version_major": 2,
       "version_minor": 0
      },
      "text/plain": [
       "  0%|          | 0/140 [00:00<?, ?it/s]"
      ]
     },
     "metadata": {},
     "output_type": "display_data"
    },
    {
     "name": "stdout",
     "output_type": "stream",
     "text": [
      "train accuracy = 0.99214 train macro-F1 = 0.99214\n",
      "dev accuracy = 0.71667 dev macro-F1 = 0.71499\n",
      "epoch 115\n"
     ]
    },
    {
     "data": {
      "application/vnd.jupyter.widget-view+json": {
       "model_id": "48896a46d0bf4538bed607f3237b9e56",
       "version_major": 2,
       "version_minor": 0
      },
      "text/plain": [
       "  0%|          | 0/140 [00:00<?, ?it/s]"
      ]
     },
     "metadata": {},
     "output_type": "display_data"
    },
    {
     "name": "stdout",
     "output_type": "stream",
     "text": [
      "train accuracy = 0.99214 train macro-F1 = 0.99214\n",
      "dev accuracy = 0.72000 dev macro-F1 = 0.71820\n",
      "epoch 116\n"
     ]
    },
    {
     "data": {
      "application/vnd.jupyter.widget-view+json": {
       "model_id": "fd3450ea32044cedabd217d3655e1a35",
       "version_major": 2,
       "version_minor": 0
      },
      "text/plain": [
       "  0%|          | 0/140 [00:00<?, ?it/s]"
      ]
     },
     "metadata": {},
     "output_type": "display_data"
    },
    {
     "name": "stdout",
     "output_type": "stream",
     "text": [
      "train accuracy = 0.99286 train macro-F1 = 0.99286\n",
      "dev accuracy = 0.72333 dev macro-F1 = 0.72140\n",
      "epoch 117\n"
     ]
    },
    {
     "data": {
      "application/vnd.jupyter.widget-view+json": {
       "model_id": "11906fd39b174c669a31aa71e6365dc1",
       "version_major": 2,
       "version_minor": 0
      },
      "text/plain": [
       "  0%|          | 0/140 [00:00<?, ?it/s]"
      ]
     },
     "metadata": {},
     "output_type": "display_data"
    },
    {
     "name": "stdout",
     "output_type": "stream",
     "text": [
      "train accuracy = 0.99286 train macro-F1 = 0.99286\n",
      "dev accuracy = 0.72333 dev macro-F1 = 0.72140\n",
      "epoch 118\n"
     ]
    },
    {
     "data": {
      "application/vnd.jupyter.widget-view+json": {
       "model_id": "98ffed15709f43768285ff87a96726c0",
       "version_major": 2,
       "version_minor": 0
      },
      "text/plain": [
       "  0%|          | 0/140 [00:00<?, ?it/s]"
      ]
     },
     "metadata": {},
     "output_type": "display_data"
    },
    {
     "name": "stdout",
     "output_type": "stream",
     "text": [
      "train accuracy = 0.99286 train macro-F1 = 0.99286\n",
      "dev accuracy = 0.72333 dev macro-F1 = 0.72140\n",
      "epoch 119\n"
     ]
    },
    {
     "data": {
      "application/vnd.jupyter.widget-view+json": {
       "model_id": "3c0b8ddaba7d40f58fadd703c4a45677",
       "version_major": 2,
       "version_minor": 0
      },
      "text/plain": [
       "  0%|          | 0/140 [00:00<?, ?it/s]"
      ]
     },
     "metadata": {},
     "output_type": "display_data"
    },
    {
     "name": "stdout",
     "output_type": "stream",
     "text": [
      "train accuracy = 0.99286 train macro-F1 = 0.99286\n",
      "dev accuracy = 0.72333 dev macro-F1 = 0.72140\n",
      "epoch 120\n"
     ]
    },
    {
     "data": {
      "application/vnd.jupyter.widget-view+json": {
       "model_id": "061854ace07d4811b03c459def58db0b",
       "version_major": 2,
       "version_minor": 0
      },
      "text/plain": [
       "  0%|          | 0/140 [00:00<?, ?it/s]"
      ]
     },
     "metadata": {},
     "output_type": "display_data"
    },
    {
     "name": "stdout",
     "output_type": "stream",
     "text": [
      "train accuracy = 0.99286 train macro-F1 = 0.99286\n",
      "dev accuracy = 0.72667 dev macro-F1 = 0.72491\n",
      "epoch 121\n"
     ]
    },
    {
     "data": {
      "application/vnd.jupyter.widget-view+json": {
       "model_id": "13b812d105534a4bba088cacea9e04ce",
       "version_major": 2,
       "version_minor": 0
      },
      "text/plain": [
       "  0%|          | 0/140 [00:00<?, ?it/s]"
      ]
     },
     "metadata": {},
     "output_type": "display_data"
    },
    {
     "name": "stdout",
     "output_type": "stream",
     "text": [
      "train accuracy = 0.99286 train macro-F1 = 0.99286\n",
      "dev accuracy = 0.72333 dev macro-F1 = 0.72170\n",
      "epoch 122\n"
     ]
    },
    {
     "data": {
      "application/vnd.jupyter.widget-view+json": {
       "model_id": "8b7753fefd83424f9c0ab90f006e04fd",
       "version_major": 2,
       "version_minor": 0
      },
      "text/plain": [
       "  0%|          | 0/140 [00:00<?, ?it/s]"
      ]
     },
     "metadata": {},
     "output_type": "display_data"
    },
    {
     "name": "stdout",
     "output_type": "stream",
     "text": [
      "train accuracy = 0.99429 train macro-F1 = 0.99429\n",
      "dev accuracy = 0.72333 dev macro-F1 = 0.72170\n",
      "epoch 123\n"
     ]
    },
    {
     "data": {
      "application/vnd.jupyter.widget-view+json": {
       "model_id": "2e1a7e13aa754e1bb479a68a9f221881",
       "version_major": 2,
       "version_minor": 0
      },
      "text/plain": [
       "  0%|          | 0/140 [00:00<?, ?it/s]"
      ]
     },
     "metadata": {},
     "output_type": "display_data"
    },
    {
     "name": "stdout",
     "output_type": "stream",
     "text": [
      "train accuracy = 0.99571 train macro-F1 = 0.99571\n",
      "dev accuracy = 0.72667 dev macro-F1 = 0.72519\n",
      "epoch 124\n"
     ]
    },
    {
     "data": {
      "application/vnd.jupyter.widget-view+json": {
       "model_id": "4cdaace1923d4ddda6b33907e0d33e98",
       "version_major": 2,
       "version_minor": 0
      },
      "text/plain": [
       "  0%|          | 0/140 [00:00<?, ?it/s]"
      ]
     },
     "metadata": {},
     "output_type": "display_data"
    },
    {
     "name": "stdout",
     "output_type": "stream",
     "text": [
      "train accuracy = 0.99571 train macro-F1 = 0.99571\n",
      "dev accuracy = 0.72667 dev macro-F1 = 0.72519\n",
      "epoch 125\n"
     ]
    },
    {
     "data": {
      "application/vnd.jupyter.widget-view+json": {
       "model_id": "86ecabada1614a33beb585f0556d9f1a",
       "version_major": 2,
       "version_minor": 0
      },
      "text/plain": [
       "  0%|          | 0/140 [00:00<?, ?it/s]"
      ]
     },
     "metadata": {},
     "output_type": "display_data"
    },
    {
     "name": "stdout",
     "output_type": "stream",
     "text": [
      "train accuracy = 0.99714 train macro-F1 = 0.99714\n",
      "dev accuracy = 0.73000 dev macro-F1 = 0.72840\n",
      "epoch 126\n"
     ]
    },
    {
     "data": {
      "application/vnd.jupyter.widget-view+json": {
       "model_id": "626dda0bcacc40dd8e1053e144068bf9",
       "version_major": 2,
       "version_minor": 0
      },
      "text/plain": [
       "  0%|          | 0/140 [00:00<?, ?it/s]"
      ]
     },
     "metadata": {},
     "output_type": "display_data"
    },
    {
     "name": "stdout",
     "output_type": "stream",
     "text": [
      "train accuracy = 0.99714 train macro-F1 = 0.99714\n",
      "dev accuracy = 0.73000 dev macro-F1 = 0.72840\n",
      "epoch 127\n"
     ]
    },
    {
     "data": {
      "application/vnd.jupyter.widget-view+json": {
       "model_id": "b5ba91cf4b35458388b42707e01a9891",
       "version_major": 2,
       "version_minor": 0
      },
      "text/plain": [
       "  0%|          | 0/140 [00:00<?, ?it/s]"
      ]
     },
     "metadata": {},
     "output_type": "display_data"
    },
    {
     "name": "stdout",
     "output_type": "stream",
     "text": [
      "train accuracy = 0.99714 train macro-F1 = 0.99714\n",
      "dev accuracy = 0.73333 dev macro-F1 = 0.73162\n",
      "epoch 128\n"
     ]
    },
    {
     "data": {
      "application/vnd.jupyter.widget-view+json": {
       "model_id": "866847ee73af433681bc400922b6ca83",
       "version_major": 2,
       "version_minor": 0
      },
      "text/plain": [
       "  0%|          | 0/140 [00:00<?, ?it/s]"
      ]
     },
     "metadata": {},
     "output_type": "display_data"
    },
    {
     "name": "stdout",
     "output_type": "stream",
     "text": [
      "train accuracy = 0.99714 train macro-F1 = 0.99714\n",
      "dev accuracy = 0.73333 dev macro-F1 = 0.73162\n",
      "epoch 129\n"
     ]
    },
    {
     "data": {
      "application/vnd.jupyter.widget-view+json": {
       "model_id": "55ade07c9f0746d797d87ebab730c883",
       "version_major": 2,
       "version_minor": 0
      },
      "text/plain": [
       "  0%|          | 0/140 [00:00<?, ?it/s]"
      ]
     },
     "metadata": {},
     "output_type": "display_data"
    },
    {
     "name": "stdout",
     "output_type": "stream",
     "text": [
      "train accuracy = 0.99786 train macro-F1 = 0.99786\n",
      "dev accuracy = 0.73333 dev macro-F1 = 0.73162\n",
      "epoch 130\n"
     ]
    },
    {
     "data": {
      "application/vnd.jupyter.widget-view+json": {
       "model_id": "9ea27de39f97476f97684d4a9d9f0678",
       "version_major": 2,
       "version_minor": 0
      },
      "text/plain": [
       "  0%|          | 0/140 [00:00<?, ?it/s]"
      ]
     },
     "metadata": {},
     "output_type": "display_data"
    },
    {
     "name": "stdout",
     "output_type": "stream",
     "text": [
      "train accuracy = 0.99786 train macro-F1 = 0.99786\n",
      "dev accuracy = 0.74333 dev macro-F1 = 0.74207\n",
      "epoch 131\n"
     ]
    },
    {
     "data": {
      "application/vnd.jupyter.widget-view+json": {
       "model_id": "19011f02b2f04c459e31342213fa8e77",
       "version_major": 2,
       "version_minor": 0
      },
      "text/plain": [
       "  0%|          | 0/140 [00:00<?, ?it/s]"
      ]
     },
     "metadata": {},
     "output_type": "display_data"
    },
    {
     "name": "stdout",
     "output_type": "stream",
     "text": [
      "train accuracy = 0.99786 train macro-F1 = 0.99786\n",
      "dev accuracy = 0.74333 dev macro-F1 = 0.74207\n",
      "epoch 132\n"
     ]
    },
    {
     "data": {
      "application/vnd.jupyter.widget-view+json": {
       "model_id": "d657b2e69b774d0aac50a31a857bce3b",
       "version_major": 2,
       "version_minor": 0
      },
      "text/plain": [
       "  0%|          | 0/140 [00:00<?, ?it/s]"
      ]
     },
     "metadata": {},
     "output_type": "display_data"
    },
    {
     "name": "stdout",
     "output_type": "stream",
     "text": [
      "train accuracy = 0.99786 train macro-F1 = 0.99786\n",
      "dev accuracy = 0.74333 dev macro-F1 = 0.74207\n",
      "epoch 133\n"
     ]
    },
    {
     "data": {
      "application/vnd.jupyter.widget-view+json": {
       "model_id": "79a871d28b834cbcaa2ca9bf105cd888",
       "version_major": 2,
       "version_minor": 0
      },
      "text/plain": [
       "  0%|          | 0/140 [00:00<?, ?it/s]"
      ]
     },
     "metadata": {},
     "output_type": "display_data"
    },
    {
     "name": "stdout",
     "output_type": "stream",
     "text": [
      "train accuracy = 0.99786 train macro-F1 = 0.99786\n",
      "dev accuracy = 0.74333 dev macro-F1 = 0.74230\n",
      "epoch 134\n"
     ]
    },
    {
     "data": {
      "application/vnd.jupyter.widget-view+json": {
       "model_id": "0c3b1cae9de843f892d7b9a54878a556",
       "version_major": 2,
       "version_minor": 0
      },
      "text/plain": [
       "  0%|          | 0/140 [00:00<?, ?it/s]"
      ]
     },
     "metadata": {},
     "output_type": "display_data"
    },
    {
     "name": "stdout",
     "output_type": "stream",
     "text": [
      "train accuracy = 0.99786 train macro-F1 = 0.99786\n",
      "dev accuracy = 0.74333 dev macro-F1 = 0.74230\n",
      "epoch 135\n"
     ]
    },
    {
     "data": {
      "application/vnd.jupyter.widget-view+json": {
       "model_id": "9ca04c4a0abc460799d168414c571996",
       "version_major": 2,
       "version_minor": 0
      },
      "text/plain": [
       "  0%|          | 0/140 [00:00<?, ?it/s]"
      ]
     },
     "metadata": {},
     "output_type": "display_data"
    },
    {
     "name": "stdout",
     "output_type": "stream",
     "text": [
      "train accuracy = 0.99786 train macro-F1 = 0.99786\n",
      "dev accuracy = 0.74333 dev macro-F1 = 0.74230\n",
      "epoch 136\n"
     ]
    },
    {
     "data": {
      "application/vnd.jupyter.widget-view+json": {
       "model_id": "02552a85110944b9a54a8ed733da722c",
       "version_major": 2,
       "version_minor": 0
      },
      "text/plain": [
       "  0%|          | 0/140 [00:00<?, ?it/s]"
      ]
     },
     "metadata": {},
     "output_type": "display_data"
    },
    {
     "name": "stdout",
     "output_type": "stream",
     "text": [
      "train accuracy = 0.99786 train macro-F1 = 0.99786\n",
      "dev accuracy = 0.74667 dev macro-F1 = 0.74575\n",
      "epoch 137\n"
     ]
    },
    {
     "data": {
      "application/vnd.jupyter.widget-view+json": {
       "model_id": "70a82abed53047f8b0409d72a5c7966d",
       "version_major": 2,
       "version_minor": 0
      },
      "text/plain": [
       "  0%|          | 0/140 [00:00<?, ?it/s]"
      ]
     },
     "metadata": {},
     "output_type": "display_data"
    },
    {
     "name": "stdout",
     "output_type": "stream",
     "text": [
      "train accuracy = 0.99786 train macro-F1 = 0.99786\n",
      "dev accuracy = 0.74667 dev macro-F1 = 0.74575\n",
      "epoch 138\n"
     ]
    },
    {
     "data": {
      "application/vnd.jupyter.widget-view+json": {
       "model_id": "bbbc875c58904efe98fd92b11a0b62ec",
       "version_major": 2,
       "version_minor": 0
      },
      "text/plain": [
       "  0%|          | 0/140 [00:00<?, ?it/s]"
      ]
     },
     "metadata": {},
     "output_type": "display_data"
    },
    {
     "name": "stdout",
     "output_type": "stream",
     "text": [
      "train accuracy = 0.99857 train macro-F1 = 0.99857\n",
      "dev accuracy = 0.75000 dev macro-F1 = 0.74899\n",
      "epoch 139\n"
     ]
    },
    {
     "data": {
      "application/vnd.jupyter.widget-view+json": {
       "model_id": "19d8403ac1ba4e148f048f18d4832d88",
       "version_major": 2,
       "version_minor": 0
      },
      "text/plain": [
       "  0%|          | 0/140 [00:00<?, ?it/s]"
      ]
     },
     "metadata": {},
     "output_type": "display_data"
    },
    {
     "name": "stdout",
     "output_type": "stream",
     "text": [
      "train accuracy = 0.99857 train macro-F1 = 0.99857\n",
      "dev accuracy = 0.75333 dev macro-F1 = 0.75223\n",
      "epoch 140\n"
     ]
    },
    {
     "data": {
      "application/vnd.jupyter.widget-view+json": {
       "model_id": "b8651eb38f0e428ead9d99c551ec844c",
       "version_major": 2,
       "version_minor": 0
      },
      "text/plain": [
       "  0%|          | 0/140 [00:00<?, ?it/s]"
      ]
     },
     "metadata": {},
     "output_type": "display_data"
    },
    {
     "name": "stdout",
     "output_type": "stream",
     "text": [
      "train accuracy = 0.99857 train macro-F1 = 0.99857\n",
      "dev accuracy = 0.75333 dev macro-F1 = 0.75223\n",
      "epoch 141\n"
     ]
    },
    {
     "data": {
      "application/vnd.jupyter.widget-view+json": {
       "model_id": "aeca6f9bee284896a0196f6bf76ea3a3",
       "version_major": 2,
       "version_minor": 0
      },
      "text/plain": [
       "  0%|          | 0/140 [00:00<?, ?it/s]"
      ]
     },
     "metadata": {},
     "output_type": "display_data"
    },
    {
     "name": "stdout",
     "output_type": "stream",
     "text": [
      "train accuracy = 0.99857 train macro-F1 = 0.99857\n",
      "dev accuracy = 0.75333 dev macro-F1 = 0.75223\n",
      "epoch 142\n"
     ]
    },
    {
     "data": {
      "application/vnd.jupyter.widget-view+json": {
       "model_id": "ce21273a2bf44ae99c9b880f877e57c8",
       "version_major": 2,
       "version_minor": 0
      },
      "text/plain": [
       "  0%|          | 0/140 [00:00<?, ?it/s]"
      ]
     },
     "metadata": {},
     "output_type": "display_data"
    },
    {
     "name": "stdout",
     "output_type": "stream",
     "text": [
      "train accuracy = 0.99857 train macro-F1 = 0.99857\n",
      "dev accuracy = 0.75333 dev macro-F1 = 0.75223\n",
      "epoch 143\n"
     ]
    },
    {
     "data": {
      "application/vnd.jupyter.widget-view+json": {
       "model_id": "724523de7771421c9df47445035ad6e0",
       "version_major": 2,
       "version_minor": 0
      },
      "text/plain": [
       "  0%|          | 0/140 [00:00<?, ?it/s]"
      ]
     },
     "metadata": {},
     "output_type": "display_data"
    },
    {
     "name": "stdout",
     "output_type": "stream",
     "text": [
      "train accuracy = 0.99857 train macro-F1 = 0.99857\n",
      "dev accuracy = 0.75667 dev macro-F1 = 0.75569\n",
      "epoch 144\n"
     ]
    },
    {
     "data": {
      "application/vnd.jupyter.widget-view+json": {
       "model_id": "1c1c45609657419cb6455d398f433826",
       "version_major": 2,
       "version_minor": 0
      },
      "text/plain": [
       "  0%|          | 0/140 [00:00<?, ?it/s]"
      ]
     },
     "metadata": {},
     "output_type": "display_data"
    },
    {
     "name": "stdout",
     "output_type": "stream",
     "text": [
      "train accuracy = 0.99857 train macro-F1 = 0.99857\n",
      "dev accuracy = 0.75667 dev macro-F1 = 0.75569\n",
      "epoch 145\n"
     ]
    },
    {
     "data": {
      "application/vnd.jupyter.widget-view+json": {
       "model_id": "d2604e4660894503a214ab60ea9b6377",
       "version_major": 2,
       "version_minor": 0
      },
      "text/plain": [
       "  0%|          | 0/140 [00:00<?, ?it/s]"
      ]
     },
     "metadata": {},
     "output_type": "display_data"
    },
    {
     "name": "stdout",
     "output_type": "stream",
     "text": [
      "train accuracy = 0.99857 train macro-F1 = 0.99857\n",
      "dev accuracy = 0.75667 dev macro-F1 = 0.75569\n",
      "epoch 146\n"
     ]
    },
    {
     "data": {
      "application/vnd.jupyter.widget-view+json": {
       "model_id": "580f96ea724844a284deafb097b45b2e",
       "version_major": 2,
       "version_minor": 0
      },
      "text/plain": [
       "  0%|          | 0/140 [00:00<?, ?it/s]"
      ]
     },
     "metadata": {},
     "output_type": "display_data"
    },
    {
     "name": "stdout",
     "output_type": "stream",
     "text": [
      "train accuracy = 0.99857 train macro-F1 = 0.99857\n",
      "dev accuracy = 0.75667 dev macro-F1 = 0.75569\n",
      "epoch 147\n"
     ]
    },
    {
     "data": {
      "application/vnd.jupyter.widget-view+json": {
       "model_id": "e5c5600e0adc41469ff2b8c8bc12aeb4",
       "version_major": 2,
       "version_minor": 0
      },
      "text/plain": [
       "  0%|          | 0/140 [00:00<?, ?it/s]"
      ]
     },
     "metadata": {},
     "output_type": "display_data"
    },
    {
     "name": "stdout",
     "output_type": "stream",
     "text": [
      "train accuracy = 0.99929 train macro-F1 = 0.99929\n",
      "dev accuracy = 0.76000 dev macro-F1 = 0.75913\n",
      "epoch 148\n"
     ]
    },
    {
     "data": {
      "application/vnd.jupyter.widget-view+json": {
       "model_id": "c464df54b2ab4ddcb619166285e4e330",
       "version_major": 2,
       "version_minor": 0
      },
      "text/plain": [
       "  0%|          | 0/140 [00:00<?, ?it/s]"
      ]
     },
     "metadata": {},
     "output_type": "display_data"
    },
    {
     "name": "stdout",
     "output_type": "stream",
     "text": [
      "train accuracy = 0.99929 train macro-F1 = 0.99929\n",
      "dev accuracy = 0.76000 dev macro-F1 = 0.75913\n",
      "epoch 149\n"
     ]
    },
    {
     "data": {
      "application/vnd.jupyter.widget-view+json": {
       "model_id": "2a60c8de3cb94d06ad581675aea49d5e",
       "version_major": 2,
       "version_minor": 0
      },
      "text/plain": [
       "  0%|          | 0/140 [00:00<?, ?it/s]"
      ]
     },
     "metadata": {},
     "output_type": "display_data"
    },
    {
     "name": "stdout",
     "output_type": "stream",
     "text": [
      "train accuracy = 0.99929 train macro-F1 = 0.99929\n",
      "dev accuracy = 0.76000 dev macro-F1 = 0.75913\n",
      "total training time: 0:40:25.136915\n"
     ]
    }
   ],
   "source": [
    "train(model, train_loader)"
   ]
  },
  {
   "cell_type": "code",
   "execution_count": 17,
   "id": "368adb6e-42ec-48ba-a502-41783ee28d19",
   "metadata": {},
   "outputs": [
    {
     "data": {
      "text/plain": [
       "<matplotlib.legend.Legend at 0x1e2d2e84730>"
      ]
     },
     "execution_count": 17,
     "metadata": {},
     "output_type": "execute_result"
    },
    {
     "data": {
      "image/png": "[encoded data removed]",
      "text/plain": [
       "<Figure size 432x288 with 1 Axes>"
      ]
     },
     "metadata": {
      "needs_background": "light"
     },
     "output_type": "display_data"
    }
   ],
   "source": [
    "plt.plot(range(num_epochs), epoch_train_accuracy, label='train accuracy vs epoch', color='red' )\n",
    "plt.plot(range(num_epochs), epoch_train_F1, label='train F1 vs epoch', color='blue' )\n",
    "plt.plot(range(num_epochs), epoch_dev_accuracy, label='validation accuracy vs epoch', color='green' )\n",
    "plt.plot(range(num_epochs), epoch_dev_F1, label='validation F1 vs epoch', color='orange' )\n",
    "plt.xlabel('epoch')\n",
    "plt.ylabel('value')\n",
    "plt.legend()"
   ]
  },
  {
   "cell_type": "code",
   "execution_count": 18,
   "id": "d0529cca-d123-41be-8c71-ff7310e59ae1",
   "metadata": {},
   "outputs": [
    {
     "name": "stdout",
     "output_type": "stream",
     "text": [
      "test accuracy = 0.79667 test macro-F1 = 0.79616\n"
     ]
    }
   ],
   "source": [
    "test_accuracy, test_F1 = evaluate(model, test_loader, 'test')\n",
    "print('test accuracy = {val1:0.5f}'.format(val1=test_accuracy), 'test macro-F1 = {val2:0.5f}'.format(val2=test_F1))"
   ]
  },
  {
   "cell_type": "markdown",
   "id": "606f3489-4154-43be-83b6-201c187ff23c",
   "metadata": {},
   "source": []
  },
  {
   "cell_type": "code",
   "execution_count": null,
   "id": "5bf98950-79b3-40f5-849f-0ff9a1492208",
   "metadata": {},
   "outputs": [],
   "source": []
  }
 ],
 "metadata": {
  "kernelspec": {
   "display_name": "Python 3",
   "language": "python",
   "name": "python3"
  },
  "language_info": {
   "codemirror_mode": {
    "name": "ipython",
    "version": 3
   },
   "file_extension": ".py",
   "mimetype": "text/x-python",
   "name": "python",
   "nbconvert_exporter": "python",
   "pygments_lexer": "ipython3",
   "version": "3.8.8"
  }
 },
 "nbformat": 4,
 "nbformat_minor": 5
}
