{
 "cells": [
  {
   "cell_type": "code",
   "execution_count": 21,
   "id": "e8e06a93-0560-4c54-a33b-1e2159fc5c1f",
   "metadata": {},
   "outputs": [
    {
     "name": "stdout",
     "output_type": "stream",
     "text": [
      "cuda:0\n"
     ]
    }
   ],
   "source": [
    "import torch\n",
    "import torch.nn as nn\n",
    "import torch.nn.functional as F\n",
    "import torch.optim as optim\n",
    "\n",
    "import os\n",
    "from tqdm.notebook import tqdm\n",
    "import numpy as np\n",
    "import re\n",
    "import random\n",
    "from datetime import datetime\n",
    "import matplotlib.pyplot as plt\n",
    "\n",
    "torch.manual_seed(1)\n",
    "torch.cuda.empty_cache()\n",
    "\n",
    "device = torch.device(\"cuda:0\" if torch.cuda.is_available() else \"cpu\")\n",
    "print(device)"
   ]
  },
  {
   "cell_type": "code",
   "execution_count": 22,
   "id": "aa8e46b5-42c9-4417-9d82-142994752d14",
   "metadata": {},
   "outputs": [
    {
     "data": {
      "application/vnd.jupyter.widget-view+json": {
       "model_id": "19456a9a42e8445b80c37fb11408976f",
       "version_major": 2,
       "version_minor": 0
      },
      "text/plain": [
       "  0%|          | 0/400000 [00:00<?, ?it/s]"
      ]
     },
     "metadata": {},
     "output_type": "display_data"
    }
   ],
   "source": [
    "# read in vocab and embeddings from GloVe\n",
    "glove_path = 'glove.6B.300d.txt'\n",
    "\n",
    "embedding_dim = 300\n",
    "glove_vocab_size = 400000\n",
    "\n",
    "glove_vocab = []\n",
    "glove_vectors = torch.empty((glove_vocab_size, embedding_dim), dtype=torch.float)\n",
    "\n",
    "with open(glove_path, 'r', encoding='UTF-8') as f:\n",
    "    for i, line in enumerate(tqdm(f.readlines())):\n",
    "        parsed_line = line.split()\n",
    "        glove_vocab += [parsed_line[0]]\n",
    "        glove_vectors[i,:] = torch.reshape(torch.tensor(list(map(float, parsed_line[1:])), dtype=torch.float), (1,embedding_dim))"
   ]
  },
  {
   "cell_type": "code",
   "execution_count": 23,
   "id": "ba8ccef1-5e68-4cf0-89df-feb5d695ee27",
   "metadata": {},
   "outputs": [],
   "source": [
    "glove_idx = torch.LongTensor(torch.zeros(glove_vocab_size,dtype=int))\n",
    "for idx in range(glove_vocab_size):\n",
    "    glove_idx[idx] = idx + 1"
   ]
  },
  {
   "cell_type": "code",
   "execution_count": 24,
   "id": "e55c39f6-78a3-4f45-b357-36894e891548",
   "metadata": {},
   "outputs": [
    {
     "data": {
      "application/vnd.jupyter.widget-view+json": {
       "model_id": "52437c468a0341c8a79928928740d24d",
       "version_major": 2,
       "version_minor": 0
      },
      "text/plain": [
       "  0%|          | 0/705 [00:00<?, ?it/s]"
      ]
     },
     "metadata": {},
     "output_type": "display_data"
    },
    {
     "data": {
      "application/vnd.jupyter.widget-view+json": {
       "model_id": "9ce275a1a56248f5ae81a8ce6a26e4e7",
       "version_major": 2,
       "version_minor": 0
      },
      "text/plain": [
       "  0%|          | 0/695 [00:00<?, ?it/s]"
      ]
     },
     "metadata": {},
     "output_type": "display_data"
    },
    {
     "data": {
      "application/vnd.jupyter.widget-view+json": {
       "model_id": "ccb1a8b0ceb74da4a4e356b39bfc5022",
       "version_major": 2,
       "version_minor": 0
      },
      "text/plain": [
       "  0%|          | 0/1400 [00:00<?, ?it/s]"
      ]
     },
     "metadata": {},
     "output_type": "display_data"
    }
   ],
   "source": [
    "vocab = ['<pad>'] + glove_vocab\n",
    "padding_index = 0\n",
    "\n",
    "vocab_dict = {}\n",
    "for idx in range(len(vocab)):\n",
    "    vocab_dict[vocab[idx]] = idx\n",
    "    \n",
    "# read in train filepath\n",
    "train_dir = 'review_polarity/txt_sentoken/train'\n",
    "train_data_unshuffled = []\n",
    "\n",
    "pos_dir = train_dir + '/pos'\n",
    "for filename in tqdm(os.listdir(pos_dir)):\n",
    "    if filename.endswith(\".txt\"):\n",
    "        filepath = pos_dir + '/' + filename\n",
    "        train_data_unshuffled += [(filepath, 1)]\n",
    "\n",
    "neg_dir = train_dir + '/neg'\n",
    "for filename in tqdm(os.listdir(neg_dir)):\n",
    "    if filename.endswith(\".txt\"):\n",
    "        filepath = neg_dir + '/' + filename\n",
    "        train_data_unshuffled += [(filepath, 0)]\n",
    "        \n",
    "train_data = random.sample(train_data_unshuffled, len(train_data_unshuffled))\n",
    "train_size = len(train_data)\n",
    "\n",
    "train_vocab = []\n",
    "for filename, _ in tqdm(train_data):\n",
    "    with open(filename, 'r', encoding='UTF-8') as f:\n",
    "        for line in f.readlines():\n",
    "            parsed_line = line.split()\n",
    "            for token in parsed_line:\n",
    "                if vocab_dict.get(token) == None:\n",
    "                    token_split = re.split('([^a-zA-Z0-9])', token)\n",
    "                    for sub_token in token_split:\n",
    "                        if vocab_dict.get(sub_token) == None:\n",
    "                            if sub_token != '':\n",
    "                                vocab_dict[sub_token] = len(vocab_dict)\n",
    "                                vocab += [sub_token]\n",
    "                                train_vocab += [sub_token]\n",
    "\n",
    "vocab_size = len(vocab)"
   ]
  },
  {
   "cell_type": "code",
   "execution_count": 25,
   "id": "68c53726-b175-494e-abc6-5ffe8a1e6d2b",
   "metadata": {},
   "outputs": [
    {
     "data": {
      "application/vnd.jupyter.widget-view+json": {
       "model_id": "76c0688a79104419ac33c318df915f3b",
       "version_major": 2,
       "version_minor": 0
      },
      "text/plain": [
       "0it [00:00, ?it/s]"
      ]
     },
     "metadata": {},
     "output_type": "display_data"
    }
   ],
   "source": [
    "# read in train dataset\n",
    "train_dir = 'review_polarity/txt_sentoken/train'\n",
    "\n",
    "train_file_to_idx = {}\n",
    "train_idx_to_file = np.empty(train_size, dtype=np.dtype('U100'))\n",
    "train_idx_to_label = np.empty(train_size, dtype=int)\n",
    "\n",
    "train_idx_to_vector = {}\n",
    "train_idx_to_length = np.empty(train_size, dtype=int)\n",
    "\n",
    "for idx, (filename, label) in tqdm(enumerate(train_data)):\n",
    "    train_file_to_idx[filename] = idx\n",
    "    train_idx_to_file[idx] = filename\n",
    "    train_idx_to_label[idx] = label\n",
    "    \n",
    "    vector = []\n",
    "    with open(filename, 'r', encoding='UTF-8') as f:\n",
    "        for line in f.readlines():\n",
    "            parsed_line = line.split()\n",
    "            for token in parsed_line:\n",
    "                if vocab_dict.get(token) != None:\n",
    "                    vector += [vocab_dict[token]]\n",
    "                else:\n",
    "                    token_split = re.split('([^a-zA-Z0-9])', token)\n",
    "                    for sub_token in token_split:\n",
    "                        if vocab_dict.get(sub_token) != None and sub_token != '':\n",
    "                            vector += [vocab_dict[sub_token]]\n",
    "    train_idx_to_vector[idx] = vector\n",
    "    train_idx_to_length[idx] = len(vector)\n",
    "    \n",
    "train_idx = list(range(train_size))"
   ]
  },
  {
   "cell_type": "code",
   "execution_count": 26,
   "id": "a2aeb706-3a35-47c5-8c2f-43316298f256",
   "metadata": {},
   "outputs": [
    {
     "data": {
      "application/vnd.jupyter.widget-view+json": {
       "model_id": "a4f13dd08d1e466797d2a2061a68ae37",
       "version_major": 2,
       "version_minor": 0
      },
      "text/plain": [
       "  0%|          | 0/146 [00:00<?, ?it/s]"
      ]
     },
     "metadata": {},
     "output_type": "display_data"
    },
    {
     "data": {
      "application/vnd.jupyter.widget-view+json": {
       "model_id": "c12603d630b24bfb9f6a43012d786c61",
       "version_major": 2,
       "version_minor": 0
      },
      "text/plain": [
       "  0%|          | 0/154 [00:00<?, ?it/s]"
      ]
     },
     "metadata": {},
     "output_type": "display_data"
    }
   ],
   "source": [
    "# read in dev filepath\n",
    "dev_dir = 'review_polarity/txt_sentoken/dev'\n",
    "dev_data_unshuffled = []\n",
    "\n",
    "pos_dir = dev_dir + '/pos'\n",
    "for filename in tqdm(os.listdir(pos_dir)):\n",
    "    if filename.endswith(\".txt\"):\n",
    "        filepath = pos_dir + '/' + filename\n",
    "        dev_data_unshuffled += [(filepath, 1)]\n",
    "\n",
    "neg_dir = dev_dir + '/neg'\n",
    "for filename in tqdm(os.listdir(neg_dir)):\n",
    "    if filename.endswith(\".txt\"):\n",
    "        filepath = neg_dir + '/' + filename\n",
    "        dev_data_unshuffled += [(filepath, 0)]\n",
    "        \n",
    "dev_data = random.sample(dev_data_unshuffled, len(dev_data_unshuffled))\n",
    "dev_size = len(dev_data)"
   ]
  },
  {
   "cell_type": "code",
   "execution_count": 27,
   "id": "8cf554f8-1c10-4738-a119-099dd8daacc5",
   "metadata": {},
   "outputs": [
    {
     "data": {
      "application/vnd.jupyter.widget-view+json": {
       "model_id": "1e53ea9601b543ab8660cc428f8efbe6",
       "version_major": 2,
       "version_minor": 0
      },
      "text/plain": [
       "0it [00:00, ?it/s]"
      ]
     },
     "metadata": {},
     "output_type": "display_data"
    }
   ],
   "source": [
    "# read in dev dataset\n",
    "dev_dir = 'review_polarity/txt_sentoken/dev'\n",
    "\n",
    "dev_file_to_idx = {}\n",
    "dev_idx_to_file = np.empty(dev_size, dtype=np.dtype('U100'))\n",
    "dev_idx_to_label = np.empty(dev_size, dtype=int)\n",
    "\n",
    "dev_idx_to_vector = {}\n",
    "dev_idx_to_length = np.empty(train_size, dtype=int)\n",
    "\n",
    "for idx, (filename, label) in tqdm(enumerate(dev_data)):\n",
    "    dev_file_to_idx[filename] = idx\n",
    "    dev_idx_to_file[idx] = filename\n",
    "    dev_idx_to_label[idx] = label\n",
    "    \n",
    "    vector = []\n",
    "    with open(filename, 'r', encoding='UTF-8') as f:\n",
    "        for line in f.readlines():\n",
    "            parsed_line = line.split()\n",
    "            for token in parsed_line:\n",
    "                if vocab_dict.get(token) != None:\n",
    "                    vector += [vocab_dict[token]]\n",
    "                else:\n",
    "                    token_split = re.split('([^a-zA-Z0-9])', token)\n",
    "                    for sub_token in token_split:\n",
    "                        if vocab_dict.get(sub_token) != None and sub_token != '':\n",
    "                            vector += [vocab_dict[sub_token]]\n",
    "    dev_idx_to_vector[idx] = vector\n",
    "    dev_idx_to_length[idx] = len(vector)\n",
    "    \n",
    "dev_idx = list(range(dev_size))"
   ]
  },
  {
   "cell_type": "code",
   "execution_count": 28,
   "id": "370381bd-2450-4078-9256-6ba9bc0ccbf4",
   "metadata": {},
   "outputs": [
    {
     "data": {
      "application/vnd.jupyter.widget-view+json": {
       "model_id": "460d0cfdd2544969afd2d597f32af8a9",
       "version_major": 2,
       "version_minor": 0
      },
      "text/plain": [
       "  0%|          | 0/149 [00:00<?, ?it/s]"
      ]
     },
     "metadata": {},
     "output_type": "display_data"
    },
    {
     "data": {
      "application/vnd.jupyter.widget-view+json": {
       "model_id": "3e938ba6e1314ca3a8ca2cf75de2fa0a",
       "version_major": 2,
       "version_minor": 0
      },
      "text/plain": [
       "  0%|          | 0/151 [00:00<?, ?it/s]"
      ]
     },
     "metadata": {},
     "output_type": "display_data"
    }
   ],
   "source": [
    "# read in test filepath\n",
    "test_dir = 'review_polarity/txt_sentoken/test'\n",
    "test_data_unshuffled = []\n",
    "\n",
    "pos_dir = test_dir + '/pos'\n",
    "for filename in tqdm(os.listdir(pos_dir)):\n",
    "    if filename.endswith(\".txt\"):\n",
    "        filepath = pos_dir + '/' + filename\n",
    "        test_data_unshuffled += [(filepath, 1)]\n",
    "\n",
    "neg_dir = test_dir + '/neg'\n",
    "for filename in tqdm(os.listdir(neg_dir)):\n",
    "    if filename.endswith(\".txt\"):\n",
    "        filepath = neg_dir + '/' + filename\n",
    "        test_data_unshuffled += [(filepath, 0)]\n",
    "        \n",
    "test_data = random.sample(test_data_unshuffled, len(test_data_unshuffled))\n",
    "test_size = len(test_data)"
   ]
  },
  {
   "cell_type": "code",
   "execution_count": 29,
   "id": "3089adb9-67fb-41f8-a5b8-be111090eb05",
   "metadata": {},
   "outputs": [
    {
     "data": {
      "application/vnd.jupyter.widget-view+json": {
       "model_id": "b70ed6cf76434e818d2aa44ca5ba8e70",
       "version_major": 2,
       "version_minor": 0
      },
      "text/plain": [
       "0it [00:00, ?it/s]"
      ]
     },
     "metadata": {},
     "output_type": "display_data"
    }
   ],
   "source": [
    "# read in test dataset\n",
    "test_dir = 'review_polarity/txt_sentoken/test'\n",
    "\n",
    "test_file_to_idx = {}\n",
    "test_idx_to_file = np.empty(test_size, dtype=np.dtype('U100'))\n",
    "test_idx_to_label = np.empty(test_size, dtype=int)\n",
    "\n",
    "test_idx_to_vector = {}\n",
    "test_idx_to_length = np.empty(train_size, dtype=int)\n",
    "\n",
    "for idx, (filename, label) in tqdm(enumerate(test_data)):\n",
    "    test_file_to_idx[filename] = idx\n",
    "    test_idx_to_file[idx] = filename\n",
    "    test_idx_to_label[idx] = label\n",
    "    \n",
    "    vector = []\n",
    "    with open(filename, 'r', encoding='UTF-8') as f:\n",
    "        for line in f.readlines():\n",
    "            parsed_line = line.split()\n",
    "            for token in parsed_line:\n",
    "                if vocab_dict.get(token) != None:\n",
    "                    vector += [vocab_dict[token]]\n",
    "                else:\n",
    "                    token_split = re.split('([^a-zA-Z0-9])', token)\n",
    "                    for sub_token in token_split:\n",
    "                        if vocab_dict.get(sub_token) != None and sub_token != '':\n",
    "                            vector += [vocab_dict[sub_token]]\n",
    "    test_idx_to_vector[idx] = vector\n",
    "    test_idx_to_length[idx] = len(vector)\n",
    "    \n",
    "test_idx = list(range(test_size))"
   ]
  },
  {
   "cell_type": "code",
   "execution_count": 30,
   "id": "af58aaf2-3bc5-41b4-92e6-47c13b22396a",
   "metadata": {},
   "outputs": [],
   "source": [
    "# functions\n",
    "def batch_to_padded_tensors(batch, mode):\n",
    "    if mode == 'train':\n",
    "        idx_to_vector = train_idx_to_vector\n",
    "        idx_to_length = train_idx_to_length\n",
    "    elif mode == 'dev':\n",
    "        idx_to_vector = dev_idx_to_vector\n",
    "        idx_to_length = dev_idx_to_length\n",
    "    elif mode == 'test':\n",
    "        idx_to_vector = test_idx_to_vector\n",
    "        idx_to_length = test_idx_to_length\n",
    "    \n",
    "    size = len(batch)\n",
    "    lengths = idx_to_length[batch]\n",
    "    max_length = max(lengths)\n",
    "    \n",
    "    tensors = torch.zeros((size, max_length), dtype=int).long()\n",
    "    for i, idx in enumerate(batch):\n",
    "        tensors[i, 0:idx_to_length[idx]] = torch.LongTensor(idx_to_vector[idx.item()])\n",
    "               \n",
    "    return tensors.to(device)\n",
    "\n",
    "def batch_to_labels(batch, mode):\n",
    "    if mode == 'train':\n",
    "        idx_to_label = train_idx_to_label\n",
    "    elif mode == 'dev':\n",
    "        idx_to_label = dev_idx_to_label\n",
    "    elif mode == 'test':\n",
    "        idx_to_label = test_idx_to_label\n",
    "        \n",
    "    return torch.LongTensor(idx_to_label[batch]).to(device)"
   ]
  },
  {
   "cell_type": "code",
   "execution_count": 64,
   "id": "e0f3e510-f798-4377-9b01-1d0c7de4cbba",
   "metadata": {},
   "outputs": [],
   "source": [
    "#hyper-parameters\n",
    "hidden_size = 128\n",
    "num_labels = 2\n",
    "\n",
    "num_epochs = 200\n",
    "learning_rate = 0.001\n",
    "\n",
    "batch_size = 10\n",
    "\n",
    "train_loader = torch.utils.data.DataLoader(train_idx, batch_size=batch_size)\n",
    "dev_loader = torch.utils.data.DataLoader(dev_idx, batch_size=batch_size)\n",
    "test_loader = torch.utils.data.DataLoader(test_idx, batch_size=batch_size)"
   ]
  },
  {
   "cell_type": "code",
   "execution_count": 57,
   "id": "5c776b88-bf75-4a60-9b86-7fb2faab63af",
   "metadata": {
    "tags": []
   },
   "outputs": [],
   "source": [
    "class RNN_Classifier(nn.Module):\n",
    "    def __init__(self, hidden_size):\n",
    "        super().__init__()\n",
    "        \n",
    "        self.vocab_size = vocab_size\n",
    "        self.embedding_dim = embedding_dim\n",
    "        self.hidden_size = hidden_size\n",
    "    \n",
    "        self.embedding = nn.Embedding(vocab_size, embedding_dim, padding_idx=padding_index)\n",
    "        \n",
    "        # initialize embeddings with glove embeddings\n",
    "        with torch.no_grad():\n",
    "            self.embedding.weight[glove_idx] = glove_vectors\n",
    "        \n",
    "        self.rnn = nn.RNN(embedding_dim, hidden_size, batch_first=True)\n",
    "        self.pooling = nn.AdaptiveMaxPool1d(1)\n",
    "        self.hidden_to_label = nn.Linear(hidden_size, num_labels)\n",
    "                \n",
    "    def forward(self, document_tensors):\n",
    "        \"\"\"\n",
    "        document_tensors : batch_size x sequence_length\n",
    "        \"\"\"\n",
    "        batch_size, sequence_length = document_tensors.shape\n",
    "        hidden_0 = torch.zeros((1, batch_size, self.hidden_size),dtype=torch.float).to(device)\n",
    "        \n",
    "        document_embeddings = self.embedding(document_tensors)\n",
    "        rnn_out, _ = self.rnn(document_embeddings.view(batch_size, sequence_length, embedding_dim), hidden_0)\n",
    "        pooling_out = self.pooling(rnn_out.transpose(1,2)).transpose(1,2)\n",
    "        \n",
    "        score = self.hidden_to_label(pooling_out).view(batch_size, -1)\n",
    "        \n",
    "        return F.log_softmax(score, dim=1)"
   ]
  },
  {
   "cell_type": "code",
   "execution_count": 81,
   "id": "c47adf56-ba5b-4477-81fa-1da5a1c73753",
   "metadata": {},
   "outputs": [],
   "source": [
    "def evaluate(model, data_loader, mode):\n",
    "    true_pos_count = 0\n",
    "    false_pos_count = 0\n",
    "    true_neg_count = 0\n",
    "    false_neg_count = 0\n",
    "\n",
    "    with torch.no_grad():\n",
    "        for index, batch in enumerate(data_loader):\n",
    "            current_batch_size = len(batch)\n",
    "            \n",
    "            batch_tensors = batch_to_padded_tensors(batch, mode)\n",
    "            batch_labels = batch_to_labels(batch, mode)\n",
    "\n",
    "            log_probs = model(batch_tensors)\n",
    "\n",
    "            predicted_labels = torch.argmax(log_probs, 1)\n",
    "\n",
    "            for i in range(current_batch_size):\n",
    "                if batch_labels[i] == 1 and predicted_labels[i] == 1:\n",
    "                    true_pos_count += 1\n",
    "                elif batch_labels[i] == 0 and predicted_labels[i] == 1:\n",
    "                    false_pos_count += 1\n",
    "                elif batch_labels[i] == 0 and predicted_labels[i] == 0:\n",
    "                    true_neg_count += 1\n",
    "                elif batch_labels[i] == 1 and predicted_labels[i] == 0:\n",
    "                    false_neg_count += 1\n",
    "\n",
    "    accuracy = (true_pos_count + true_neg_count) / (true_pos_count + false_pos_count + true_neg_count + false_neg_count)\n",
    "    \n",
    "    # compute F1 score on the class of pos reviews\n",
    "    if true_pos_count + false_pos_count != 0:\n",
    "        precision_pos = true_pos_count / (true_pos_count + false_pos_count)\n",
    "    else: \n",
    "        precision_pos = 0\n",
    "    if true_pos_count + false_neg_count != 0:\n",
    "        recall_pos = true_pos_count / (true_pos_count + false_neg_count)\n",
    "    else: \n",
    "        recall_pos = 0\n",
    "    \n",
    "    if precision_pos + recall_pos != 0:\n",
    "        F1_pos = 2 * (precision_pos * recall_pos) / (precision_pos + recall_pos)\n",
    "    else:\n",
    "        F1_pos = 0\n",
    "    \n",
    "    # compute F1 score on the class of neg reviews\n",
    "    if true_neg_count + false_neg_count != 0:\n",
    "        precision_neg = true_neg_count / (true_neg_count + false_neg_count)\n",
    "    else: \n",
    "        precision_neg = 0\n",
    "    if true_neg_count + false_neg_count != 0:\n",
    "        recall_neg = true_neg_count / (true_neg_count + false_pos_count)\n",
    "    else: \n",
    "        recall_neg = 0\n",
    "    \n",
    "    if precision_neg + recall_neg != 0:\n",
    "        F1_neg = 2 * (precision_neg * recall_neg) / (precision_neg + recall_neg)\n",
    "    else:\n",
    "        F1_neg = 0\n",
    "        \n",
    "    F1 = (F1_pos + F1_neg) / 2\n",
    "\n",
    "    return accuracy, F1"
   ]
  },
  {
   "cell_type": "code",
   "execution_count": 71,
   "id": "122555a3-dd62-406c-9432-b6089051383c",
   "metadata": {},
   "outputs": [],
   "source": [
    "epoch_train_accuracy = [0] * num_epochs\n",
    "epoch_train_F1 = [0] * num_epochs\n",
    "    \n",
    "epoch_dev_accuracy = [0] * num_epochs\n",
    "epoch_dev_F1 = [0] * num_epochs\n",
    "\n",
    "def train(model, train_loader):\n",
    "    start_time = datetime.now()\n",
    "    optimizer = torch.optim.SGD(model.parameters(), lr=learning_rate)\n",
    "    \n",
    "    for epoch in range(num_epochs):\n",
    "        print('epoch', epoch)\n",
    "        for index, batch in enumerate(tqdm(train_loader)):\n",
    "            current_batch_size = len(batch)\n",
    "            batch_tensors = batch_to_padded_tensors(batch, 'train')\n",
    "            batch_labels = batch_to_labels(batch, 'train')\n",
    "            \n",
    "            log_probs = model(batch_tensors)\n",
    "            model.zero_grad()\n",
    "            \n",
    "            loss = F.nll_loss(log_probs, batch_labels)\n",
    "            loss.backward()\n",
    "               \n",
    "            model.embedding.weight.grad[glove_idx] = 0\n",
    "            \n",
    "            optimizer.step()\n",
    "        \n",
    "        epoch_train_accuracy[epoch], epoch_train_F1[epoch] = evaluate(model, train_loader, 'train')\n",
    "        print('train accuracy = {val1:0.5f}'.format(val1=epoch_train_accuracy[epoch]), 'train macro-F1 = {val2:0.5f}'.format(val2=epoch_train_F1[epoch]))\n",
    "        \n",
    "        epoch_dev_accuracy[epoch], epoch_dev_F1[epoch] = evaluate(model, dev_loader, 'dev')\n",
    "        print('dev accuracy = {val1:0.5f}'.format(val1=epoch_dev_accuracy[epoch]), 'dev macro-F1 = {val2:0.5f}'.format(val2=epoch_dev_F1[epoch]))\n",
    "        \n",
    "    end_time = datetime.now()\n",
    "    total_time = end_time-start_time\n",
    "    \n",
    "    print('total training time:', total_time)"
   ]
  },
  {
   "cell_type": "code",
   "execution_count": 60,
   "id": "83baf12e-8146-4e8f-a2a8-41eb2be17bf1",
   "metadata": {},
   "outputs": [],
   "source": [
    "model = RNN_Classifier(hidden_size).to(device)"
   ]
  },
  {
   "cell_type": "code",
   "execution_count": 72,
   "id": "eed3b302-1d24-4993-81ee-288ae26d5ead",
   "metadata": {},
   "outputs": [
    {
     "name": "stdout",
     "output_type": "stream",
     "text": [
      "epoch 0\n"
     ]
    },
    {
     "data": {
      "application/vnd.jupyter.widget-view+json": {
       "model_id": "5cba2e17f2514e2b99d1bb8574680c53",
       "version_major": 2,
       "version_minor": 0
      },
      "text/plain": [
       "  0%|          | 0/140 [00:00<?, ?it/s]"
      ]
     },
     "metadata": {},
     "output_type": "display_data"
    },
    {
     "name": "stdout",
     "output_type": "stream",
     "text": [
      "train accuracy = 0.87857 train macro-F1 = 0.87779\n",
      "dev accuracy = 0.88667 dev macro-F1 = 0.88649\n",
      "epoch 1\n"
     ]
    },
    {
     "data": {
      "application/vnd.jupyter.widget-view+json": {
       "model_id": "a3fa7cdbb2ed413fa3990171d5dfcf06",
       "version_major": 2,
       "version_minor": 0
      },
      "text/plain": [
       "  0%|          | 0/140 [00:00<?, ?it/s]"
      ]
     },
     "metadata": {},
     "output_type": "display_data"
    },
    {
     "name": "stdout",
     "output_type": "stream",
     "text": [
      "train accuracy = 0.91429 train macro-F1 = 0.91405\n",
      "dev accuracy = 0.92333 dev macro-F1 = 0.92333\n",
      "epoch 2\n"
     ]
    },
    {
     "data": {
      "application/vnd.jupyter.widget-view+json": {
       "model_id": "e79ea574d06d4c71ac64d06bfa4ce433",
       "version_major": 2,
       "version_minor": 0
      },
      "text/plain": [
       "  0%|          | 0/140 [00:00<?, ?it/s]"
      ]
     },
     "metadata": {},
     "output_type": "display_data"
    },
    {
     "name": "stdout",
     "output_type": "stream",
     "text": [
      "train accuracy = 0.95643 train macro-F1 = 0.95640\n",
      "dev accuracy = 0.95667 dev macro-F1 = 0.95666\n",
      "epoch 3\n"
     ]
    },
    {
     "data": {
      "application/vnd.jupyter.widget-view+json": {
       "model_id": "550a313d36e94a4ca1de7e5c487523d6",
       "version_major": 2,
       "version_minor": 0
      },
      "text/plain": [
       "  0%|          | 0/140 [00:00<?, ?it/s]"
      ]
     },
     "metadata": {},
     "output_type": "display_data"
    },
    {
     "name": "stdout",
     "output_type": "stream",
     "text": [
      "train accuracy = 0.97786 train macro-F1 = 0.97785\n",
      "dev accuracy = 0.98667 dev macro-F1 = 0.98666\n",
      "epoch 4\n"
     ]
    },
    {
     "data": {
      "application/vnd.jupyter.widget-view+json": {
       "model_id": "8aa765faf7f84bb9908ff2e0540772b5",
       "version_major": 2,
       "version_minor": 0
      },
      "text/plain": [
       "  0%|          | 0/140 [00:00<?, ?it/s]"
      ]
     },
     "metadata": {},
     "output_type": "display_data"
    },
    {
     "name": "stdout",
     "output_type": "stream",
     "text": [
      "train accuracy = 0.98571 train macro-F1 = 0.98571\n",
      "dev accuracy = 0.99000 dev macro-F1 = 0.98999\n",
      "epoch 5\n"
     ]
    },
    {
     "data": {
      "application/vnd.jupyter.widget-view+json": {
       "model_id": "ce711335899344a6bd30e64ad6accfc4",
       "version_major": 2,
       "version_minor": 0
      },
      "text/plain": [
       "  0%|          | 0/140 [00:00<?, ?it/s]"
      ]
     },
     "metadata": {},
     "output_type": "display_data"
    },
    {
     "name": "stdout",
     "output_type": "stream",
     "text": [
      "train accuracy = 0.99000 train macro-F1 = 0.99000\n",
      "dev accuracy = 0.99000 dev macro-F1 = 0.98999\n",
      "epoch 6\n"
     ]
    },
    {
     "data": {
      "application/vnd.jupyter.widget-view+json": {
       "model_id": "ed3d659b9dd3478a8162ce76cd98167b",
       "version_major": 2,
       "version_minor": 0
      },
      "text/plain": [
       "  0%|          | 0/140 [00:00<?, ?it/s]"
      ]
     },
     "metadata": {},
     "output_type": "display_data"
    },
    {
     "name": "stdout",
     "output_type": "stream",
     "text": [
      "train accuracy = 0.99786 train macro-F1 = 0.99786\n",
      "dev accuracy = 1.00000 dev macro-F1 = 1.00000\n",
      "epoch 7\n"
     ]
    },
    {
     "data": {
      "application/vnd.jupyter.widget-view+json": {
       "model_id": "5cbf3a1389c448cdb6b5fdb895505c6e",
       "version_major": 2,
       "version_minor": 0
      },
      "text/plain": [
       "  0%|          | 0/140 [00:00<?, ?it/s]"
      ]
     },
     "metadata": {},
     "output_type": "display_data"
    },
    {
     "name": "stdout",
     "output_type": "stream",
     "text": [
      "train accuracy = 0.99786 train macro-F1 = 0.99786\n",
      "dev accuracy = 1.00000 dev macro-F1 = 1.00000\n",
      "epoch 8\n"
     ]
    },
    {
     "data": {
      "application/vnd.jupyter.widget-view+json": {
       "model_id": "e76d330153e844cd9d240fa6452add11",
       "version_major": 2,
       "version_minor": 0
      },
      "text/plain": [
       "  0%|          | 0/140 [00:00<?, ?it/s]"
      ]
     },
     "metadata": {},
     "output_type": "display_data"
    },
    {
     "name": "stdout",
     "output_type": "stream",
     "text": [
      "train accuracy = 0.99857 train macro-F1 = 0.99857\n",
      "dev accuracy = 1.00000 dev macro-F1 = 1.00000\n",
      "epoch 9\n"
     ]
    },
    {
     "data": {
      "application/vnd.jupyter.widget-view+json": {
       "model_id": "32e4be8823664103aefc89271afc13c8",
       "version_major": 2,
       "version_minor": 0
      },
      "text/plain": [
       "  0%|          | 0/140 [00:00<?, ?it/s]"
      ]
     },
     "metadata": {},
     "output_type": "display_data"
    },
    {
     "name": "stdout",
     "output_type": "stream",
     "text": [
      "train accuracy = 0.99929 train macro-F1 = 0.99929\n",
      "dev accuracy = 1.00000 dev macro-F1 = 1.00000\n",
      "epoch 10\n"
     ]
    },
    {
     "data": {
      "application/vnd.jupyter.widget-view+json": {
       "model_id": "540d4bb380f44ecb9671896900746eef",
       "version_major": 2,
       "version_minor": 0
      },
      "text/plain": [
       "  0%|          | 0/140 [00:00<?, ?it/s]"
      ]
     },
     "metadata": {},
     "output_type": "display_data"
    },
    {
     "name": "stdout",
     "output_type": "stream",
     "text": [
      "train accuracy = 0.99929 train macro-F1 = 0.99929\n",
      "dev accuracy = 1.00000 dev macro-F1 = 1.00000\n",
      "epoch 11\n"
     ]
    },
    {
     "data": {
      "application/vnd.jupyter.widget-view+json": {
       "model_id": "2c2011ed15364fc196c3dd324ad1d144",
       "version_major": 2,
       "version_minor": 0
      },
      "text/plain": [
       "  0%|          | 0/140 [00:00<?, ?it/s]"
      ]
     },
     "metadata": {},
     "output_type": "display_data"
    },
    {
     "name": "stdout",
     "output_type": "stream",
     "text": [
      "train accuracy = 0.99929 train macro-F1 = 0.99929\n",
      "dev accuracy = 1.00000 dev macro-F1 = 1.00000\n",
      "epoch 12\n"
     ]
    },
    {
     "data": {
      "application/vnd.jupyter.widget-view+json": {
       "model_id": "2fdbb58cb80c4725b87191cf33f45de9",
       "version_major": 2,
       "version_minor": 0
      },
      "text/plain": [
       "  0%|          | 0/140 [00:00<?, ?it/s]"
      ]
     },
     "metadata": {},
     "output_type": "display_data"
    },
    {
     "name": "stdout",
     "output_type": "stream",
     "text": [
      "train accuracy = 0.99929 train macro-F1 = 0.99929\n",
      "dev accuracy = 1.00000 dev macro-F1 = 1.00000\n",
      "epoch 13\n"
     ]
    },
    {
     "data": {
      "application/vnd.jupyter.widget-view+json": {
       "model_id": "e04f6743106c447eb647fb0de2909a99",
       "version_major": 2,
       "version_minor": 0
      },
      "text/plain": [
       "  0%|          | 0/140 [00:00<?, ?it/s]"
      ]
     },
     "metadata": {},
     "output_type": "display_data"
    },
    {
     "name": "stdout",
     "output_type": "stream",
     "text": [
      "train accuracy = 0.99929 train macro-F1 = 0.99929\n",
      "dev accuracy = 1.00000 dev macro-F1 = 1.00000\n",
      "epoch 14\n"
     ]
    },
    {
     "data": {
      "application/vnd.jupyter.widget-view+json": {
       "model_id": "341a0296f15744b29944db44e77cb06d",
       "version_major": 2,
       "version_minor": 0
      },
      "text/plain": [
       "  0%|          | 0/140 [00:00<?, ?it/s]"
      ]
     },
     "metadata": {},
     "output_type": "display_data"
    },
    {
     "name": "stdout",
     "output_type": "stream",
     "text": [
      "train accuracy = 0.99929 train macro-F1 = 0.99929\n",
      "dev accuracy = 1.00000 dev macro-F1 = 1.00000\n",
      "epoch 15\n"
     ]
    },
    {
     "data": {
      "application/vnd.jupyter.widget-view+json": {
       "model_id": "adb4f328c826472987a92144ed92278e",
       "version_major": 2,
       "version_minor": 0
      },
      "text/plain": [
       "  0%|          | 0/140 [00:00<?, ?it/s]"
      ]
     },
     "metadata": {},
     "output_type": "display_data"
    },
    {
     "name": "stdout",
     "output_type": "stream",
     "text": [
      "train accuracy = 0.99929 train macro-F1 = 0.99929\n",
      "dev accuracy = 1.00000 dev macro-F1 = 1.00000\n",
      "epoch 16\n"
     ]
    },
    {
     "data": {
      "application/vnd.jupyter.widget-view+json": {
       "model_id": "a6c9451aac1545f0ac768560e039de40",
       "version_major": 2,
       "version_minor": 0
      },
      "text/plain": [
       "  0%|          | 0/140 [00:00<?, ?it/s]"
      ]
     },
     "metadata": {},
     "output_type": "display_data"
    },
    {
     "name": "stdout",
     "output_type": "stream",
     "text": [
      "train accuracy = 0.99929 train macro-F1 = 0.99929\n",
      "dev accuracy = 1.00000 dev macro-F1 = 1.00000\n",
      "epoch 17\n"
     ]
    },
    {
     "data": {
      "application/vnd.jupyter.widget-view+json": {
       "model_id": "28cc03d58a6b45e39ea544e733fdb9bf",
       "version_major": 2,
       "version_minor": 0
      },
      "text/plain": [
       "  0%|          | 0/140 [00:00<?, ?it/s]"
      ]
     },
     "metadata": {},
     "output_type": "display_data"
    },
    {
     "name": "stdout",
     "output_type": "stream",
     "text": [
      "train accuracy = 0.99929 train macro-F1 = 0.99929\n",
      "dev accuracy = 1.00000 dev macro-F1 = 1.00000\n",
      "epoch 18\n"
     ]
    },
    {
     "data": {
      "application/vnd.jupyter.widget-view+json": {
       "model_id": "36a114cc27d0416493f1c425e43320a7",
       "version_major": 2,
       "version_minor": 0
      },
      "text/plain": [
       "  0%|          | 0/140 [00:00<?, ?it/s]"
      ]
     },
     "metadata": {},
     "output_type": "display_data"
    },
    {
     "name": "stdout",
     "output_type": "stream",
     "text": [
      "train accuracy = 0.99929 train macro-F1 = 0.99929\n",
      "dev accuracy = 1.00000 dev macro-F1 = 1.00000\n",
      "epoch 19\n"
     ]
    },
    {
     "data": {
      "application/vnd.jupyter.widget-view+json": {
       "model_id": "93dd9bb86f644bebb77f0622f5bfb9ac",
       "version_major": 2,
       "version_minor": 0
      },
      "text/plain": [
       "  0%|          | 0/140 [00:00<?, ?it/s]"
      ]
     },
     "metadata": {},
     "output_type": "display_data"
    },
    {
     "name": "stdout",
     "output_type": "stream",
     "text": [
      "train accuracy = 0.99929 train macro-F1 = 0.99929\n",
      "dev accuracy = 1.00000 dev macro-F1 = 1.00000\n",
      "epoch 20\n"
     ]
    },
    {
     "data": {
      "application/vnd.jupyter.widget-view+json": {
       "model_id": "d6a5a4e2a4b74f778564a7e12a4b3c80",
       "version_major": 2,
       "version_minor": 0
      },
      "text/plain": [
       "  0%|          | 0/140 [00:00<?, ?it/s]"
      ]
     },
     "metadata": {},
     "output_type": "display_data"
    },
    {
     "name": "stdout",
     "output_type": "stream",
     "text": [
      "train accuracy = 1.00000 train macro-F1 = 1.00000\n",
      "dev accuracy = 1.00000 dev macro-F1 = 1.00000\n",
      "epoch 21\n"
     ]
    },
    {
     "data": {
      "application/vnd.jupyter.widget-view+json": {
       "model_id": "c54844678280422d81d8d732a8d38241",
       "version_major": 2,
       "version_minor": 0
      },
      "text/plain": [
       "  0%|          | 0/140 [00:00<?, ?it/s]"
      ]
     },
     "metadata": {},
     "output_type": "display_data"
    },
    {
     "name": "stdout",
     "output_type": "stream",
     "text": [
      "train accuracy = 1.00000 train macro-F1 = 1.00000\n",
      "dev accuracy = 1.00000 dev macro-F1 = 1.00000\n",
      "epoch 22\n"
     ]
    },
    {
     "data": {
      "application/vnd.jupyter.widget-view+json": {
       "model_id": "b1b3528ee20a4df9a4e14aeede1dd82d",
       "version_major": 2,
       "version_minor": 0
      },
      "text/plain": [
       "  0%|          | 0/140 [00:00<?, ?it/s]"
      ]
     },
     "metadata": {},
     "output_type": "display_data"
    },
    {
     "name": "stdout",
     "output_type": "stream",
     "text": [
      "train accuracy = 1.00000 train macro-F1 = 1.00000\n",
      "dev accuracy = 1.00000 dev macro-F1 = 1.00000\n",
      "epoch 23\n"
     ]
    },
    {
     "data": {
      "application/vnd.jupyter.widget-view+json": {
       "model_id": "0bb2d90eb661474f93d909f9c6579a6b",
       "version_major": 2,
       "version_minor": 0
      },
      "text/plain": [
       "  0%|          | 0/140 [00:00<?, ?it/s]"
      ]
     },
     "metadata": {},
     "output_type": "display_data"
    },
    {
     "name": "stdout",
     "output_type": "stream",
     "text": [
      "train accuracy = 1.00000 train macro-F1 = 1.00000\n",
      "dev accuracy = 1.00000 dev macro-F1 = 1.00000\n",
      "epoch 24\n"
     ]
    },
    {
     "data": {
      "application/vnd.jupyter.widget-view+json": {
       "model_id": "788f9c57911144f889ad68d434de64e1",
       "version_major": 2,
       "version_minor": 0
      },
      "text/plain": [
       "  0%|          | 0/140 [00:00<?, ?it/s]"
      ]
     },
     "metadata": {},
     "output_type": "display_data"
    },
    {
     "name": "stdout",
     "output_type": "stream",
     "text": [
      "train accuracy = 1.00000 train macro-F1 = 1.00000\n",
      "dev accuracy = 1.00000 dev macro-F1 = 1.00000\n",
      "epoch 25\n"
     ]
    },
    {
     "data": {
      "application/vnd.jupyter.widget-view+json": {
       "model_id": "1803ff576fe941f19e7a583993be8974",
       "version_major": 2,
       "version_minor": 0
      },
      "text/plain": [
       "  0%|          | 0/140 [00:00<?, ?it/s]"
      ]
     },
     "metadata": {},
     "output_type": "display_data"
    },
    {
     "name": "stdout",
     "output_type": "stream",
     "text": [
      "train accuracy = 1.00000 train macro-F1 = 1.00000\n",
      "dev accuracy = 1.00000 dev macro-F1 = 1.00000\n",
      "epoch 26\n"
     ]
    },
    {
     "data": {
      "application/vnd.jupyter.widget-view+json": {
       "model_id": "8aff40cb9703468ea192558079290146",
       "version_major": 2,
       "version_minor": 0
      },
      "text/plain": [
       "  0%|          | 0/140 [00:00<?, ?it/s]"
      ]
     },
     "metadata": {},
     "output_type": "display_data"
    },
    {
     "name": "stdout",
     "output_type": "stream",
     "text": [
      "train accuracy = 1.00000 train macro-F1 = 1.00000\n",
      "dev accuracy = 1.00000 dev macro-F1 = 1.00000\n",
      "epoch 27\n"
     ]
    },
    {
     "data": {
      "application/vnd.jupyter.widget-view+json": {
       "model_id": "e146d38f476d46eba5ead283cde886ea",
       "version_major": 2,
       "version_minor": 0
      },
      "text/plain": [
       "  0%|          | 0/140 [00:00<?, ?it/s]"
      ]
     },
     "metadata": {},
     "output_type": "display_data"
    },
    {
     "name": "stdout",
     "output_type": "stream",
     "text": [
      "train accuracy = 1.00000 train macro-F1 = 1.00000\n",
      "dev accuracy = 1.00000 dev macro-F1 = 1.00000\n",
      "epoch 28\n"
     ]
    },
    {
     "data": {
      "application/vnd.jupyter.widget-view+json": {
       "model_id": "2d2f3211c0c743ddb119caffc034375f",
       "version_major": 2,
       "version_minor": 0
      },
      "text/plain": [
       "  0%|          | 0/140 [00:00<?, ?it/s]"
      ]
     },
     "metadata": {},
     "output_type": "display_data"
    },
    {
     "name": "stdout",
     "output_type": "stream",
     "text": [
      "train accuracy = 1.00000 train macro-F1 = 1.00000\n",
      "dev accuracy = 1.00000 dev macro-F1 = 1.00000\n",
      "epoch 29\n"
     ]
    },
    {
     "data": {
      "application/vnd.jupyter.widget-view+json": {
       "model_id": "38fe69a4c2d640279a4835d49532bb6a",
       "version_major": 2,
       "version_minor": 0
      },
      "text/plain": [
       "  0%|          | 0/140 [00:00<?, ?it/s]"
      ]
     },
     "metadata": {},
     "output_type": "display_data"
    },
    {
     "name": "stdout",
     "output_type": "stream",
     "text": [
      "train accuracy = 1.00000 train macro-F1 = 1.00000\n",
      "dev accuracy = 1.00000 dev macro-F1 = 1.00000\n",
      "epoch 30\n"
     ]
    },
    {
     "data": {
      "application/vnd.jupyter.widget-view+json": {
       "model_id": "38d89cb4d7b245d6843eb7fb88daad89",
       "version_major": 2,
       "version_minor": 0
      },
      "text/plain": [
       "  0%|          | 0/140 [00:00<?, ?it/s]"
      ]
     },
     "metadata": {},
     "output_type": "display_data"
    },
    {
     "name": "stdout",
     "output_type": "stream",
     "text": [
      "train accuracy = 1.00000 train macro-F1 = 1.00000\n",
      "dev accuracy = 1.00000 dev macro-F1 = 1.00000\n",
      "epoch 31\n"
     ]
    },
    {
     "data": {
      "application/vnd.jupyter.widget-view+json": {
       "model_id": "39f64ca289674083b0257befa7d68f63",
       "version_major": 2,
       "version_minor": 0
      },
      "text/plain": [
       "  0%|          | 0/140 [00:00<?, ?it/s]"
      ]
     },
     "metadata": {},
     "output_type": "display_data"
    },
    {
     "name": "stdout",
     "output_type": "stream",
     "text": [
      "train accuracy = 1.00000 train macro-F1 = 1.00000\n",
      "dev accuracy = 1.00000 dev macro-F1 = 1.00000\n",
      "epoch 32\n"
     ]
    },
    {
     "data": {
      "application/vnd.jupyter.widget-view+json": {
       "model_id": "2f11cbcb05894ff0ad70b1c0287528f1",
       "version_major": 2,
       "version_minor": 0
      },
      "text/plain": [
       "  0%|          | 0/140 [00:00<?, ?it/s]"
      ]
     },
     "metadata": {},
     "output_type": "display_data"
    },
    {
     "name": "stdout",
     "output_type": "stream",
     "text": [
      "train accuracy = 1.00000 train macro-F1 = 1.00000\n",
      "dev accuracy = 1.00000 dev macro-F1 = 1.00000\n",
      "epoch 33\n"
     ]
    },
    {
     "data": {
      "application/vnd.jupyter.widget-view+json": {
       "model_id": "44639d07893e4524af09b7208c31a57f",
       "version_major": 2,
       "version_minor": 0
      },
      "text/plain": [
       "  0%|          | 0/140 [00:00<?, ?it/s]"
      ]
     },
     "metadata": {},
     "output_type": "display_data"
    },
    {
     "name": "stdout",
     "output_type": "stream",
     "text": [
      "train accuracy = 1.00000 train macro-F1 = 1.00000\n",
      "dev accuracy = 1.00000 dev macro-F1 = 1.00000\n",
      "epoch 34\n"
     ]
    },
    {
     "data": {
      "application/vnd.jupyter.widget-view+json": {
       "model_id": "2b02d2071c664d4c9d34e3a59a9a1e73",
       "version_major": 2,
       "version_minor": 0
      },
      "text/plain": [
       "  0%|          | 0/140 [00:00<?, ?it/s]"
      ]
     },
     "metadata": {},
     "output_type": "display_data"
    },
    {
     "name": "stdout",
     "output_type": "stream",
     "text": [
      "train accuracy = 1.00000 train macro-F1 = 1.00000\n",
      "dev accuracy = 1.00000 dev macro-F1 = 1.00000\n",
      "epoch 35\n"
     ]
    },
    {
     "data": {
      "application/vnd.jupyter.widget-view+json": {
       "model_id": "6daf1d8965764b539bf7671f3a77443c",
       "version_major": 2,
       "version_minor": 0
      },
      "text/plain": [
       "  0%|          | 0/140 [00:00<?, ?it/s]"
      ]
     },
     "metadata": {},
     "output_type": "display_data"
    },
    {
     "name": "stdout",
     "output_type": "stream",
     "text": [
      "train accuracy = 1.00000 train macro-F1 = 1.00000\n",
      "dev accuracy = 1.00000 dev macro-F1 = 1.00000\n",
      "epoch 36\n"
     ]
    },
    {
     "data": {
      "application/vnd.jupyter.widget-view+json": {
       "model_id": "4d14d9a0f4c845629d533dda6686fbd3",
       "version_major": 2,
       "version_minor": 0
      },
      "text/plain": [
       "  0%|          | 0/140 [00:00<?, ?it/s]"
      ]
     },
     "metadata": {},
     "output_type": "display_data"
    },
    {
     "name": "stdout",
     "output_type": "stream",
     "text": [
      "train accuracy = 1.00000 train macro-F1 = 1.00000\n",
      "dev accuracy = 1.00000 dev macro-F1 = 1.00000\n",
      "epoch 37\n"
     ]
    },
    {
     "data": {
      "application/vnd.jupyter.widget-view+json": {
       "model_id": "79f5682f338b466abcd185e549a0d6f6",
       "version_major": 2,
       "version_minor": 0
      },
      "text/plain": [
       "  0%|          | 0/140 [00:00<?, ?it/s]"
      ]
     },
     "metadata": {},
     "output_type": "display_data"
    },
    {
     "name": "stdout",
     "output_type": "stream",
     "text": [
      "train accuracy = 1.00000 train macro-F1 = 1.00000\n",
      "dev accuracy = 1.00000 dev macro-F1 = 1.00000\n",
      "epoch 38\n"
     ]
    },
    {
     "data": {
      "application/vnd.jupyter.widget-view+json": {
       "model_id": "0fc8ef67b4ea44388e502915f9492f34",
       "version_major": 2,
       "version_minor": 0
      },
      "text/plain": [
       "  0%|          | 0/140 [00:00<?, ?it/s]"
      ]
     },
     "metadata": {},
     "output_type": "display_data"
    },
    {
     "name": "stdout",
     "output_type": "stream",
     "text": [
      "train accuracy = 1.00000 train macro-F1 = 1.00000\n",
      "dev accuracy = 1.00000 dev macro-F1 = 1.00000\n",
      "epoch 39\n"
     ]
    },
    {
     "data": {
      "application/vnd.jupyter.widget-view+json": {
       "model_id": "8b61079428f64b0b9c1d5252e0dcd460",
       "version_major": 2,
       "version_minor": 0
      },
      "text/plain": [
       "  0%|          | 0/140 [00:00<?, ?it/s]"
      ]
     },
     "metadata": {},
     "output_type": "display_data"
    },
    {
     "name": "stdout",
     "output_type": "stream",
     "text": [
      "train accuracy = 1.00000 train macro-F1 = 1.00000\n",
      "dev accuracy = 1.00000 dev macro-F1 = 1.00000\n",
      "epoch 40\n"
     ]
    },
    {
     "data": {
      "application/vnd.jupyter.widget-view+json": {
       "model_id": "912f64a1aaa94d5ba6a7eb1ed029b56b",
       "version_major": 2,
       "version_minor": 0
      },
      "text/plain": [
       "  0%|          | 0/140 [00:00<?, ?it/s]"
      ]
     },
     "metadata": {},
     "output_type": "display_data"
    },
    {
     "name": "stdout",
     "output_type": "stream",
     "text": [
      "train accuracy = 1.00000 train macro-F1 = 1.00000\n",
      "dev accuracy = 1.00000 dev macro-F1 = 1.00000\n",
      "epoch 41\n"
     ]
    },
    {
     "data": {
      "application/vnd.jupyter.widget-view+json": {
       "model_id": "fdf43b6904cd4000b94936e6356144a8",
       "version_major": 2,
       "version_minor": 0
      },
      "text/plain": [
       "  0%|          | 0/140 [00:00<?, ?it/s]"
      ]
     },
     "metadata": {},
     "output_type": "display_data"
    },
    {
     "name": "stdout",
     "output_type": "stream",
     "text": [
      "train accuracy = 1.00000 train macro-F1 = 1.00000\n",
      "dev accuracy = 1.00000 dev macro-F1 = 1.00000\n",
      "epoch 42\n"
     ]
    },
    {
     "data": {
      "application/vnd.jupyter.widget-view+json": {
       "model_id": "d7251901b38048ecbbcfc3d32dbcca8f",
       "version_major": 2,
       "version_minor": 0
      },
      "text/plain": [
       "  0%|          | 0/140 [00:00<?, ?it/s]"
      ]
     },
     "metadata": {},
     "output_type": "display_data"
    },
    {
     "name": "stdout",
     "output_type": "stream",
     "text": [
      "train accuracy = 1.00000 train macro-F1 = 1.00000\n",
      "dev accuracy = 1.00000 dev macro-F1 = 1.00000\n",
      "epoch 43\n"
     ]
    },
    {
     "data": {
      "application/vnd.jupyter.widget-view+json": {
       "model_id": "e7793fcc9f4743c19e09c7ae45e07f59",
       "version_major": 2,
       "version_minor": 0
      },
      "text/plain": [
       "  0%|          | 0/140 [00:00<?, ?it/s]"
      ]
     },
     "metadata": {},
     "output_type": "display_data"
    },
    {
     "name": "stdout",
     "output_type": "stream",
     "text": [
      "train accuracy = 1.00000 train macro-F1 = 1.00000\n",
      "dev accuracy = 1.00000 dev macro-F1 = 1.00000\n",
      "epoch 44\n"
     ]
    },
    {
     "data": {
      "application/vnd.jupyter.widget-view+json": {
       "model_id": "759144f2b7244ea4aa38068ea3c7cfda",
       "version_major": 2,
       "version_minor": 0
      },
      "text/plain": [
       "  0%|          | 0/140 [00:00<?, ?it/s]"
      ]
     },
     "metadata": {},
     "output_type": "display_data"
    },
    {
     "name": "stdout",
     "output_type": "stream",
     "text": [
      "train accuracy = 1.00000 train macro-F1 = 1.00000\n",
      "dev accuracy = 1.00000 dev macro-F1 = 1.00000\n",
      "epoch 45\n"
     ]
    },
    {
     "data": {
      "application/vnd.jupyter.widget-view+json": {
       "model_id": "3f83f6cfc4f044e191592302aa33f1d4",
       "version_major": 2,
       "version_minor": 0
      },
      "text/plain": [
       "  0%|          | 0/140 [00:00<?, ?it/s]"
      ]
     },
     "metadata": {},
     "output_type": "display_data"
    },
    {
     "name": "stdout",
     "output_type": "stream",
     "text": [
      "train accuracy = 1.00000 train macro-F1 = 1.00000\n",
      "dev accuracy = 1.00000 dev macro-F1 = 1.00000\n",
      "epoch 46\n"
     ]
    },
    {
     "data": {
      "application/vnd.jupyter.widget-view+json": {
       "model_id": "378f02d8e4c3427cb0c0f8fac72a9e7d",
       "version_major": 2,
       "version_minor": 0
      },
      "text/plain": [
       "  0%|          | 0/140 [00:00<?, ?it/s]"
      ]
     },
     "metadata": {},
     "output_type": "display_data"
    },
    {
     "name": "stdout",
     "output_type": "stream",
     "text": [
      "train accuracy = 1.00000 train macro-F1 = 1.00000\n",
      "dev accuracy = 1.00000 dev macro-F1 = 1.00000\n",
      "epoch 47\n"
     ]
    },
    {
     "data": {
      "application/vnd.jupyter.widget-view+json": {
       "model_id": "4f3b9c2f9ce74035947cbaf0ee85b889",
       "version_major": 2,
       "version_minor": 0
      },
      "text/plain": [
       "  0%|          | 0/140 [00:00<?, ?it/s]"
      ]
     },
     "metadata": {},
     "output_type": "display_data"
    },
    {
     "name": "stdout",
     "output_type": "stream",
     "text": [
      "train accuracy = 1.00000 train macro-F1 = 1.00000\n",
      "dev accuracy = 1.00000 dev macro-F1 = 1.00000\n",
      "epoch 48\n"
     ]
    },
    {
     "data": {
      "application/vnd.jupyter.widget-view+json": {
       "model_id": "19e95c46c4ec4368b7d7a0506425cc96",
       "version_major": 2,
       "version_minor": 0
      },
      "text/plain": [
       "  0%|          | 0/140 [00:00<?, ?it/s]"
      ]
     },
     "metadata": {},
     "output_type": "display_data"
    },
    {
     "name": "stdout",
     "output_type": "stream",
     "text": [
      "train accuracy = 1.00000 train macro-F1 = 1.00000\n",
      "dev accuracy = 1.00000 dev macro-F1 = 1.00000\n",
      "epoch 49\n"
     ]
    },
    {
     "data": {
      "application/vnd.jupyter.widget-view+json": {
       "model_id": "8136b55c9609479a900a210224c39d89",
       "version_major": 2,
       "version_minor": 0
      },
      "text/plain": [
       "  0%|          | 0/140 [00:00<?, ?it/s]"
      ]
     },
     "metadata": {},
     "output_type": "display_data"
    },
    {
     "name": "stdout",
     "output_type": "stream",
     "text": [
      "train accuracy = 1.00000 train macro-F1 = 1.00000\n",
      "dev accuracy = 1.00000 dev macro-F1 = 1.00000\n",
      "total training time: 0:05:53.888752\n"
     ]
    }
   ],
   "source": [
    "train(model, train_loader)"
   ]
  },
  {
   "cell_type": "code",
   "execution_count": 73,
   "id": "368adb6e-42ec-48ba-a502-41783ee28d19",
   "metadata": {},
   "outputs": [
    {
     "data": {
      "text/plain": [
       "<matplotlib.legend.Legend at 0x2061c6af250>"
      ]
     },
     "execution_count": 73,
     "metadata": {},
     "output_type": "execute_result"
    },
    {
     "data": {
      "image/png": "[encoded data removed]",
      "text/plain": [
       "<Figure size 432x288 with 1 Axes>"
      ]
     },
     "metadata": {
      "needs_background": "light"
     },
     "output_type": "display_data"
    }
   ],
   "source": [
    "plt.plot(range(num_epochs), epoch_train_accuracy, label='train accuracy vs epoch', color='red' )\n",
    "plt.plot(range(num_epochs), epoch_train_F1, label='train F1 vs epoch', color='blue' )\n",
    "plt.plot(range(num_epochs), epoch_dev_accuracy, label='validation accuracy vs epoch', color='green' )\n",
    "plt.plot(range(num_epochs), epoch_dev_F1, label='validation F1 vs epoch', color='orange' )\n",
    "plt.xlabel('epoch')\n",
    "plt.ylabel('value')\n",
    "plt.legend()"
   ]
  },
  {
   "cell_type": "code",
   "execution_count": 82,
   "id": "c5bc7b3b-b79b-4fa3-bf48-ad5cba8db147",
   "metadata": {},
   "outputs": [
    {
     "name": "stdout",
     "output_type": "stream",
     "text": [
      "test accuracy = 1.00000 test macro-F1 = 1.00000\n"
     ]
    }
   ],
   "source": [
    "test_accuracy, test_F1 = evaluate(model, test_loader, 'test')\n",
    "print('test accuracy = {val1:0.5f}'.format(val1=test_accuracy), 'test macro-F1 = {val2:0.5f}'.format(val2=test_F1))"
   ]
  },
  {
   "cell_type": "markdown",
   "id": "606f3489-4154-43be-83b6-201c187ff23c",
   "metadata": {},
   "source": []
  }
 ],
 "metadata": {
  "kernelspec": {
   "display_name": "Python 3",
   "language": "python",
   "name": "python3"
  },
  "language_info": {
   "codemirror_mode": {
    "name": "ipython",
    "version": 3
   },
   "file_extension": ".py",
   "mimetype": "text/x-python",
   "name": "python",
   "nbconvert_exporter": "python",
   "pygments_lexer": "ipython3",
   "version": "3.8.8"
  }
 },
 "nbformat": 4,
 "nbformat_minor": 5
}